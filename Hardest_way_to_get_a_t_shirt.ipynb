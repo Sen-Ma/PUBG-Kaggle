{
  "nbformat": 4,
  "nbformat_minor": 0,
  "metadata": {
    "colab": {
      "name": "Hardest way to get a t-shirt.ipynb",
      "provenance": [],
      "collapsed_sections": [],
      "authorship_tag": "ABX9TyPKZMv7nqwngnEbVFNJP9Zg",
      "include_colab_link": true
    },
    "kernelspec": {
      "name": "python3",
      "display_name": "Python 3"
    },
    "accelerator": "GPU"
  },
  "cells": [
    {
      "cell_type": "markdown",
      "metadata": {
        "id": "view-in-github",
        "colab_type": "text"
      },
      "source": [
        "<a href=\"https://colab.research.google.com/github/Sen-Ma/PUBG-Kaggle/blob/master/Hardest_way_to_get_a_t_shirt.ipynb\" target=\"_parent\"><img src=\"https://colab.research.google.com/assets/colab-badge.svg\" alt=\"Open In Colab\"/></a>"
      ]
    },
    {
      "cell_type": "code",
      "metadata": {
        "id": "JUOPCsVtUxyB",
        "colab_type": "code",
        "outputId": "4f067386-f85b-4129-bbac-da0962df7c0d",
        "colab": {
          "base_uri": "https://localhost:8080/",
          "height": 127
        }
      },
      "source": [
        "from google.colab import drive\n",
        "drive.mount('/content/gdrive')"
      ],
      "execution_count": 1,
      "outputs": [
        {
          "output_type": "stream",
          "text": [
            "Go to this URL in a browser: https://accounts.google.com/o/oauth2/auth?client_id=947318989803-6bn6qk8qdgf4n4g3pfee6491hc0brc4i.apps.googleusercontent.com&redirect_uri=urn%3aietf%3awg%3aoauth%3a2.0%3aoob&response_type=code&scope=email%20https%3a%2f%2fwww.googleapis.com%2fauth%2fdocs.test%20https%3a%2f%2fwww.googleapis.com%2fauth%2fdrive%20https%3a%2f%2fwww.googleapis.com%2fauth%2fdrive.photos.readonly%20https%3a%2f%2fwww.googleapis.com%2fauth%2fpeopleapi.readonly\n",
            "\n",
            "Enter your authorization code:\n",
            "··········\n",
            "Mounted at /content/gdrive\n"
          ],
          "name": "stdout"
        }
      ]
    },
    {
      "cell_type": "code",
      "metadata": {
        "id": "lizLw5O4VMqk",
        "colab_type": "code",
        "colab": {
          "base_uri": "https://localhost:8080/",
          "height": 81
        },
        "outputId": "888b66e3-d107-4756-d1a1-78ab7b52eb99"
      },
      "source": [
        "import numpy as np \n",
        "import pandas as pd \n",
        "import matplotlib.pyplot as plt\n",
        "import tensorflow as tf \n",
        "import re\n",
        "import gc\n",
        "import os\n",
        "import datetime\n",
        "\n",
        "kernel_start_time = datetime.datetime.now()"
      ],
      "execution_count": 2,
      "outputs": [
        {
          "output_type": "display_data",
          "data": {
            "text/html": [
              "<p style=\"color: red;\">\n",
              "The default version of TensorFlow in Colab will soon switch to TensorFlow 2.x.<br>\n",
              "We recommend you <a href=\"https://www.tensorflow.org/guide/migrate\" target=\"_blank\">upgrade</a> now \n",
              "or ensure your notebook will continue to use TensorFlow 1.x via the <code>%tensorflow_version 1.x</code> magic:\n",
              "<a href=\"https://colab.research.google.com/notebooks/tensorflow_version.ipynb\" target=\"_blank\">more info</a>.</p>\n"
            ],
            "text/plain": [
              "<IPython.core.display.HTML object>"
            ]
          },
          "metadata": {
            "tags": []
          }
        }
      ]
    },
    {
      "cell_type": "code",
      "metadata": {
        "id": "9WNlLHKEU6Vs",
        "colab_type": "code",
        "colab": {}
      },
      "source": [
        "train = pd.read_csv('/content/gdrive/My Drive/pubg/train_V2.csv')\n",
        "test = pd.read_csv('/content/gdrive/My Drive/pubg/test_V2.csv')"
      ],
      "execution_count": 0,
      "outputs": []
    },
    {
      "cell_type": "code",
      "metadata": {
        "id": "tLQg81v7V91S",
        "colab_type": "code",
        "colab": {}
      },
      "source": [
        "def reduce_mem_usage(df):\n",
        "  for col in df.columns : \n",
        "    col_type = df[col].dtype\n",
        "\n",
        "    if col_type != object:\n",
        "      c_min = df[col].min()\n",
        "      c_max = df[col].max()\n",
        "      if str(col_type)[:3] == 'int':\n",
        "        if c_min > np.iinfo(np.int8).min and c_max < np.iinfo(np.int8).max:\n",
        "          df[col] = df[col].astype(np.int8)\n",
        "        elif c_min > np.iinfo(np.int16).min and c_max < np.iinfo(np.int16).max:\n",
        "          df[col] = df[col].astype(np.int16)\n",
        "        elif c_min > np.iinfo(np.int32).min and c_max < np.iinfo(np.int32).max:\n",
        "          df[col] = df[col].astype(np.int32)\n",
        "        elif c_min > np.iinfo(np.int64).min and c_max < np.iinfo(np.int64).max:\n",
        "          df[col] = df[col].astype(np.int64)\n",
        "      else : \n",
        "        if c_min > np.finfo(np.float16).min and c_max < np.finfo(np.float16).max:\n",
        "          df[col] = df[col].astype(np.float16)\n",
        "        elif c_min > np.finfo(np.float32).min and c_max < np.finfo(np.float32).max:\n",
        "          df[col] = df[col].astype(np.float32)\n",
        "        else :\n",
        "          df[col] = df[col].astype(np.float64)\n",
        "    col_type = str(df[col].dtype)\n",
        "    if col_type == 'object':\n",
        "      col_type = 'str'\n",
        "    else : \n",
        "      col_type = 'np.' + col_type\n",
        "  return df"
      ],
      "execution_count": 0,
      "outputs": []
    },
    {
      "cell_type": "code",
      "metadata": {
        "id": "m-Q5kd5KXTn8",
        "colab_type": "code",
        "colab": {}
      },
      "source": [
        "data_types = {'Id' : str, 'groupId':str, 'matchId' : str, 'assists' : np.int8, 'boosts' : np.int8, 'damageDealt' : np.float16, 'DBNOs' : np.int8, 'heatshotKills' : np.int8, 'heals' : np.int8, 'killPlace' : np.int8, 'killPoints' : np.int16, 'kills':np.int8, 'killStreaks':np.int8, 'longestKill' : np.float16, 'matchDuration' : np.int16, 'matchType' : str, 'maxPlace': np.int8, 'numGroups' : np.int8, 'rankPoints' : np.int16, 'revives' : np.int8, 'rideDistance' : np.float16, 'roadKills' : np.int8, 'swimDistance' : np.float16, 'teamKills': np.int8, 'vehicleDestorys' : np.int8, 'walkDistance' : np.float16, 'weaponsAcquired' : np.int16, 'winPoints':np.int16, 'winPlacePerc' : np.float16}"
      ],
      "execution_count": 0,
      "outputs": []
    },
    {
      "cell_type": "code",
      "metadata": {
        "id": "iZiVa2BJYgv0",
        "colab_type": "code",
        "colab": {}
      },
      "source": [
        "data_types['walkDistance'] = np.float32\n",
        "data_types['rideDistance'] = np.float32\n",
        "data_types['damageDealt'] = np.float32"
      ],
      "execution_count": 0,
      "outputs": []
    },
    {
      "cell_type": "code",
      "metadata": {
        "id": "mejn83g4Yyi6",
        "colab_type": "code",
        "colab": {}
      },
      "source": [
        "zero_stdev_cols = ['median_match_roadKills', 'median_match_vehicleDestorys', 'median_match_road_kills_per_rideDistance', 'std_match_longestKill']\n",
        "ulesess_stat_cols = ['median_match_revives', 'rmedian_match_teamKills', 'median_match_swimDistance_norm', 'max_match_kill_streak_rate','max_group_roadKills','min_group_roadKills','median_match_assists','sum_group_roadKills','sum_group_vechicleDestorys','min_group_vehicleDestorys']\n",
        "useless_match_type_names = ['normal-duo','flarefpp','normal-solo','crashtpp','normal-squad','flaretpp','normal-duo-fpp','normal-squadfpp','normal-squad-fpp','crashfpp','duo','squad-fpp','squad-fpp','normal-solo-fpp']\n",
        "all_useless_cols = zero_stdev_cols + ulesess_stat_cols + useless_match_type_names\n",
        "all_useless_cols = set(all_useless_cols)\n",
        "min_match_useful_cols = ['min_match_rankPoints', 'min_match_winPoints','min_match_killPoints']"
      ],
      "execution_count": 0,
      "outputs": []
    },
    {
      "cell_type": "code",
      "metadata": {
        "id": "0qxmuk0CfAY5",
        "colab_type": "code",
        "colab": {}
      },
      "source": [
        "def fix_missing_ranks(X, mean_ranks = None, rank_stds = None, rank_cols = ['rankPoints','winPoints']):\n",
        "  if (mean_ranks is None) or (rank_stds is None):\n",
        "    mean_ranks = {}\n",
        "    rank_stds = {}\n",
        "\n",
        "    for rank_col in rank_cols :\n",
        "      mean_ranks[rank_col] = X.loc[X[rank_col] > 1, rank_col].mean()\n",
        "      rank_stds[rank_col] = X.loc[X[rank_col] > 1, rank_col].std()\n",
        "\n",
        "  rank_deltas = (X.loc[(X['rankPoints']>1)&(X['winPoints'] <= 1), 'rankPoints'] - mean_ranks['rankPoints']) / rank_stds['rankPoints']\n",
        "  X.loc[(X['rankPoints'] > 1)&(X['winPoints'] <=1), 'winPoints'] = mean_ranks['winPoints'] + rank_stds['winPoints']*rank_deltas\n",
        "  \n",
        "  win_deltas = (X.loc[(X['rankPoints'] <= 1) & (X['winPoints'] > 1), 'winPoints'] - mean_ranks['winPoints']) / rank_stds['winPoints']\n",
        "  X.loc[(X['rankPoints'] <= 1) & (X['winPoints']>1), 'rankPoints'] = mean_ranks['rankPoints'] + rank_stds['rankPoints']*win_deltas\n",
        "  \n",
        "  X.loc[(X['rankPoints'] <= 1) & (X['winPoints'] <= 1), 'rankPoints'] = mean_ranks['rankPoints']\n",
        "  X.loc[(X['rankPoints'] <= 1) & (X['winPoints'] <= 1), 'winPoints'] = mean_ranks['winPoints']\n",
        "\n",
        "\n",
        "  return X, mean_ranks, rank_stds"
      ],
      "execution_count": 0,
      "outputs": []
    },
    {
      "cell_type": "code",
      "metadata": {
        "id": "V7pSlnSfhd_c",
        "colab_type": "code",
        "colab": {}
      },
      "source": [
        "def add_player_features(X):\n",
        "  X['headshot_rate'] = X['headshotKills'] / (X['kills'] + 0.00001)\n",
        "  X['kill_streak_rate'] = X['killStreaks'] / (X['kills'] + 0.00001)\n",
        "  X['kills_assists'] = X['kills'] + X['assists']\n",
        "  X['heals_boosts'] = X['heals'] + X['boosts']\n",
        "  X['total_distance'] = X['walkDistance'] + X['rideDistance'] + X['swimDistance']\n",
        "  X['kills_assists_per_heal_boost'] = X['kills_assists'] / (X['heals_boosts'] + 1)\n",
        "  X['road_kills_per_ride_Distance'] = X['roadKills'] / (X['rideDistance'] + 0.01)\n",
        "  X['maxPlace_per_numGroups'] = X['maxPlace'] / X['numGroups']\n",
        "  X['assists_per_kill'] = X['assists'] / (X['kills'] + X['assists'] + 0.00001)\n",
        "  X['killPlace'] = X['killPlace'] - 1\n",
        "  return X "
      ],
      "execution_count": 0,
      "outputs": []
    },
    {
      "cell_type": "code",
      "metadata": {
        "id": "ziiy-alLUBgL",
        "colab_type": "code",
        "colab": {}
      },
      "source": [
        "def create_basic_group_info(X):\n",
        "  group_cols = ['matchId', 'groupId', 'matchDuration', 'matchType', 'maxPlace', 'numGroups','maxPlace_per_numGroups','winPlacePerc','killPlace']\n",
        "  if 'winPlacePerc' not in X.columns:\n",
        "    group_cols.remove('winPlacePerc')\n",
        "\n",
        "  pl_data_grouped = X[group_cols].groupby(['matchId', 'groupId'])\n",
        "  gr_data = pl_data_grouped.first()\n",
        "  gr_data.drop(columns = 'killPlace', inplace = True)\n",
        "\n",
        "  gr_data['raw_groupSize'] = pl_data_grouped['numGroups'].count()\n",
        "  gr_data['groupSize'] = gr_data['raw_groupSize']\n",
        "  gr_data['group_size_overflow'] = (gr_data['groupSize'] > 4).astype(np.int8)\n",
        "  gr_data.loc[gr_data['groupSize'] > 4, ['groupSize']] = 2\n",
        "  gr_data['meanGroupSize'] = gr_data.groupby('matchId')['groupSize'].transform(np.mean)\n",
        "  gr_data['medianGroupSize'] = gr_data.groupby('matchId')['groupSize'].transform(np.median)\n",
        "  gr_data['maxKillPlace'] = pl_data_grouped['killPlace'].max().groupby('matchId').transform(np.max)\n",
        "  \n",
        "  gr_data['totalPlayers'] = gr_data.groupby('matchId')['groupSize'].transform(sum)\n",
        "  gr_data['totalPlayersAdjusted'] = gr_data['maxPlace'].astype(float)*gr_data['totalPlayers'] / gr_data['totalPlayersAdjusted'].apply(lambda x : np.minimum(100.0, x))\n",
        "  gr_data['num_opponents'] = gr_data['totalPlayersAdjusted'] - gr_data['groupSize']\n",
        "\n",
        "  X = X.merge(gr_data[['num_opponents', 'totalPlayersAdjusted', 'groupSize', 'raw_groupSize', 'maxKillPlace']], on= ['matchId', 'groupId'])\n",
        "\n",
        "  print('group size counts : ')\n",
        "  print(X['raw_groupSize'].value_counts())\n",
        "\n",
        "  X['revives_per_groupSize'] = X['revives'] / (X['groupSize'] -1+0.001)\n",
        "  X['kills_assists_norm_both'] = X['kills_assists'].astype(np.float32) / X['num_opponents'] / X['matchDuration']\n",
        "  \n",
        "  X['killPlace_norm'] = X['killPlace']/(X['maxKillPlace'] + 0.000001)\n",
        "\n",
        "  X['damageDealt_norm_both'] = X['damageDealt'].astype(np.float32) / X['num_oppnents'] / X['matchDuration']\n",
        "  X['DBNOs_norm'] = X['DBNOs'].astype(np.float32) / X['num_oppnents'] / X['matchDuration']\n",
        "  X['heals_norm'] = X['heals'].astype(np.float32) / X['matchDuration']\n",
        "  X['boosts_norm'] = X['boosts'].astype(np.float32) / X['matchDuration']\n",
        "  X['walkDistance_norm'] = X['walkDistance'].astype(np.float32) / X['matchDuration']\n",
        "  X['rideDistance_norm'] = X['rideDistance'].astype(np.float32) / X['matchDurtaion']\n",
        "  X['swimDistance_norm'] = X['swimDistance'].astype(np.float32) / X['matchDurtaion']\n",
        "\n",
        "  "
      ],
      "execution_count": 0,
      "outputs": []
    },
    {
      "cell_type": "code",
      "metadata": {
        "id": "qnedLjfENjQd",
        "colab_type": "code",
        "colab": {}
      },
      "source": [
        ""
      ],
      "execution_count": 0,
      "outputs": []
    }
  ]
}