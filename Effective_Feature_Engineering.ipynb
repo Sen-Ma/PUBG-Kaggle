{
  "nbformat": 4,
  "nbformat_minor": 0,
  "metadata": {
    "colab": {
      "name": "Effective Feature Engineering.ipynb",
      "provenance": [],
      "authorship_tag": "ABX9TyNFw5IpGvlpHnUr/m8h2WUZ",
      "include_colab_link": true
    },
    "kernelspec": {
      "name": "python3",
      "display_name": "Python 3"
    }
  },
  "cells": [
    {
      "cell_type": "markdown",
      "metadata": {
        "id": "view-in-github",
        "colab_type": "text"
      },
      "source": [
        "<a href=\"https://colab.research.google.com/github/Sen-Ma/PUBG-Kaggle/blob/master/Effective_Feature_Engineering.ipynb\" target=\"_parent\"><img src=\"https://colab.research.google.com/assets/colab-badge.svg\" alt=\"Open In Colab\"/></a>"
      ]
    },
    {
      "cell_type": "code",
      "metadata": {
        "id": "6I9F7XYVd73U",
        "colab_type": "code",
        "colab": {
          "base_uri": "https://localhost:8080/",
          "height": 126
        },
        "outputId": "9e6f0afe-17ab-47cf-f5d5-6d3469e99182"
      },
      "source": [
        "from google.colab import drive \n",
        "drive.mount('/content/gdrive')"
      ],
      "execution_count": 1,
      "outputs": [
        {
          "output_type": "stream",
          "text": [
            "Go to this URL in a browser: https://accounts.google.com/o/oauth2/auth?client_id=947318989803-6bn6qk8qdgf4n4g3pfee6491hc0brc4i.apps.googleusercontent.com&redirect_uri=urn%3aietf%3awg%3aoauth%3a2.0%3aoob&response_type=code&scope=email%20https%3a%2f%2fwww.googleapis.com%2fauth%2fdocs.test%20https%3a%2f%2fwww.googleapis.com%2fauth%2fdrive%20https%3a%2f%2fwww.googleapis.com%2fauth%2fdrive.photos.readonly%20https%3a%2f%2fwww.googleapis.com%2fauth%2fpeopleapi.readonly\n",
            "\n",
            "Enter your authorization code:\n",
            "··········\n",
            "Mounted at /content/gdrive\n"
          ],
          "name": "stdout"
        }
      ]
    },
    {
      "cell_type": "code",
      "metadata": {
        "id": "HLZyE0nJeEJ8",
        "colab_type": "code",
        "colab": {}
      },
      "source": [
        "import gc\n",
        "import time \n",
        "import numpy as np \n",
        "import pandas as pd \n",
        "import matplotlib.pyplot as plt \n",
        "import seaborn as sns \n",
        "\n",
        "import random \n",
        "random.seed(42)\n",
        "\n",
        "import warnings \n",
        "warnings.filterwarnings(\"ignore\", category = DeprecationWarning)\n",
        "\n",
        "def reload():\n",
        "  gc.collect()\n",
        "  df = pd.read_csv('/content/gdrive/My Drive/pubg/train_V2.csv')\n",
        "  invalid_match_id = df[df['winPlacePerc'].isna()]['matchId'].values\n",
        "  df = df[-df['matchId'].isin(invalid_match_ids)]\n",
        "  return df\n",
        "\n",
        "# train = pd.read_csv(\"/content/gdrive/My Drive/pubg/train_V2.csv\")"
      ],
      "execution_count": 0,
      "outputs": []
    },
    {
      "cell_type": "code",
      "metadata": {
        "id": "8ubSxpc_esrF",
        "colab_type": "code",
        "colab": {}
      },
      "source": [
        "df = reload()\n",
        "cols_to_drop = ['Id', 'groupId', 'matchId', 'matchType']\n",
        "cols_to_fit = [col for col in df.columns if col bot in cols_to_drop]\n",
        "corr = df[clos_to_fit].corr()\n",
        "\n",
        "plt.figure(figsize = (9,7))\n",
        "sns.headmap(\n",
        "    corr,\n",
        "    xticklabels = corr.columns.values,\n",
        "    yticklabels = corr.columns.values,\n",
        "    linecolor = 'white', \n",
        "    linewidths = 0.1,\n",
        "    cmap = \"RdBu\"\n",
        ")\n",
        "\n",
        "plt.show()\n",
        "\n",
        "agg = df.groupby9['groupId']).size().to_frame('players_in_team')\n",
        "df = df.merge(agg,how='left', on = ['groupId'])\n",
        "df['headshotKills_over_kills'] = df['headshotKills'] / df['kills']\n",
        "df['headshotKills_over_kills'].fillna(0, inplace =True)\n",
        "df['killPlace_over_maxPlace'] = df['killPlace'] / df['maxPlace']"
      ],
      "execution_count": 0,
      "outputs": []
    }
  ]
}