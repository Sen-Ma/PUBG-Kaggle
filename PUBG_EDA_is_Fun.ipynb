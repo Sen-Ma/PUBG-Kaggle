{
  "nbformat": 4,
  "nbformat_minor": 0,
  "metadata": {
    "colab": {
      "name": "PUBG_EDA_is_Fun.ipynb",
      "provenance": [],
      "authorship_tag": "ABX9TyNQuIAiRE4K6HV+GIGM3PQj",
      "include_colab_link": true
    },
    "kernelspec": {
      "name": "python3",
      "display_name": "Python 3"
    },
    "accelerator": "GPU"
  },
  "cells": [
    {
      "cell_type": "markdown",
      "metadata": {
        "id": "view-in-github",
        "colab_type": "text"
      },
      "source": [
        "<a href=\"https://colab.research.google.com/github/Sen-Ma/PUBG-Kaggle/blob/master/PUBG_EDA_is_Fun.ipynb\" target=\"_parent\"><img src=\"https://colab.research.google.com/assets/colab-badge.svg\" alt=\"Open In Colab\"/></a>"
      ]
    },
    {
      "cell_type": "code",
      "metadata": {
        "id": "KulOLGnY3oAy",
        "colab_type": "code",
        "outputId": "3f7a3e85-8e6a-4e6b-baaa-5d52924ff46d",
        "colab": {
          "base_uri": "https://localhost:8080/",
          "height": 35
        }
      },
      "source": [
        "from google.colab import drive \n",
        "drive.mount('/content/gdrive')\n"
      ],
      "execution_count": 1,
      "outputs": [
        {
          "output_type": "stream",
          "text": [
            "Drive already mounted at /content/gdrive; to attempt to forcibly remount, call drive.mount(\"/content/gdrive\", force_remount=True).\n"
          ],
          "name": "stdout"
        }
      ]
    },
    {
      "cell_type": "code",
      "metadata": {
        "id": "ghjNNJrD4INr",
        "colab_type": "code",
        "colab": {}
      },
      "source": [
        "import numpy as np \n",
        "import pandas as pd \n",
        "import matplotlib.pyplot as plt\n",
        "import seaborn as sns\n",
        "train = pd.read_csv(\"/content/gdrive/My Drive/pubg/train_V2.csv\")"
      ],
      "execution_count": 0,
      "outputs": []
    },
    {
      "cell_type": "code",
      "metadata": {
        "id": "Q3D0wz7k5FiY",
        "colab_type": "code",
        "outputId": "01711969-0c4e-42aa-a6ac-fc832cbb0fbb",
        "colab": {
          "base_uri": "https://localhost:8080/",
          "height": 647
        }
      },
      "source": [
        "train.info()\n",
        "len(train)"
      ],
      "execution_count": 3,
      "outputs": [
        {
          "output_type": "stream",
          "text": [
            "<class 'pandas.core.frame.DataFrame'>\n",
            "RangeIndex: 4446966 entries, 0 to 4446965\n",
            "Data columns (total 29 columns):\n",
            "Id                 object\n",
            "groupId            object\n",
            "matchId            object\n",
            "assists            int64\n",
            "boosts             int64\n",
            "damageDealt        float64\n",
            "DBNOs              int64\n",
            "headshotKills      int64\n",
            "heals              int64\n",
            "killPlace          int64\n",
            "killPoints         int64\n",
            "kills              int64\n",
            "killStreaks        int64\n",
            "longestKill        float64\n",
            "matchDuration      int64\n",
            "matchType          object\n",
            "maxPlace           int64\n",
            "numGroups          int64\n",
            "rankPoints         int64\n",
            "revives            int64\n",
            "rideDistance       float64\n",
            "roadKills          int64\n",
            "swimDistance       float64\n",
            "teamKills          int64\n",
            "vehicleDestroys    int64\n",
            "walkDistance       float64\n",
            "weaponsAcquired    int64\n",
            "winPoints          int64\n",
            "winPlacePerc       float64\n",
            "dtypes: float64(6), int64(19), object(4)\n",
            "memory usage: 983.9+ MB\n"
          ],
          "name": "stdout"
        },
        {
          "output_type": "execute_result",
          "data": {
            "text/plain": [
              "4446966"
            ]
          },
          "metadata": {
            "tags": []
          },
          "execution_count": 3
        }
      ]
    },
    {
      "cell_type": "code",
      "metadata": {
        "id": "fWvDMsx9_IWt",
        "colab_type": "code",
        "outputId": "113f258d-a3f2-41d1-d5cb-7616d731f8db",
        "colab": {
          "base_uri": "https://localhost:8080/",
          "height": 35
        }
      },
      "source": [
        "solo = train[train['numGroups']>50]\n",
        "solo.assists.mean()"
      ],
      "execution_count": 4,
      "outputs": [
        {
          "output_type": "execute_result",
          "data": {
            "text/plain": [
              "0.05778220899125807"
            ]
          },
          "metadata": {
            "tags": []
          },
          "execution_count": 4
        }
      ]
    },
    {
      "cell_type": "markdown",
      "metadata": {
        "id": "Z5KRC0yh-QNu",
        "colab_type": "text"
      },
      "source": [
        "여기서 의아한 것은 <br>\n",
        "assists - Number of enemy players this player damaged that were killed by teammates.<br>\n",
        "팀원이 죽인 적 플레이어에게 데미지를 입힌 숫자를 말하는데, 혼자 플레이 하게 되는 solo play의 경우에도 평균값이 0이 아니며, 심지어 max값은 5에 이른다는 점이다. \n",
        "\n",
        "개인적으로 생각해 보았을떄는, 플레이어가 상대에게 데미지를 입힌 숫자를 뜻하는 것 같다. \n",
        "\n",
        "즉, kills + assists = 데미지를 입힌 적의 총 숫자"
      ]
    },
    {
      "cell_type": "code",
      "metadata": {
        "id": "B2oFPnAy9xIs",
        "colab_type": "code",
        "outputId": "03c5a879-af20-4f2a-87d5-c3d8ba2b2604",
        "colab": {
          "base_uri": "https://localhost:8080/",
          "height": 224
        }
      },
      "source": [
        "train.head()"
      ],
      "execution_count": 5,
      "outputs": [
        {
          "output_type": "execute_result",
          "data": {
            "text/html": [
              "<div>\n",
              "<style scoped>\n",
              "    .dataframe tbody tr th:only-of-type {\n",
              "        vertical-align: middle;\n",
              "    }\n",
              "\n",
              "    .dataframe tbody tr th {\n",
              "        vertical-align: top;\n",
              "    }\n",
              "\n",
              "    .dataframe thead th {\n",
              "        text-align: right;\n",
              "    }\n",
              "</style>\n",
              "<table border=\"1\" class=\"dataframe\">\n",
              "  <thead>\n",
              "    <tr style=\"text-align: right;\">\n",
              "      <th></th>\n",
              "      <th>Id</th>\n",
              "      <th>groupId</th>\n",
              "      <th>matchId</th>\n",
              "      <th>assists</th>\n",
              "      <th>boosts</th>\n",
              "      <th>damageDealt</th>\n",
              "      <th>DBNOs</th>\n",
              "      <th>headshotKills</th>\n",
              "      <th>heals</th>\n",
              "      <th>killPlace</th>\n",
              "      <th>killPoints</th>\n",
              "      <th>kills</th>\n",
              "      <th>killStreaks</th>\n",
              "      <th>longestKill</th>\n",
              "      <th>matchDuration</th>\n",
              "      <th>matchType</th>\n",
              "      <th>maxPlace</th>\n",
              "      <th>numGroups</th>\n",
              "      <th>rankPoints</th>\n",
              "      <th>revives</th>\n",
              "      <th>rideDistance</th>\n",
              "      <th>roadKills</th>\n",
              "      <th>swimDistance</th>\n",
              "      <th>teamKills</th>\n",
              "      <th>vehicleDestroys</th>\n",
              "      <th>walkDistance</th>\n",
              "      <th>weaponsAcquired</th>\n",
              "      <th>winPoints</th>\n",
              "      <th>winPlacePerc</th>\n",
              "    </tr>\n",
              "  </thead>\n",
              "  <tbody>\n",
              "    <tr>\n",
              "      <th>0</th>\n",
              "      <td>7f96b2f878858a</td>\n",
              "      <td>4d4b580de459be</td>\n",
              "      <td>a10357fd1a4a91</td>\n",
              "      <td>0</td>\n",
              "      <td>0</td>\n",
              "      <td>0.00</td>\n",
              "      <td>0</td>\n",
              "      <td>0</td>\n",
              "      <td>0</td>\n",
              "      <td>60</td>\n",
              "      <td>1241</td>\n",
              "      <td>0</td>\n",
              "      <td>0</td>\n",
              "      <td>0.00</td>\n",
              "      <td>1306</td>\n",
              "      <td>squad-fpp</td>\n",
              "      <td>28</td>\n",
              "      <td>26</td>\n",
              "      <td>-1</td>\n",
              "      <td>0</td>\n",
              "      <td>0.0000</td>\n",
              "      <td>0</td>\n",
              "      <td>0.00</td>\n",
              "      <td>0</td>\n",
              "      <td>0</td>\n",
              "      <td>244.80</td>\n",
              "      <td>1</td>\n",
              "      <td>1466</td>\n",
              "      <td>0.4444</td>\n",
              "    </tr>\n",
              "    <tr>\n",
              "      <th>1</th>\n",
              "      <td>eef90569b9d03c</td>\n",
              "      <td>684d5656442f9e</td>\n",
              "      <td>aeb375fc57110c</td>\n",
              "      <td>0</td>\n",
              "      <td>0</td>\n",
              "      <td>91.47</td>\n",
              "      <td>0</td>\n",
              "      <td>0</td>\n",
              "      <td>0</td>\n",
              "      <td>57</td>\n",
              "      <td>0</td>\n",
              "      <td>0</td>\n",
              "      <td>0</td>\n",
              "      <td>0.00</td>\n",
              "      <td>1777</td>\n",
              "      <td>squad-fpp</td>\n",
              "      <td>26</td>\n",
              "      <td>25</td>\n",
              "      <td>1484</td>\n",
              "      <td>0</td>\n",
              "      <td>0.0045</td>\n",
              "      <td>0</td>\n",
              "      <td>11.04</td>\n",
              "      <td>0</td>\n",
              "      <td>0</td>\n",
              "      <td>1434.00</td>\n",
              "      <td>5</td>\n",
              "      <td>0</td>\n",
              "      <td>0.6400</td>\n",
              "    </tr>\n",
              "    <tr>\n",
              "      <th>2</th>\n",
              "      <td>1eaf90ac73de72</td>\n",
              "      <td>6a4a42c3245a74</td>\n",
              "      <td>110163d8bb94ae</td>\n",
              "      <td>1</td>\n",
              "      <td>0</td>\n",
              "      <td>68.00</td>\n",
              "      <td>0</td>\n",
              "      <td>0</td>\n",
              "      <td>0</td>\n",
              "      <td>47</td>\n",
              "      <td>0</td>\n",
              "      <td>0</td>\n",
              "      <td>0</td>\n",
              "      <td>0.00</td>\n",
              "      <td>1318</td>\n",
              "      <td>duo</td>\n",
              "      <td>50</td>\n",
              "      <td>47</td>\n",
              "      <td>1491</td>\n",
              "      <td>0</td>\n",
              "      <td>0.0000</td>\n",
              "      <td>0</td>\n",
              "      <td>0.00</td>\n",
              "      <td>0</td>\n",
              "      <td>0</td>\n",
              "      <td>161.80</td>\n",
              "      <td>2</td>\n",
              "      <td>0</td>\n",
              "      <td>0.7755</td>\n",
              "    </tr>\n",
              "    <tr>\n",
              "      <th>3</th>\n",
              "      <td>4616d365dd2853</td>\n",
              "      <td>a930a9c79cd721</td>\n",
              "      <td>f1f1f4ef412d7e</td>\n",
              "      <td>0</td>\n",
              "      <td>0</td>\n",
              "      <td>32.90</td>\n",
              "      <td>0</td>\n",
              "      <td>0</td>\n",
              "      <td>0</td>\n",
              "      <td>75</td>\n",
              "      <td>0</td>\n",
              "      <td>0</td>\n",
              "      <td>0</td>\n",
              "      <td>0.00</td>\n",
              "      <td>1436</td>\n",
              "      <td>squad-fpp</td>\n",
              "      <td>31</td>\n",
              "      <td>30</td>\n",
              "      <td>1408</td>\n",
              "      <td>0</td>\n",
              "      <td>0.0000</td>\n",
              "      <td>0</td>\n",
              "      <td>0.00</td>\n",
              "      <td>0</td>\n",
              "      <td>0</td>\n",
              "      <td>202.70</td>\n",
              "      <td>3</td>\n",
              "      <td>0</td>\n",
              "      <td>0.1667</td>\n",
              "    </tr>\n",
              "    <tr>\n",
              "      <th>4</th>\n",
              "      <td>315c96c26c9aac</td>\n",
              "      <td>de04010b3458dd</td>\n",
              "      <td>6dc8ff871e21e6</td>\n",
              "      <td>0</td>\n",
              "      <td>0</td>\n",
              "      <td>100.00</td>\n",
              "      <td>0</td>\n",
              "      <td>0</td>\n",
              "      <td>0</td>\n",
              "      <td>45</td>\n",
              "      <td>0</td>\n",
              "      <td>1</td>\n",
              "      <td>1</td>\n",
              "      <td>58.53</td>\n",
              "      <td>1424</td>\n",
              "      <td>solo-fpp</td>\n",
              "      <td>97</td>\n",
              "      <td>95</td>\n",
              "      <td>1560</td>\n",
              "      <td>0</td>\n",
              "      <td>0.0000</td>\n",
              "      <td>0</td>\n",
              "      <td>0.00</td>\n",
              "      <td>0</td>\n",
              "      <td>0</td>\n",
              "      <td>49.75</td>\n",
              "      <td>2</td>\n",
              "      <td>0</td>\n",
              "      <td>0.1875</td>\n",
              "    </tr>\n",
              "  </tbody>\n",
              "</table>\n",
              "</div>"
            ],
            "text/plain": [
              "               Id         groupId  ... winPoints  winPlacePerc\n",
              "0  7f96b2f878858a  4d4b580de459be  ...      1466        0.4444\n",
              "1  eef90569b9d03c  684d5656442f9e  ...         0        0.6400\n",
              "2  1eaf90ac73de72  6a4a42c3245a74  ...         0        0.7755\n",
              "3  4616d365dd2853  a930a9c79cd721  ...         0        0.1667\n",
              "4  315c96c26c9aac  de04010b3458dd  ...         0        0.1875\n",
              "\n",
              "[5 rows x 29 columns]"
            ]
          },
          "metadata": {
            "tags": []
          },
          "execution_count": 5
        }
      ]
    },
    {
      "cell_type": "markdown",
      "metadata": {
        "id": "AYdlVnHhBbHb",
        "colab_type": "text"
      },
      "source": [
        "<b>The Killer"
      ]
    },
    {
      "cell_type": "code",
      "metadata": {
        "id": "TvTVlSMXBAgm",
        "colab_type": "code",
        "outputId": "bf9fe662-0c40-47e3-8428-ac5e21745dea",
        "colab": {
          "base_uri": "https://localhost:8080/",
          "height": 35
        }
      },
      "source": [
        "print(\"The average person kills {:.4f} players, 99% of people have {} kills or less, while the most kills ever recorded is {}.\" .format(train['kills'].mean(), train['kills'].quantile(0.99), train['kills'].max()))"
      ],
      "execution_count": 6,
      "outputs": [
        {
          "output_type": "stream",
          "text": [
            "The average person kills 0.9248 players, 99% of people have 7.0 kills or less, while the most kills ever recorded is 72.\n"
          ],
          "name": "stdout"
        }
      ]
    },
    {
      "cell_type": "code",
      "metadata": {
        "id": "vdJsghVoBsIP",
        "colab_type": "code",
        "outputId": "00b6a799-38a9-4c8d-bf8e-22b2905d1f68",
        "colab": {
          "base_uri": "https://localhost:8080/",
          "height": 623
        }
      },
      "source": [
        "data = train.copy()\n",
        "data.loc[data['kills'] > data['kills'].quantile(0.99)] = '8+'\n",
        "plt.figure(figsize = (15,10))\n",
        "sns.countplot(data['kills'].astype('str').sort_values())\n",
        "plt.title(\"Kill Count\", fontsize = 15)\n",
        "plt.show()"
      ],
      "execution_count": 7,
      "outputs": [
        {
          "output_type": "display_data",
          "data": {
            "image/png": "[encoded data removed]",
            "text/plain": [
              "<Figure size 1080x720 with 1 Axes>"
            ]
          },
          "metadata": {
            "tags": []
          }
        }
      ]
    },
    {
      "cell_type": "code",
      "metadata": {
        "id": "aqJau5OdCA9j",
        "colab_type": "code",
        "outputId": "25b72939-b7d5-412c-f95c-bd3e99b0e1e3",
        "colab": {
          "base_uri": "https://localhost:8080/",
          "height": 623
        }
      },
      "source": [
        "data = train.copy()\n",
        "data = data[data['kills'] == 0]\n",
        "plt.figure(figsize=(15,10))\n",
        "plt.title(\"Damage Dealt by 0 killers\", fontsize =15)\n",
        "sns.distplot(data['damageDealt'])\n",
        "plt.show()"
      ],
      "execution_count": 8,
      "outputs": [
        {
          "output_type": "display_data",
          "data": {
            "image/png": "[encoded data removed]",
            "text/plain": [
              "<Figure size 1080x720 with 1 Axes>"
            ]
          },
          "metadata": {
            "tags": []
          }
        }
      ]
    },
    {
      "cell_type": "code",
      "metadata": {
        "id": "lb1tGOkHCedS",
        "colab_type": "code",
        "outputId": "09189a65-aa5b-4666-dc19-8f182b48b90a",
        "colab": {
          "base_uri": "https://localhost:8080/",
          "height": 53
        }
      },
      "source": [
        "print(\"{} players ({:.4f}%) have won without a single kill!\".format(len(data[data['winPlacePerc']==1]), 100*len(data[data['winPlacePerc']==1])/len(train)))\n",
        "data1 = train[train['damageDealt']==0].copy()\n",
        "print(\"{} players ({:.4f}%) have won without dealing damage!\". format(len(data1[data1['winPlacePerc']==1]), 100*len(data1[data1['winPlacePerc']==1])/len(train)))"
      ],
      "execution_count": 9,
      "outputs": [
        {
          "output_type": "stream",
          "text": [
            "16666 players (0.3748%) have won without a single kill!\n",
            "4770 players (0.1073%) have won without dealing damage!\n"
          ],
          "name": "stdout"
        }
      ]
    },
    {
      "cell_type": "code",
      "metadata": {
        "id": "AxMYezpFDVVt",
        "colab_type": "code",
        "outputId": "2dd53a5e-3d34-498b-a165-76104825ef18",
        "colab": {
          "base_uri": "https://localhost:8080/",
          "height": 729
        }
      },
      "source": [
        "sns.jointplot(x = \"winPlacePerc\", y = \"kills\", data = train, height =10, ratio = 3, color = 'r')\n",
        "plt.show()"
      ],
      "execution_count": 10,
      "outputs": [
        {
          "output_type": "display_data",
          "data": {
            "image/png": "[encoded data removed]",
            "text/plain": [
              "<Figure size 720x720 with 3 Axes>"
            ]
          },
          "metadata": {
            "tags": []
          }
        }
      ]
    },
    {
      "cell_type": "code",
      "metadata": {
        "id": "pYlrvtSYEAhr",
        "colab_type": "code",
        "outputId": "29323b1a-f0b9-4394-b423-9e155388ee85",
        "colab": {
          "base_uri": "https://localhost:8080/",
          "height": 498
        }
      },
      "source": [
        "kills = train.copy()\n",
        "\n",
        "kills['killsCategories'] = pd.cut(kills['kills'], [-1,0,2,5,10,72], labels = ['0_kills', '1-2_kills', '3-5_kills', '6-10_kills', '10+kills'])\n",
        "\n",
        "plt.figure(figsize=(15,8))\n",
        "sns.boxplot(x = \"killsCategories\", y = \"winPlacePerc\", data = kills)\n",
        "plt.show()"
      ],
      "execution_count": 11,
      "outputs": [
        {
          "output_type": "display_data",
          "data": {
            "image/png": "[encoded data removed]",
            "text/plain": [
              "<Figure size 1080x576 with 1 Axes>"
            ]
          },
          "metadata": {
            "tags": []
          }
        }
      ]
    },
    {
      "cell_type": "code",
      "metadata": {
        "id": "RSpOcv207cAW",
        "colab_type": "code",
        "outputId": "44650228-9499-4b32-a71d-21efa51dd707",
        "colab": {
          "base_uri": "https://localhost:8080/",
          "height": 35
        }
      },
      "source": [
        "print(\"The average person walks for {:.1f}m, 99% of people have walked {}m or less, while the marathoner champion walked for {}m.\".format(train['walkDistance'].mean(), train['walkDistance'].quantile(0.99),train['walkDistance'].max()))"
      ],
      "execution_count": 12,
      "outputs": [
        {
          "output_type": "stream",
          "text": [
            "The average person walks for 1154.2m, 99% of people have walked 4396.0m or less, while the marathoner champion walked for 25780.0m.\n"
          ],
          "name": "stdout"
        }
      ]
    },
    {
      "cell_type": "code",
      "metadata": {
        "id": "b122IoXr88QN",
        "colab_type": "code",
        "outputId": "9fac34db-52d9-44c2-816f-257d73795584",
        "colab": {
          "base_uri": "https://localhost:8080/",
          "height": 623
        }
      },
      "source": [
        "data = train.copy()\n",
        "data = data[data['walkDistance'] < train['walkDistance'].quantile(0.99)]\n",
        "plt.figure(figsize = (15,10))\n",
        "plt.title(\"Walking Distance Distribution\", fontsize = 15)\n",
        "sns.distplot(data['walkDistance'])\n",
        "plt.show()"
      ],
      "execution_count": 13,
      "outputs": [
        {
          "output_type": "display_data",
          "data": {
            "image/png": "[encoded data removed]",
            "text/plain": [
              "<Figure size 1080x720 with 1 Axes>"
            ]
          },
          "metadata": {
            "tags": []
          }
        }
      ]
    },
    {
      "cell_type": "code",
      "metadata": {
        "id": "U9Qf7tnW9P2k",
        "colab_type": "code",
        "outputId": "0bf68c3e-4d6a-48a5-81d1-6f29cb38a9df",
        "colab": {
          "base_uri": "https://localhost:8080/",
          "height": 35
        }
      },
      "source": [
        "print(\"{} players ({:.4f}%) walked 0 meters. This means that they die before even taking step or they are afk (more possible).\".format(len(data[data['walkDistance'] == 0]), 100*len(data1[data1['walkDistance']==0])/len(train)))"
      ],
      "execution_count": 14,
      "outputs": [
        {
          "output_type": "stream",
          "text": [
            "99603 players (2.0329%) walked 0 meters. This means that they die before even taking step or they are afk (more possible).\n"
          ],
          "name": "stdout"
        }
      ]
    },
    {
      "cell_type": "code",
      "metadata": {
        "id": "9DjSc6o59s1-",
        "colab_type": "code",
        "outputId": "7c8d0297-3e27-425d-db19-39b6ba84a79f",
        "colab": {
          "base_uri": "https://localhost:8080/",
          "height": 729
        }
      },
      "source": [
        "sns.jointplot(x = \"winPlacePerc\", y= \"walkDistance\", data = train, height = 10, ratio = 3, color = \"lime\")\n",
        "plt.show()"
      ],
      "execution_count": 15,
      "outputs": [
        {
          "output_type": "display_data",
          "data": {
            "image/png": "[encoded data removed]",
            "text/plain": [
              "<Figure size 720x720 with 3 Axes>"
            ]
          },
          "metadata": {
            "tags": []
          }
        }
      ]
    },
    {
      "cell_type": "code",
      "metadata": {
        "id": "tGsEj-EX-XmM",
        "colab_type": "code",
        "outputId": "401624f4-3ac5-4051-8327-de98e4c9e41a",
        "colab": {
          "base_uri": "https://localhost:8080/",
          "height": 35
        }
      },
      "source": [
        "print(\"The average person drives for {:.1f}m, 99% of people have drived {}m or less, while the formula 1 champion drived for {}m.\".format(train['rideDistance'].mean(), train['rideDistance'].quantile(0.99), train['rideDistance'].max()))"
      ],
      "execution_count": 16,
      "outputs": [
        {
          "output_type": "stream",
          "text": [
            "The average person drives for 606.1m, 99% of people have drived 6966.0m or less, while the formula 1 champion drived for 40710.0m.\n"
          ],
          "name": "stdout"
        }
      ]
    },
    {
      "cell_type": "code",
      "metadata": {
        "id": "CSStBpk5_w9F",
        "colab_type": "code",
        "colab": {}
      },
      "source": [
        "data = train.copy()\n",
        "data = data[data['rideDistance'] < train['rideDistance'].quantile(0.9)]\n",
        "plt.figure(figsize=(15,10))\n",
        "plt.title(\"Ride Distance Distribution\", fontsize = 15)\n",
        "sns.distplot(data['rideDistance'])\n",
        "plt.show()"
      ],
      "execution_count": 0,
      "outputs": []
    },
    {
      "cell_type": "code",
      "metadata": {
        "id": "tudNImFHAYA3",
        "colab_type": "code",
        "colab": {}
      },
      "source": [
        "print(\"{} players ({:.4f}%) drived for 0 meters. This means that they don't have a driving licence yet.\".format(len(data[data['rideDistance'] == 0]), 100*len(data1[data1['rideDistance']==0])/len(train)))"
      ],
      "execution_count": 0,
      "outputs": []
    },
    {
      "cell_type": "code",
      "metadata": {
        "id": "eLhCTWAz9qXk",
        "colab_type": "code",
        "colab": {}
      },
      "source": [
        "sns.jointplot(x = \"winPlacePerc\", y = \"rideDistance\", data= train, height=10, ratio = 3, color = \"y\")\n",
        "plt.show()"
      ],
      "execution_count": 0,
      "outputs": []
    },
    {
      "cell_type": "code",
      "metadata": {
        "id": "m1fkPl4A9z9U",
        "colab_type": "code",
        "colab": {}
      },
      "source": [
        "f, ax1 = plt.subplots(figsize = (20, 10))\n",
        "sns.pointplot(x = 'vehicleDestroys', y='winPlacePerc', data=data, color = '#606060', alpha = 0.8)\n",
        "plt.xlabel('Number of Vehicle Destroys', fontsize = 15, color = 'blue')\n",
        "plt.ylabel('Win Percentage', fontsize = 15, color = 'blue')\n",
        "plt.title('Vehicle Destroys/ WinRatio', fontsize =20, color=  'blue')\n",
        "plt.grid()\n",
        "plt.show()"
      ],
      "execution_count": 0,
      "outputs": []
    },
    {
      "cell_type": "markdown",
      "metadata": {
        "id": "Z06b_W-TPFHB",
        "colab_type": "text"
      },
      "source": [
        "The Swimmers"
      ]
    },
    {
      "cell_type": "code",
      "metadata": {
        "id": "0Z5JYju7-fEG",
        "colab_type": "code",
        "colab": {}
      },
      "source": [
        "print(\"The average person swims for {:.1f}m, 99% of people have swimemd {}m or less, while the olympic champion swimmed for {}m.\".format(train['swimDistance'].mean(), train['swimDistance'].quantile(0.99), train['swimDistance'].max()))"
      ],
      "execution_count": 0,
      "outputs": []
    },
    {
      "cell_type": "code",
      "metadata": {
        "id": "kBlE9Q4-PXJ3",
        "colab_type": "code",
        "colab": {}
      },
      "source": [
        "data = train.copy()\n",
        "data = data[data['swimDistance'] < train['swimDistance'].quantile(0.95)]\n",
        "plt.figure(figsize = (15,10))\n",
        "plt.title(\"Swim Distance Distribution\", fontsize = 15)\n",
        "sns.distplot(data['swimDistance'])\n",
        "plt.show()"
      ],
      "execution_count": 0,
      "outputs": []
    },
    {
      "cell_type": "code",
      "metadata": {
        "id": "yHkHyhDpPbc0",
        "colab_type": "code",
        "colab": {}
      },
      "source": [
        "swim = train.copy()\n",
        "swim['swimDistance'] = pd.cut(swim['swimDistance'], [-1, 0, 5, 20, 3824], labels = ['0m', '1-5m','6-20m','20m+'])\n",
        "plt.figure(figsize = (15,8))\n",
        "sns.boxplot(x = \"swimDistance\", y = \"winPlacePerc\", data = swim)\n",
        "plt.show()"
      ],
      "execution_count": 0,
      "outputs": []
    },
    {
      "cell_type": "markdown",
      "metadata": {
        "id": "rJpXYeTZSv4J",
        "colab_type": "text"
      },
      "source": [
        "The Healers"
      ]
    },
    {
      "cell_type": "code",
      "metadata": {
        "id": "i3HRy70BPsWj",
        "colab_type": "code",
        "colab": {}
      },
      "source": [
        "print(\"The average person uses {:.1f} heal items, 99% of people use {} or less, while the doctor used {}. \".format(train['heals'].mean(),train['heals'].quantile(0.99), train['heals'].max()))\n",
        "print(\"The average person uses {:.1f} boost items, 99% of people use {} or less, while the doctor used {}.\".format(train['boosts'].mean(), train['boosts'].quantile(0.99), train['boosts'].max()))"
      ],
      "execution_count": 0,
      "outputs": []
    },
    {
      "cell_type": "code",
      "metadata": {
        "id": "RNOPbxS1TAxX",
        "colab_type": "code",
        "colab": {}
      },
      "source": [
        "data = train.copy()\n",
        "data = data[data['heals'] < data['heals'].quantile(0.99)]\n",
        "data = data[data['boosts'] < data['boosts'].quantile(0.99)]\n",
        "\n",
        "f, ax = plt.subplots(figsize = (20,10))\n",
        "sns.pointplot(x = 'heals', y= 'winPlacePerc', data = data, color = 'lime', alpha = 0.8)\n",
        "sns.pointplot(x = 'boosts', y = 'winPlacePerc', data = data, color = 'blue', alpha = 0.8)\n",
        "plt.text(4,0.6, 'Heals', color = 'lime', fontsize = 17, style = 'italic')\n",
        "plt.text(4,0.55, 'Boosts', color = 'blue', fontsize = 17, style = 'italic')\n",
        "plt.title('Heals vs Boosts', fontsize = 20, color = 'blue')\n",
        "plt.grid()\n",
        "plt.show()"
      ],
      "execution_count": 0,
      "outputs": []
    },
    {
      "cell_type": "code",
      "metadata": {
        "id": "NiCr-p_wT6do",
        "colab_type": "code",
        "colab": {}
      },
      "source": [
        "sns.jointplot(x = \"winPlacePerc\", y = \"heals\", data = train, height = 10, ratio = 3, color = \"lime\")\n",
        "plt.show()"
      ],
      "execution_count": 0,
      "outputs": []
    },
    {
      "cell_type": "code",
      "metadata": {
        "id": "Q2bphlLjV6_z",
        "colab_type": "code",
        "colab": {}
      },
      "source": [
        "sns.jointplot(x = \"winPlacePerc\", y = \"boosts\", data = train, height = 10, ratio = 3, color = \"blue\")\n",
        "plt.show()"
      ],
      "execution_count": 0,
      "outputs": []
    },
    {
      "cell_type": "code",
      "metadata": {
        "id": "_fUWBciZWLkL",
        "colab_type": "code",
        "colab": {}
      },
      "source": [
        "solos = train[train['numGroups']>50]\n",
        "duos = train[(train['numGroups']>25) & (train['numGroups']<=50)]\n",
        "squads = train[train['numGroups']<=25]\n",
        "\n",
        "print(\"There are {} ({:.2f}%) solo games, {} ({:.2f}%) duo games and {} ({:.2f}%) squad games.\".format(len(solos), 100*len(solos)/ len(train), len(duos), 100*len(duos)/len(train), len(squads), 100*len(squads)/len(train),))"
      ],
      "execution_count": 0,
      "outputs": []
    },
    {
      "cell_type": "code",
      "metadata": {
        "id": "1J4WaFE0W7Gy",
        "colab_type": "code",
        "colab": {}
      },
      "source": [
        "f, ax1 = plt.subplots(figsize = (20,10))\n",
        "sns.pointplot(x = 'kills', y = 'winPlacePerc', data = solos, color = 'black', alpha = 0.8)\n",
        "sns.pointplot(x = 'kills', y = 'winPlacePerc', data = duos, color = '#CC0000', alpha = 0.8)\n",
        "sns.pointplot(x = 'kills', y = 'winPlacePerc', data = squads, color = '#3399FF', alpha = 0.8)\n",
        "\n",
        "plt.text(37,0.6, 'Solos',color = 'black', fontsize = 17, style = 'italic')\n",
        "plt.text(37,0.55, 'Duos', color = '#CC0000', fontsize = 17, style = 'italic')\n",
        "plt.text(37,0.5, 'Squads', color = '#3399FF', fontsize = 17, style = 'italic')\n",
        "plt.xlabel('Number of kills', fontsize = 15, color = 'blue')\n",
        "plt.ylabel('WinPercentage', fontsize = 15, color = 'blue')\n",
        "plt.title('Solo vs Duo vs Squads Kills', fontsize = 20, color = 'blue')\n",
        "plt.grid()\n",
        "plt.show()"
      ],
      "execution_count": 0,
      "outputs": []
    },
    {
      "cell_type": "code",
      "metadata": {
        "id": "I2aFSBRnX956",
        "colab_type": "code",
        "colab": {}
      },
      "source": [
        ""
      ],
      "execution_count": 0,
      "outputs": []
    }
  ]
}