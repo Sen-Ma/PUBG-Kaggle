{
 "cells": [
  {
   "cell_type": "code",
   "execution_count": 1,
   "metadata": {
    "colab": {
     "base_uri": "https://localhost:8080/",
     "height": 55
    },
    "colab_type": "code",
    "id": "YSwTXU5iuuo7",
    "outputId": "5fdbabd1-f8ff-4908-dea0-1f4ea4d52c3b"
   },
   "outputs": [],
   "source": [
    "# from google.colab import drive \n",
    "# drive.mount('/content/gdrive')\n",
    "\n",
    "import pandas as pd \n",
    "import numpy as np \n",
    "import matplotlib.pyplot as plt\n",
    "import seaborn as sns\n",
    "import itertools\n",
    "import gc\n",
    "import os \n",
    "import sys\n",
    "sns.set_style('darkgrid')\n",
    "sns.set_palette('bone')\n",
    "\n",
    "pd.options.display.float_format = '{:.3f}'.format"
   ]
  },
  {
   "cell_type": "code",
   "execution_count": 2,
   "metadata": {
    "colab": {},
    "colab_type": "code",
    "id": "w6PdZ56XuupB"
   },
   "outputs": [],
   "source": [
    "def toTapleList(list1, list2):\n",
    "    return list(itertools.product(list1, list2))"
   ]
  },
  {
   "cell_type": "code",
   "execution_count": 3,
   "metadata": {
    "colab": {},
    "colab_type": "code",
    "id": "9DMPwuHouupF"
   },
   "outputs": [],
   "source": [
    "def reduce_mem_usage(df):\n",
    "    \n",
    "    start_mem = df.memory_usage().sum() / 1024**2\n",
    "    \n",
    "    for col in df.columns : \n",
    "        col_type = df[col].dtype\n",
    "        \n",
    "        if col_type  != object :\n",
    "            c_min = df[col].min()\n",
    "            c_max = df[col].max()\n",
    "            if str(col_type)[:3] == 'int':\n",
    "                if c_min > np.iinfo(np.int8).min and c_max < np.iinfo(np.int8).max:\n",
    "                    df[col] = df[col].astype(np.int8)\n",
    "                elif c_min > np.iinfo(np.int16).min and c_max < np.iinfo(np.int16).max:\n",
    "                    df[col] = df[col].astype(np.int16)\n",
    "                elif c_min > np.iinfo(np.int32).min and c_max < np.iinfo(np.int32).max:\n",
    "                    df[col] = df[col].astype(np.int32)\n",
    "                elif c_min > np.iinfo(np.int64).min and c_max < np.iinfo(np.int64).max:\n",
    "                    df[col] = df[col].astype(np.int64)\n",
    "                    \n",
    "            else : \n",
    "                if c_min>np.finfo(np.float32).min and c_max < np.finfo(np.float32).max:\n",
    "                    df[col] = df[col].astype(np.float32)\n",
    "                else : \n",
    "                    df[col] = df[col].astype(np.float64)\n",
    "                    \n",
    "    end_mem = df.memory_usage().sum() / 1024**2\n",
    "    print(\"Memory usage of dataframe is {:.2f}MB --> {:.2f} MB (Decreased by {:.1f}%)\".format(start_mem, end_mem, 100*(start_mem - end_mem) / start_mem))\n",
    "    return df"
   ]
  },
  {
   "cell_type": "code",
   "execution_count": 4,
   "metadata": {
    "colab": {
     "base_uri": "https://localhost:8080/",
     "height": 106
    },
    "colab_type": "code",
    "id": "08NuwmFtuupJ",
    "outputId": "fb6a1060-18cf-42cf-f6c0-d712381de35b"
   },
   "outputs": [
    {
     "name": "stdout",
     "output_type": "stream",
     "text": [
      "Memory usage of dataframe is 983.90MB --> 339.28 MB (Decreased by 65.5%)\n",
      "Memory usage of dataframe is 413.18MB --> 140.19 MB (Decreased by 66.1%)\n",
      "(4446966, 29) (1934174, 28)\n",
      "Wall time: 14.5 s\n"
     ]
    }
   ],
   "source": [
    "%%time \n",
    "# train = pd.read_csv('/content/gdrive/My Drive/pubg/train_V2.csv')\n",
    "train = pd.read_csv(\"train_V2.csv\")\n",
    "train = reduce_mem_usage(train)\n",
    "# test = pd.read_csv('/content/gdrive/My Drive/pubg/test_V2.csv')\n",
    "test = pd.read_csv(\"test_V2.csv\")\n",
    "test = reduce_mem_usage(test)\n",
    "print(train.shape, test.shape)"
   ]
  },
  {
   "cell_type": "code",
   "execution_count": 5,
   "metadata": {
    "colab": {
     "base_uri": "https://localhost:8080/",
     "height": 621
    },
    "colab_type": "code",
    "id": "PwJ8tGRkuupM",
    "outputId": "39ea1c20-146f-4ef0-8311-a8e9cd537433"
   },
   "outputs": [
    {
     "name": "stdout",
     "output_type": "stream",
     "text": [
      "<class 'pandas.core.frame.DataFrame'>\n",
      "RangeIndex: 4446966 entries, 0 to 4446965\n",
      "Data columns (total 29 columns):\n",
      "Id                 object\n",
      "groupId            object\n",
      "matchId            object\n",
      "assists            int8\n",
      "boosts             int8\n",
      "damageDealt        float32\n",
      "DBNOs              int8\n",
      "headshotKills      int8\n",
      "heals              int8\n",
      "killPlace          int8\n",
      "killPoints         int16\n",
      "kills              int8\n",
      "killStreaks        int8\n",
      "longestKill        float32\n",
      "matchDuration      int16\n",
      "matchType          object\n",
      "maxPlace           int8\n",
      "numGroups          int8\n",
      "rankPoints         int16\n",
      "revives            int8\n",
      "rideDistance       float32\n",
      "roadKills          int8\n",
      "swimDistance       float32\n",
      "teamKills          int8\n",
      "vehicleDestroys    int8\n",
      "walkDistance       float32\n",
      "weaponsAcquired    int16\n",
      "winPoints          int16\n",
      "winPlacePerc       float32\n",
      "dtypes: float32(6), int16(5), int8(14), object(4)\n",
      "memory usage: 339.3+ MB\n"
     ]
    }
   ],
   "source": [
    "train.info()"
   ]
  },
  {
   "cell_type": "code",
   "execution_count": 6,
   "metadata": {
    "colab": {
     "base_uri": "https://localhost:8080/",
     "height": 52
    },
    "colab_type": "code",
    "id": "XpdPb8PEuupQ",
    "outputId": "05f8bcbb-3461-4ae0-82de-0291c37c0e57"
   },
   "outputs": [
    {
     "name": "stdout",
     "output_type": "stream",
     "text": [
      "null count :  winPlacePerc    1\n",
      "dtype: int64\n"
     ]
    }
   ],
   "source": [
    "null_cnt = train.isnull().sum().sort_values()\n",
    "print('null count : ', null_cnt[null_cnt >0])"
   ]
  },
  {
   "cell_type": "code",
   "execution_count": 7,
   "metadata": {
    "colab": {
     "base_uri": "https://localhost:8080/",
     "height": 780
    },
    "colab_type": "code",
    "id": "fjYJyfvZuupU",
    "outputId": "fdab94a4-9c0a-462e-ac3d-9b843080bb68",
    "scrolled": false
   },
   "outputs": [
    {
     "data": {
      "text/html": [
       "<div>\n",
       "<style scoped>\n",
       "    .dataframe tbody tr th:only-of-type {\n",
       "        vertical-align: middle;\n",
       "    }\n",
       "\n",
       "    .dataframe tbody tr th {\n",
       "        vertical-align: top;\n",
       "    }\n",
       "\n",
       "    .dataframe thead th {\n",
       "        text-align: right;\n",
       "    }\n",
       "</style>\n",
       "<table border=\"1\" class=\"dataframe\">\n",
       "  <thead>\n",
       "    <tr style=\"text-align: right;\">\n",
       "      <th></th>\n",
       "      <th>mean</th>\n",
       "      <th>std</th>\n",
       "      <th>min</th>\n",
       "      <th>25%</th>\n",
       "      <th>50%</th>\n",
       "      <th>75%</th>\n",
       "      <th>max</th>\n",
       "    </tr>\n",
       "  </thead>\n",
       "  <tbody>\n",
       "    <tr>\n",
       "      <td>assists</td>\n",
       "      <td>0.234</td>\n",
       "      <td>0.589</td>\n",
       "      <td>0.000</td>\n",
       "      <td>0.000</td>\n",
       "      <td>0.000</td>\n",
       "      <td>0.000</td>\n",
       "      <td>22.000</td>\n",
       "    </tr>\n",
       "    <tr>\n",
       "      <td>boosts</td>\n",
       "      <td>1.107</td>\n",
       "      <td>1.716</td>\n",
       "      <td>0.000</td>\n",
       "      <td>0.000</td>\n",
       "      <td>0.000</td>\n",
       "      <td>2.000</td>\n",
       "      <td>33.000</td>\n",
       "    </tr>\n",
       "    <tr>\n",
       "      <td>damageDealt</td>\n",
       "      <td>130.633</td>\n",
       "      <td>169.887</td>\n",
       "      <td>0.000</td>\n",
       "      <td>0.000</td>\n",
       "      <td>84.240</td>\n",
       "      <td>186.000</td>\n",
       "      <td>6616.000</td>\n",
       "    </tr>\n",
       "    <tr>\n",
       "      <td>DBNOs</td>\n",
       "      <td>0.658</td>\n",
       "      <td>1.146</td>\n",
       "      <td>0.000</td>\n",
       "      <td>0.000</td>\n",
       "      <td>0.000</td>\n",
       "      <td>1.000</td>\n",
       "      <td>53.000</td>\n",
       "    </tr>\n",
       "    <tr>\n",
       "      <td>headshotKills</td>\n",
       "      <td>0.227</td>\n",
       "      <td>0.602</td>\n",
       "      <td>0.000</td>\n",
       "      <td>0.000</td>\n",
       "      <td>0.000</td>\n",
       "      <td>0.000</td>\n",
       "      <td>64.000</td>\n",
       "    </tr>\n",
       "    <tr>\n",
       "      <td>heals</td>\n",
       "      <td>1.370</td>\n",
       "      <td>2.680</td>\n",
       "      <td>0.000</td>\n",
       "      <td>0.000</td>\n",
       "      <td>0.000</td>\n",
       "      <td>2.000</td>\n",
       "      <td>80.000</td>\n",
       "    </tr>\n",
       "    <tr>\n",
       "      <td>killPlace</td>\n",
       "      <td>47.599</td>\n",
       "      <td>27.463</td>\n",
       "      <td>1.000</td>\n",
       "      <td>24.000</td>\n",
       "      <td>47.000</td>\n",
       "      <td>71.000</td>\n",
       "      <td>101.000</td>\n",
       "    </tr>\n",
       "    <tr>\n",
       "      <td>killPoints</td>\n",
       "      <td>505.006</td>\n",
       "      <td>627.505</td>\n",
       "      <td>0.000</td>\n",
       "      <td>0.000</td>\n",
       "      <td>0.000</td>\n",
       "      <td>1172.000</td>\n",
       "      <td>2170.000</td>\n",
       "    </tr>\n",
       "    <tr>\n",
       "      <td>kills</td>\n",
       "      <td>0.925</td>\n",
       "      <td>1.558</td>\n",
       "      <td>0.000</td>\n",
       "      <td>0.000</td>\n",
       "      <td>0.000</td>\n",
       "      <td>1.000</td>\n",
       "      <td>72.000</td>\n",
       "    </tr>\n",
       "    <tr>\n",
       "      <td>killStreaks</td>\n",
       "      <td>0.544</td>\n",
       "      <td>0.711</td>\n",
       "      <td>0.000</td>\n",
       "      <td>0.000</td>\n",
       "      <td>0.000</td>\n",
       "      <td>1.000</td>\n",
       "      <td>20.000</td>\n",
       "    </tr>\n",
       "    <tr>\n",
       "      <td>longestKill</td>\n",
       "      <td>22.993</td>\n",
       "      <td>51.476</td>\n",
       "      <td>0.000</td>\n",
       "      <td>0.000</td>\n",
       "      <td>0.000</td>\n",
       "      <td>21.320</td>\n",
       "      <td>1094.000</td>\n",
       "    </tr>\n",
       "    <tr>\n",
       "      <td>matchDuration</td>\n",
       "      <td>1579.506</td>\n",
       "      <td>258.740</td>\n",
       "      <td>9.000</td>\n",
       "      <td>1367.000</td>\n",
       "      <td>1438.000</td>\n",
       "      <td>1851.000</td>\n",
       "      <td>2237.000</td>\n",
       "    </tr>\n",
       "    <tr>\n",
       "      <td>maxPlace</td>\n",
       "      <td>44.505</td>\n",
       "      <td>23.828</td>\n",
       "      <td>1.000</td>\n",
       "      <td>28.000</td>\n",
       "      <td>30.000</td>\n",
       "      <td>49.000</td>\n",
       "      <td>100.000</td>\n",
       "    </tr>\n",
       "    <tr>\n",
       "      <td>numGroups</td>\n",
       "      <td>43.008</td>\n",
       "      <td>23.289</td>\n",
       "      <td>1.000</td>\n",
       "      <td>27.000</td>\n",
       "      <td>30.000</td>\n",
       "      <td>47.000</td>\n",
       "      <td>100.000</td>\n",
       "    </tr>\n",
       "    <tr>\n",
       "      <td>rankPoints</td>\n",
       "      <td>892.010</td>\n",
       "      <td>736.648</td>\n",
       "      <td>-1.000</td>\n",
       "      <td>-1.000</td>\n",
       "      <td>1443.000</td>\n",
       "      <td>1500.000</td>\n",
       "      <td>5910.000</td>\n",
       "    </tr>\n",
       "    <tr>\n",
       "      <td>revives</td>\n",
       "      <td>0.165</td>\n",
       "      <td>0.472</td>\n",
       "      <td>0.000</td>\n",
       "      <td>0.000</td>\n",
       "      <td>0.000</td>\n",
       "      <td>0.000</td>\n",
       "      <td>39.000</td>\n",
       "    </tr>\n",
       "    <tr>\n",
       "      <td>rideDistance</td>\n",
       "      <td>606.092</td>\n",
       "      <td>1496.470</td>\n",
       "      <td>0.000</td>\n",
       "      <td>0.000</td>\n",
       "      <td>0.000</td>\n",
       "      <td>0.191</td>\n",
       "      <td>40710.000</td>\n",
       "    </tr>\n",
       "    <tr>\n",
       "      <td>roadKills</td>\n",
       "      <td>0.003</td>\n",
       "      <td>0.073</td>\n",
       "      <td>0.000</td>\n",
       "      <td>0.000</td>\n",
       "      <td>0.000</td>\n",
       "      <td>0.000</td>\n",
       "      <td>18.000</td>\n",
       "    </tr>\n",
       "    <tr>\n",
       "      <td>swimDistance</td>\n",
       "      <td>4.509</td>\n",
       "      <td>30.238</td>\n",
       "      <td>0.000</td>\n",
       "      <td>0.000</td>\n",
       "      <td>0.000</td>\n",
       "      <td>0.000</td>\n",
       "      <td>3823.000</td>\n",
       "    </tr>\n",
       "    <tr>\n",
       "      <td>teamKills</td>\n",
       "      <td>0.024</td>\n",
       "      <td>0.167</td>\n",
       "      <td>0.000</td>\n",
       "      <td>0.000</td>\n",
       "      <td>0.000</td>\n",
       "      <td>0.000</td>\n",
       "      <td>12.000</td>\n",
       "    </tr>\n",
       "    <tr>\n",
       "      <td>vehicleDestroys</td>\n",
       "      <td>0.008</td>\n",
       "      <td>0.093</td>\n",
       "      <td>0.000</td>\n",
       "      <td>0.000</td>\n",
       "      <td>0.000</td>\n",
       "      <td>0.000</td>\n",
       "      <td>5.000</td>\n",
       "    </tr>\n",
       "    <tr>\n",
       "      <td>walkDistance</td>\n",
       "      <td>1148.517</td>\n",
       "      <td>1180.553</td>\n",
       "      <td>0.000</td>\n",
       "      <td>155.100</td>\n",
       "      <td>685.600</td>\n",
       "      <td>1976.000</td>\n",
       "      <td>25780.000</td>\n",
       "    </tr>\n",
       "    <tr>\n",
       "      <td>weaponsAcquired</td>\n",
       "      <td>3.660</td>\n",
       "      <td>2.457</td>\n",
       "      <td>0.000</td>\n",
       "      <td>2.000</td>\n",
       "      <td>3.000</td>\n",
       "      <td>5.000</td>\n",
       "      <td>236.000</td>\n",
       "    </tr>\n",
       "    <tr>\n",
       "      <td>winPoints</td>\n",
       "      <td>606.460</td>\n",
       "      <td>739.700</td>\n",
       "      <td>0.000</td>\n",
       "      <td>0.000</td>\n",
       "      <td>0.000</td>\n",
       "      <td>1495.000</td>\n",
       "      <td>2013.000</td>\n",
       "    </tr>\n",
       "    <tr>\n",
       "      <td>winPlacePerc</td>\n",
       "      <td>0.473</td>\n",
       "      <td>0.307</td>\n",
       "      <td>0.000</td>\n",
       "      <td>0.200</td>\n",
       "      <td>0.458</td>\n",
       "      <td>0.741</td>\n",
       "      <td>1.000</td>\n",
       "    </tr>\n",
       "  </tbody>\n",
       "</table>\n",
       "</div>"
      ],
      "text/plain": [
       "                    mean      std    min      25%      50%      75%       max\n",
       "assists            0.234    0.589  0.000    0.000    0.000    0.000    22.000\n",
       "boosts             1.107    1.716  0.000    0.000    0.000    2.000    33.000\n",
       "damageDealt      130.633  169.887  0.000    0.000   84.240  186.000  6616.000\n",
       "DBNOs              0.658    1.146  0.000    0.000    0.000    1.000    53.000\n",
       "headshotKills      0.227    0.602  0.000    0.000    0.000    0.000    64.000\n",
       "heals              1.370    2.680  0.000    0.000    0.000    2.000    80.000\n",
       "killPlace         47.599   27.463  1.000   24.000   47.000   71.000   101.000\n",
       "killPoints       505.006  627.505  0.000    0.000    0.000 1172.000  2170.000\n",
       "kills              0.925    1.558  0.000    0.000    0.000    1.000    72.000\n",
       "killStreaks        0.544    0.711  0.000    0.000    0.000    1.000    20.000\n",
       "longestKill       22.993   51.476  0.000    0.000    0.000   21.320  1094.000\n",
       "matchDuration   1579.506  258.740  9.000 1367.000 1438.000 1851.000  2237.000\n",
       "maxPlace          44.505   23.828  1.000   28.000   30.000   49.000   100.000\n",
       "numGroups         43.008   23.289  1.000   27.000   30.000   47.000   100.000\n",
       "rankPoints       892.010  736.648 -1.000   -1.000 1443.000 1500.000  5910.000\n",
       "revives            0.165    0.472  0.000    0.000    0.000    0.000    39.000\n",
       "rideDistance     606.092 1496.470  0.000    0.000    0.000    0.191 40710.000\n",
       "roadKills          0.003    0.073  0.000    0.000    0.000    0.000    18.000\n",
       "swimDistance       4.509   30.238  0.000    0.000    0.000    0.000  3823.000\n",
       "teamKills          0.024    0.167  0.000    0.000    0.000    0.000    12.000\n",
       "vehicleDestroys    0.008    0.093  0.000    0.000    0.000    0.000     5.000\n",
       "walkDistance    1148.517 1180.553  0.000  155.100  685.600 1976.000 25780.000\n",
       "weaponsAcquired    3.660    2.457  0.000    2.000    3.000    5.000   236.000\n",
       "winPoints        606.460  739.700  0.000    0.000    0.000 1495.000  2013.000\n",
       "winPlacePerc       0.473    0.307  0.000    0.200    0.458    0.741     1.000"
      ]
     },
     "execution_count": 7,
     "metadata": {},
     "output_type": "execute_result"
    }
   ],
   "source": [
    "train.describe(include = np.number).drop('count').T"
   ]
  },
  {
   "cell_type": "code",
   "execution_count": 8,
   "metadata": {
    "colab": {
     "base_uri": "https://localhost:8080/",
     "height": 70
    },
    "colab_type": "code",
    "id": "rHkX69uKuupX",
    "outputId": "eb0cc503-20c1-4703-918a-97d93a4d241b"
   },
   "outputs": [
    {
     "name": "stdout",
     "output_type": "stream",
     "text": [
      "unique[Id] count :  4446966\n",
      "unique[groupId] count :  2026745\n",
      "unique[matchId] count :  47965\n"
     ]
    }
   ],
   "source": [
    "for c in ['Id', 'groupId', 'matchId'] :\n",
    "    print(f'unique[{c}] count : ', train[c].nunique())"
   ]
  },
  {
   "cell_type": "code",
   "execution_count": 9,
   "metadata": {
    "colab": {
     "base_uri": "https://localhost:8080/",
     "height": 362
    },
    "colab_type": "code",
    "id": "UKOjBVrguupa",
    "outputId": "cc538d5e-9be7-4de0-b6aa-5a2a168cbbb0"
   },
   "outputs": [
    {
     "data": {
      "text/plain": [
       "<matplotlib.axes._subplots.AxesSubplot at 0x17e3e3ccb88>"
      ]
     },
     "execution_count": 9,
     "metadata": {},
     "output_type": "execute_result"
    },
    {
     "data": {
      "image/png": "[encoded data removed]",
      "text/plain": [
       "<Figure size 864x288 with 2 Axes>"
      ]
     },
     "metadata": {
      "needs_background": "light"
     },
     "output_type": "display_data"
    }
   ],
   "source": [
    "fig, ax = plt.subplots(1,2,figsize = (12,4))\n",
    "\n",
    "train.groupby('matchId')['matchType'].first().value_counts().plot.bar(ax = ax[0])\n",
    "\n",
    "mapper = lambda x : 'solo' if ('solo' in x ) else 'duo' if ('duo' in x ) or ('crash' in x ) else 'squad'\n",
    "train['matchType'] = train['matchType'].apply(mapper)\n",
    "train.groupby('matchId')['matchType'].first().value_counts().plot.bar(ax=ax[1])"
   ]
  },
  {
   "cell_type": "code",
   "execution_count": 10,
   "metadata": {
    "colab": {
     "base_uri": "https://localhost:8080/",
     "height": 52
    },
    "colab_type": "code",
    "id": "KcUPiNY9uupd",
    "outputId": "184e6311-fbdf-4185-81f0-001b8ffc9b17"
   },
   "outputs": [
    {
     "name": "stdout",
     "output_type": "stream",
     "text": [
      "numGroups == maxPlace : 1241090\n",
      "numGroups != maxPlace : 3205876\n"
     ]
    }
   ],
   "source": [
    "for q in ['numGroups == maxPlace', 'numGroups != maxPlace']:\n",
    "    print(q, ':', len(train.query(q)))"
   ]
  },
  {
   "cell_type": "code",
   "execution_count": 11,
   "metadata": {
    "colab": {
     "base_uri": "https://localhost:8080/",
     "height": 194
    },
    "colab_type": "code",
    "id": "q_cF05sBuuph",
    "outputId": "3a8f6049-a042-4d86-887f-35f46abfe9bc"
   },
   "outputs": [
    {
     "data": {
      "text/html": [
       "<div>\n",
       "<style scoped>\n",
       "    .dataframe tbody tr th:only-of-type {\n",
       "        vertical-align: middle;\n",
       "    }\n",
       "\n",
       "    .dataframe tbody tr th {\n",
       "        vertical-align: top;\n",
       "    }\n",
       "\n",
       "    .dataframe thead tr th {\n",
       "        text-align: left;\n",
       "    }\n",
       "\n",
       "    .dataframe thead tr:last-of-type th {\n",
       "        text-align: right;\n",
       "    }\n",
       "</style>\n",
       "<table border=\"1\" class=\"dataframe\">\n",
       "  <thead>\n",
       "    <tr>\n",
       "      <th></th>\n",
       "      <th colspan=\"3\" halign=\"left\">numGroups</th>\n",
       "      <th colspan=\"3\" halign=\"left\">maxPlace</th>\n",
       "      <th colspan=\"3\" halign=\"left\">groups in match</th>\n",
       "    </tr>\n",
       "    <tr>\n",
       "      <th></th>\n",
       "      <th>min</th>\n",
       "      <th>mean</th>\n",
       "      <th>max</th>\n",
       "      <th>min</th>\n",
       "      <th>mean</th>\n",
       "      <th>max</th>\n",
       "      <th>min</th>\n",
       "      <th>mean</th>\n",
       "      <th>max</th>\n",
       "    </tr>\n",
       "    <tr>\n",
       "      <th>matchType</th>\n",
       "      <th></th>\n",
       "      <th></th>\n",
       "      <th></th>\n",
       "      <th></th>\n",
       "      <th></th>\n",
       "      <th></th>\n",
       "      <th></th>\n",
       "      <th></th>\n",
       "      <th></th>\n",
       "    </tr>\n",
       "  </thead>\n",
       "  <tbody>\n",
       "    <tr>\n",
       "      <td>duo</td>\n",
       "      <td>1.000</td>\n",
       "      <td>45.812</td>\n",
       "      <td>52.000</td>\n",
       "      <td>3.000</td>\n",
       "      <td>47.609</td>\n",
       "      <td>52.000</td>\n",
       "      <td>1.000</td>\n",
       "      <td>45.349</td>\n",
       "      <td>52.000</td>\n",
       "    </tr>\n",
       "    <tr>\n",
       "      <td>solo</td>\n",
       "      <td>1.000</td>\n",
       "      <td>91.115</td>\n",
       "      <td>100.000</td>\n",
       "      <td>1.000</td>\n",
       "      <td>93.909</td>\n",
       "      <td>100.000</td>\n",
       "      <td>1.000</td>\n",
       "      <td>85.669</td>\n",
       "      <td>100.000</td>\n",
       "    </tr>\n",
       "    <tr>\n",
       "      <td>squad</td>\n",
       "      <td>2.000</td>\n",
       "      <td>27.039</td>\n",
       "      <td>37.000</td>\n",
       "      <td>2.000</td>\n",
       "      <td>27.983</td>\n",
       "      <td>37.000</td>\n",
       "      <td>2.000</td>\n",
       "      <td>26.835</td>\n",
       "      <td>37.000</td>\n",
       "    </tr>\n",
       "  </tbody>\n",
       "</table>\n",
       "</div>"
      ],
      "text/plain": [
       "          numGroups                maxPlace                groups in match  \\\n",
       "                min   mean     max      min   mean     max             min   \n",
       "matchType                                                                    \n",
       "duo           1.000 45.812  52.000    3.000 47.609  52.000           1.000   \n",
       "solo          1.000 91.115 100.000    1.000 93.909 100.000           1.000   \n",
       "squad         2.000 27.039  37.000    2.000 27.983  37.000           2.000   \n",
       "\n",
       "                          \n",
       "            mean     max  \n",
       "matchType                 \n",
       "duo       45.349  52.000  \n",
       "solo      85.669 100.000  \n",
       "squad     26.835  37.000  "
      ]
     },
     "execution_count": 11,
     "metadata": {},
     "output_type": "execute_result"
    }
   ],
   "source": [
    "cols = ['numGroups', 'maxPlace']\n",
    "desc1 = train.groupby('matchType')[cols].describe()[toTapleList(cols, ['min','mean','max'])]\n",
    "group = train.groupby(['matchType', 'matchId','groupId']).count().groupby(['matchType','matchId']).size().to_frame('groups in match')\n",
    "desc2 = group.groupby('matchType').describe()[toTapleList(['groups in match'],['min','mean','max'])]\n",
    "\n",
    "pd.concat([desc1, desc2], axis = 1)"
   ]
  },
  {
   "cell_type": "code",
   "execution_count": 12,
   "metadata": {
    "colab": {
     "base_uri": "https://localhost:8080/",
     "height": 194
    },
    "colab_type": "code",
    "id": "hCL7_NgVuupl",
    "outputId": "70db10fb-f742-472e-83ae-2df8755d7c52"
   },
   "outputs": [
    {
     "data": {
      "text/html": [
       "<div>\n",
       "<style scoped>\n",
       "    .dataframe tbody tr th:only-of-type {\n",
       "        vertical-align: middle;\n",
       "    }\n",
       "\n",
       "    .dataframe tbody tr th {\n",
       "        vertical-align: top;\n",
       "    }\n",
       "\n",
       "    .dataframe thead tr th {\n",
       "        text-align: left;\n",
       "    }\n",
       "\n",
       "    .dataframe thead tr:last-of-type th {\n",
       "        text-align: right;\n",
       "    }\n",
       "</style>\n",
       "<table border=\"1\" class=\"dataframe\">\n",
       "  <thead>\n",
       "    <tr>\n",
       "      <th></th>\n",
       "      <th colspan=\"3\" halign=\"left\">players in match</th>\n",
       "      <th colspan=\"3\" halign=\"left\">players in group</th>\n",
       "    </tr>\n",
       "    <tr>\n",
       "      <th></th>\n",
       "      <th>min</th>\n",
       "      <th>mean</th>\n",
       "      <th>max</th>\n",
       "      <th>min</th>\n",
       "      <th>mean</th>\n",
       "      <th>max</th>\n",
       "    </tr>\n",
       "    <tr>\n",
       "      <th>matchType</th>\n",
       "      <th></th>\n",
       "      <th></th>\n",
       "      <th></th>\n",
       "      <th></th>\n",
       "      <th></th>\n",
       "      <th></th>\n",
       "    </tr>\n",
       "  </thead>\n",
       "  <tbody>\n",
       "    <tr>\n",
       "      <td>duo</td>\n",
       "      <td>7.000</td>\n",
       "      <td>92.986</td>\n",
       "      <td>100.000</td>\n",
       "      <td>1.000</td>\n",
       "      <td>2.050</td>\n",
       "      <td>72.000</td>\n",
       "    </tr>\n",
       "    <tr>\n",
       "      <td>solo</td>\n",
       "      <td>1.000</td>\n",
       "      <td>89.032</td>\n",
       "      <td>100.000</td>\n",
       "      <td>1.000</td>\n",
       "      <td>1.039</td>\n",
       "      <td>64.000</td>\n",
       "    </tr>\n",
       "    <tr>\n",
       "      <td>squad</td>\n",
       "      <td>5.000</td>\n",
       "      <td>93.723</td>\n",
       "      <td>100.000</td>\n",
       "      <td>1.000</td>\n",
       "      <td>3.493</td>\n",
       "      <td>74.000</td>\n",
       "    </tr>\n",
       "  </tbody>\n",
       "</table>\n",
       "</div>"
      ],
      "text/plain": [
       "          players in match                players in group             \n",
       "                       min   mean     max              min  mean    max\n",
       "matchType                                                              \n",
       "duo                  7.000 92.986 100.000            1.000 2.050 72.000\n",
       "solo                 1.000 89.032 100.000            1.000 1.039 64.000\n",
       "squad                5.000 93.723 100.000            1.000 3.493 74.000"
      ]
     },
     "execution_count": 12,
     "metadata": {},
     "output_type": "execute_result"
    }
   ],
   "source": [
    "match = train.groupby(['matchType', 'matchId']).size().to_frame('players in match')\n",
    "group = train.groupby(['matchType', 'matchId', 'groupId']).size().to_frame('players in group')\n",
    "pd.concat([match.groupby('matchType').describe()[toTapleList(['players in match'], ['min','mean','max'])], group.groupby('matchType').describe()[toTapleList(['players in group'], ['min','mean','max'])]], axis = 1)"
   ]
  },
  {
   "cell_type": "code",
   "execution_count": 13,
   "metadata": {
    "colab": {
     "base_uri": "https://localhost:8080/",
     "height": 141
    },
    "colab_type": "code",
    "id": "B9W1-zeluupp",
    "outputId": "2875de57-2baa-4ecb-fc2d-a2d5913ea781"
   },
   "outputs": [
    {
     "name": "stdout",
     "output_type": "stream",
     "text": [
      "matchType  matchId         groupId       \n",
      "squad      b30f3d87189aa6  14d6b54cdec6bc    74\n",
      "duo        3e029737889ce9  b8275198faa03b    72\n",
      "solo       41a634f62f86b7  128b07271aa012    64\n",
      "duo        7e93ce71ac6f61  7385e5fe214021    49\n",
      "squad      3c2531adf5b942  e52a2e6ca30474    36\n",
      "Name: players in group, dtype: int64\n"
     ]
    }
   ],
   "source": [
    "print(group['players in group'].nlargest(5))\n",
    "del match, group"
   ]
  },
  {
   "cell_type": "code",
   "execution_count": 14,
   "metadata": {
    "colab": {
     "base_uri": "https://localhost:8080/",
     "height": 301
    },
    "colab_type": "code",
    "id": "GwQI0haFuupt",
    "outputId": "4a8bdca7-731a-458b-8579-232c9beb2f41"
   },
   "outputs": [
    {
     "name": "stdout",
     "output_type": "stream",
     "text": [
      "matchId == '41a634f62f86b7' & groupId == '128b07271aa012'\n",
      "--------------------------------------------------\n",
      "players: 97\n",
      "groups : 34\n",
      "numGroups: [34]\n",
      "maxPlace : [97]\n",
      "--------------------------------------------------\n",
      "max-group players : 64\n",
      "max-group winPlacePerc : [0.28119999]\n",
      "--------------------------------------------------\n",
      "winPlacePerc : [0.         0.0104     0.0208     0.0312     0.0417     0.0521\n",
      " 0.0625     0.0729     0.0833     0.0938     0.1042     0.1146\n",
      " 0.125      0.1354     0.14579999 0.15620001 0.16670001 0.1771\n",
      " 0.1875     0.1979     0.20829999 0.21879999 0.22920001 0.2396\n",
      " 0.25       0.2604     0.27079999 0.28119999 0.7604     0.77079999\n",
      " 0.89579999 0.91670001 0.9896     1.        ]\n"
     ]
    }
   ],
   "source": [
    "subset = train[train['matchId'] == '41a634f62f86b7']\n",
    "sub_grp = subset[subset['groupId'] == '128b07271aa012']\n",
    "\n",
    "print('matchId == \\'41a634f62f86b7\\' & groupId == \\'128b07271aa012\\'')\n",
    "print('-'*50)\n",
    "print('players:',len(subset))\n",
    "print('groups :', subset['groupId'].nunique())\n",
    "print('numGroups:', subset['numGroups'].unique())\n",
    "print('maxPlace :', subset['maxPlace'].unique())\n",
    "print('-'*50)\n",
    "print('max-group players :', len(sub_grp))\n",
    "print('max-group winPlacePerc :', sub_grp['winPlacePerc'].unique())\n",
    "print('-'*50)\n",
    "print('winPlacePerc :', subset['winPlacePerc'].sort_values().unique())"
   ]
  },
  {
   "cell_type": "code",
   "execution_count": 15,
   "metadata": {
    "colab": {
     "base_uri": "https://localhost:8080/",
     "height": 305
    },
    "colab_type": "code",
    "id": "Ewn7_rDGuupx",
    "outputId": "0f0dddbe-2098-4c29-d694-e91e5daae56c"
   },
   "outputs": [
    {
     "data": {
      "image/png": "[encoded data removed]",
      "text/plain": [
       "<Figure size 1152x288 with 3 Axes>"
      ]
     },
     "metadata": {
      "needs_background": "light"
     },
     "output_type": "display_data"
    }
   ],
   "source": [
    "group = train.groupby(['matchId', 'groupId','matchType'])['Id'].count().to_frame('players').reset_index()\n",
    "group.loc[group['players']>4, 'players'] = '5+'\n",
    "group['players'] = group['players'].astype(str)\n",
    "\n",
    "fig, ax = plt.subplots(1, 3, figsize = (16,4))\n",
    "for mt, ax in zip(['solo', 'duo', 'squad'], ax.ravel()):\n",
    "    ax.set_xlabel(mt)\n",
    "    group[group['matchType'] == mt]['players'].value_counts().sort_index().plot.bar(ax=ax)"
   ]
  },
  {
   "cell_type": "code",
   "execution_count": 16,
   "metadata": {
    "colab": {
     "base_uri": "https://localhost:8080/",
     "height": 306
    },
    "colab_type": "code",
    "id": "zaxNvtU7uup1",
    "outputId": "0accd5d0-476c-41d2-eb3a-7bc4c6ae1fff"
   },
   "outputs": [
    {
     "data": {
      "text/plain": [
       "<matplotlib.axes._subplots.AxesSubplot at 0x17e3c616d08>"
      ]
     },
     "execution_count": 16,
     "metadata": {},
     "output_type": "execute_result"
    },
    {
     "data": {
      "image/png": "[encoded data removed]",
      "text/plain": [
       "<Figure size 864x288 with 2 Axes>"
      ]
     },
     "metadata": {
      "needs_background": "light"
     },
     "output_type": "display_data"
    }
   ],
   "source": [
    "fig, ax = plt.subplots(1,2,figsize = (12,4))\n",
    "\n",
    "train['matchDuration'].hist(bins=50, ax=ax[0])\n",
    "train.query('matchDuration >=1400 & matchDuration <=1800')['matchDuration'].hist(bins = 50, ax=ax[1])"
   ]
  },
  {
   "cell_type": "code",
   "execution_count": 17,
   "metadata": {
    "colab": {
     "base_uri": "https://localhost:8080/",
     "height": 96
    },
    "colab_type": "code",
    "id": "qvLrQ0Cwuup4",
    "outputId": "779db64a-edab-437d-e45b-23c2ac5a099e"
   },
   "outputs": [
    {
     "data": {
      "text/html": [
       "<div>\n",
       "<style scoped>\n",
       "    .dataframe tbody tr th:only-of-type {\n",
       "        vertical-align: middle;\n",
       "    }\n",
       "\n",
       "    .dataframe tbody tr th {\n",
       "        vertical-align: top;\n",
       "    }\n",
       "\n",
       "    .dataframe thead th {\n",
       "        text-align: right;\n",
       "    }\n",
       "</style>\n",
       "<table border=\"1\" class=\"dataframe\">\n",
       "  <thead>\n",
       "    <tr style=\"text-align: right;\">\n",
       "      <th></th>\n",
       "      <th>Id</th>\n",
       "      <th>groupId</th>\n",
       "      <th>matchId</th>\n",
       "      <th>assists</th>\n",
       "      <th>boosts</th>\n",
       "      <th>damageDealt</th>\n",
       "      <th>DBNOs</th>\n",
       "      <th>headshotKills</th>\n",
       "      <th>heals</th>\n",
       "      <th>killPlace</th>\n",
       "      <th>...</th>\n",
       "      <th>revives</th>\n",
       "      <th>rideDistance</th>\n",
       "      <th>roadKills</th>\n",
       "      <th>swimDistance</th>\n",
       "      <th>teamKills</th>\n",
       "      <th>vehicleDestroys</th>\n",
       "      <th>walkDistance</th>\n",
       "      <th>weaponsAcquired</th>\n",
       "      <th>winPoints</th>\n",
       "      <th>winPlacePerc</th>\n",
       "    </tr>\n",
       "  </thead>\n",
       "  <tbody>\n",
       "    <tr>\n",
       "      <td>2744604</td>\n",
       "      <td>f70c74418bb064</td>\n",
       "      <td>12dfbede33f92b</td>\n",
       "      <td>224a123c53e008</td>\n",
       "      <td>0</td>\n",
       "      <td>0</td>\n",
       "      <td>0.000</td>\n",
       "      <td>0</td>\n",
       "      <td>0</td>\n",
       "      <td>0</td>\n",
       "      <td>1</td>\n",
       "      <td>...</td>\n",
       "      <td>0</td>\n",
       "      <td>0.000</td>\n",
       "      <td>0</td>\n",
       "      <td>0.000</td>\n",
       "      <td>0</td>\n",
       "      <td>0</td>\n",
       "      <td>0.000</td>\n",
       "      <td>0</td>\n",
       "      <td>0</td>\n",
       "      <td>nan</td>\n",
       "    </tr>\n",
       "  </tbody>\n",
       "</table>\n",
       "<p>1 rows × 29 columns</p>\n",
       "</div>"
      ],
      "text/plain": [
       "                     Id         groupId         matchId  assists  boosts  \\\n",
       "2744604  f70c74418bb064  12dfbede33f92b  224a123c53e008        0       0   \n",
       "\n",
       "         damageDealt  DBNOs  headshotKills  heals  killPlace  ...  revives  \\\n",
       "2744604        0.000      0              0      0          1  ...        0   \n",
       "\n",
       "         rideDistance  roadKills  swimDistance  teamKills vehicleDestroys  \\\n",
       "2744604         0.000          0         0.000          0               0   \n",
       "\n",
       "         walkDistance  weaponsAcquired  winPoints  winPlacePerc  \n",
       "2744604         0.000                0          0           nan  \n",
       "\n",
       "[1 rows x 29 columns]"
      ]
     },
     "execution_count": 17,
     "metadata": {},
     "output_type": "execute_result"
    }
   ],
   "source": [
    "train[train['matchDuration'] == train['matchDuration'].min()].head()"
   ]
  },
  {
   "cell_type": "code",
   "execution_count": 18,
   "metadata": {
    "colab": {
     "base_uri": "https://localhost:8080/",
     "height": 214
    },
    "colab_type": "code",
    "id": "U3tv2agPuup8",
    "outputId": "f80c75e5-ccf8-4119-9d2a-a5f70ffb8715"
   },
   "outputs": [
    {
     "data": {
      "text/html": [
       "<div>\n",
       "<style scoped>\n",
       "    .dataframe tbody tr th:only-of-type {\n",
       "        vertical-align: middle;\n",
       "    }\n",
       "\n",
       "    .dataframe tbody tr th {\n",
       "        vertical-align: top;\n",
       "    }\n",
       "\n",
       "    .dataframe thead th {\n",
       "        text-align: right;\n",
       "    }\n",
       "</style>\n",
       "<table border=\"1\" class=\"dataframe\">\n",
       "  <thead>\n",
       "    <tr style=\"text-align: right;\">\n",
       "      <th></th>\n",
       "      <th>Id</th>\n",
       "      <th>groupId</th>\n",
       "      <th>matchId</th>\n",
       "      <th>assists</th>\n",
       "      <th>boosts</th>\n",
       "      <th>damageDealt</th>\n",
       "      <th>DBNOs</th>\n",
       "      <th>headshotKills</th>\n",
       "      <th>heals</th>\n",
       "      <th>killPlace</th>\n",
       "      <th>...</th>\n",
       "      <th>revives</th>\n",
       "      <th>rideDistance</th>\n",
       "      <th>roadKills</th>\n",
       "      <th>swimDistance</th>\n",
       "      <th>teamKills</th>\n",
       "      <th>vehicleDestroys</th>\n",
       "      <th>walkDistance</th>\n",
       "      <th>weaponsAcquired</th>\n",
       "      <th>winPoints</th>\n",
       "      <th>winPlacePerc</th>\n",
       "    </tr>\n",
       "  </thead>\n",
       "  <tbody>\n",
       "    <tr>\n",
       "      <td>130663</td>\n",
       "      <td>8089c9ef1fa09e</td>\n",
       "      <td>3c909156e89431</td>\n",
       "      <td>f8e02cb4c82d7d</td>\n",
       "      <td>0</td>\n",
       "      <td>0</td>\n",
       "      <td>0.000</td>\n",
       "      <td>0</td>\n",
       "      <td>0</td>\n",
       "      <td>0</td>\n",
       "      <td>72</td>\n",
       "      <td>...</td>\n",
       "      <td>0</td>\n",
       "      <td>0.000</td>\n",
       "      <td>0</td>\n",
       "      <td>0.000</td>\n",
       "      <td>0</td>\n",
       "      <td>0</td>\n",
       "      <td>231.800</td>\n",
       "      <td>3</td>\n",
       "      <td>0</td>\n",
       "      <td>0.260</td>\n",
       "    </tr>\n",
       "    <tr>\n",
       "      <td>139317</td>\n",
       "      <td>3049d51e07bab3</td>\n",
       "      <td>4086a790e99513</td>\n",
       "      <td>f8e02cb4c82d7d</td>\n",
       "      <td>0</td>\n",
       "      <td>0</td>\n",
       "      <td>100.000</td>\n",
       "      <td>0</td>\n",
       "      <td>0</td>\n",
       "      <td>0</td>\n",
       "      <td>34</td>\n",
       "      <td>...</td>\n",
       "      <td>0</td>\n",
       "      <td>0.000</td>\n",
       "      <td>0</td>\n",
       "      <td>0.000</td>\n",
       "      <td>0</td>\n",
       "      <td>0</td>\n",
       "      <td>696.000</td>\n",
       "      <td>7</td>\n",
       "      <td>0</td>\n",
       "      <td>0.458</td>\n",
       "    </tr>\n",
       "    <tr>\n",
       "      <td>146220</td>\n",
       "      <td>cb3902c30f688c</td>\n",
       "      <td>65400d5cf84ead</td>\n",
       "      <td>f8e02cb4c82d7d</td>\n",
       "      <td>0</td>\n",
       "      <td>0</td>\n",
       "      <td>0.000</td>\n",
       "      <td>0</td>\n",
       "      <td>0</td>\n",
       "      <td>0</td>\n",
       "      <td>85</td>\n",
       "      <td>...</td>\n",
       "      <td>0</td>\n",
       "      <td>0.000</td>\n",
       "      <td>0</td>\n",
       "      <td>0.000</td>\n",
       "      <td>0</td>\n",
       "      <td>0</td>\n",
       "      <td>99.950</td>\n",
       "      <td>1</td>\n",
       "      <td>0</td>\n",
       "      <td>0.125</td>\n",
       "    </tr>\n",
       "    <tr>\n",
       "      <td>246201</td>\n",
       "      <td>80e022ce3a64ff</td>\n",
       "      <td>b668e37229bb2d</td>\n",
       "      <td>f8e02cb4c82d7d</td>\n",
       "      <td>0</td>\n",
       "      <td>1</td>\n",
       "      <td>96.250</td>\n",
       "      <td>0</td>\n",
       "      <td>1</td>\n",
       "      <td>0</td>\n",
       "      <td>35</td>\n",
       "      <td>...</td>\n",
       "      <td>0</td>\n",
       "      <td>0.000</td>\n",
       "      <td>0</td>\n",
       "      <td>0.000</td>\n",
       "      <td>0</td>\n",
       "      <td>0</td>\n",
       "      <td>1395.000</td>\n",
       "      <td>6</td>\n",
       "      <td>0</td>\n",
       "      <td>0.375</td>\n",
       "    </tr>\n",
       "    <tr>\n",
       "      <td>268239</td>\n",
       "      <td>0e50a3a859d3ab</td>\n",
       "      <td>9dcca2c1beb072</td>\n",
       "      <td>f8e02cb4c82d7d</td>\n",
       "      <td>0</td>\n",
       "      <td>0</td>\n",
       "      <td>0.000</td>\n",
       "      <td>0</td>\n",
       "      <td>0</td>\n",
       "      <td>0</td>\n",
       "      <td>41</td>\n",
       "      <td>...</td>\n",
       "      <td>0</td>\n",
       "      <td>0.000</td>\n",
       "      <td>0</td>\n",
       "      <td>0.000</td>\n",
       "      <td>0</td>\n",
       "      <td>0</td>\n",
       "      <td>121.700</td>\n",
       "      <td>3</td>\n",
       "      <td>0</td>\n",
       "      <td>0.906</td>\n",
       "    </tr>\n",
       "  </tbody>\n",
       "</table>\n",
       "<p>5 rows × 29 columns</p>\n",
       "</div>"
      ],
      "text/plain": [
       "                    Id         groupId         matchId  assists  boosts  \\\n",
       "130663  8089c9ef1fa09e  3c909156e89431  f8e02cb4c82d7d        0       0   \n",
       "139317  3049d51e07bab3  4086a790e99513  f8e02cb4c82d7d        0       0   \n",
       "146220  cb3902c30f688c  65400d5cf84ead  f8e02cb4c82d7d        0       0   \n",
       "246201  80e022ce3a64ff  b668e37229bb2d  f8e02cb4c82d7d        0       1   \n",
       "268239  0e50a3a859d3ab  9dcca2c1beb072  f8e02cb4c82d7d        0       0   \n",
       "\n",
       "        damageDealt  DBNOs  headshotKills  heals  killPlace  ...  revives  \\\n",
       "130663        0.000      0              0      0         72  ...        0   \n",
       "139317      100.000      0              0      0         34  ...        0   \n",
       "146220        0.000      0              0      0         85  ...        0   \n",
       "246201       96.250      0              1      0         35  ...        0   \n",
       "268239        0.000      0              0      0         41  ...        0   \n",
       "\n",
       "        rideDistance  roadKills  swimDistance  teamKills vehicleDestroys  \\\n",
       "130663         0.000          0         0.000          0               0   \n",
       "139317         0.000          0         0.000          0               0   \n",
       "146220         0.000          0         0.000          0               0   \n",
       "246201         0.000          0         0.000          0               0   \n",
       "268239         0.000          0         0.000          0               0   \n",
       "\n",
       "        walkDistance  weaponsAcquired  winPoints  winPlacePerc  \n",
       "130663       231.800                3          0         0.260  \n",
       "139317       696.000                7          0         0.458  \n",
       "146220        99.950                1          0         0.125  \n",
       "246201      1395.000                6          0         0.375  \n",
       "268239       121.700                3          0         0.906  \n",
       "\n",
       "[5 rows x 29 columns]"
      ]
     },
     "execution_count": 18,
     "metadata": {},
     "output_type": "execute_result"
    }
   ],
   "source": [
    "train[train['matchDuration'] == train['matchDuration'].max()].head()"
   ]
  },
  {
   "cell_type": "code",
   "execution_count": 19,
   "metadata": {
    "colab": {
     "base_uri": "https://localhost:8080/",
     "height": 35
    },
    "colab_type": "code",
    "id": "-OO46q76uuqA",
    "outputId": "3c85fee4-3b38-4912-f16e-3eb646c214a3"
   },
   "outputs": [
    {
     "data": {
      "text/plain": [
       "False"
      ]
     },
     "execution_count": 19,
     "metadata": {},
     "output_type": "execute_result"
    }
   ],
   "source": [
    "(train.groupby('matchId')['matchDuration'].nunique() > 1).any()"
   ]
  },
  {
   "cell_type": "code",
   "execution_count": 20,
   "metadata": {
    "colab": {
     "base_uri": "https://localhost:8080/",
     "height": 546
    },
    "colab_type": "code",
    "id": "OBDib_ZwuuqD",
    "outputId": "f580ac7e-69e4-4059-a950-1a4e6835529d"
   },
   "outputs": [
    {
     "data": {
      "image/png": "[encoded data removed]",
      "text/plain": [
       "<Figure size 1152x576 with 4 Axes>"
      ]
     },
     "metadata": {
      "needs_background": "light"
     },
     "output_type": "display_data"
    }
   ],
   "source": [
    "fig, ax = plt.subplots(2,2,figsize = (16,8))\n",
    "cols = ['boosts', 'heals']\n",
    "for col, ax in zip(cols, ax):\n",
    "    sub = train[['winPlacePerc',col]].copy()\n",
    "    mv = (sub[col].max()//5)+1\n",
    "    sub[col] = pd.cut(sub[col], [5*x for x in range(0, mv)], right = False)\n",
    "    sub.groupby(col).mean()['winPlacePerc'].plot.bar(ax = ax[0])\n",
    "    train[col].hist(bins = 20, ax= ax[1])"
   ]
  },
  {
   "cell_type": "code",
   "execution_count": 21,
   "metadata": {
    "colab": {
     "base_uri": "https://localhost:8080/",
     "height": 35
    },
    "colab_type": "code",
    "id": "ZURIS6dIuuqF",
    "outputId": "a6757d40-6c72-4b3d-e1d3-89ccfe66ab83"
   },
   "outputs": [
    {
     "name": "stdout",
     "output_type": "stream",
     "text": [
      "solo player has revives : False\n"
     ]
    }
   ],
   "source": [
    "print('solo player has revives :', 'solo' in train.query('revives >0')['matchType'].unique())"
   ]
  },
  {
   "cell_type": "code",
   "execution_count": 22,
   "metadata": {
    "colab": {
     "base_uri": "https://localhost:8080/",
     "height": 347
    },
    "colab_type": "code",
    "id": "c5V7FSN2uuqJ",
    "outputId": "f63130e9-c695-44ce-b0e8-029ac5b203f7"
   },
   "outputs": [
    {
     "data": {
      "text/plain": [
       "<matplotlib.axes._subplots.AxesSubplot at 0x17e3cb89288>"
      ]
     },
     "execution_count": 22,
     "metadata": {},
     "output_type": "execute_result"
    },
    {
     "data": {
      "image/png": "[encoded data removed]",
      "text/plain": [
       "<Figure size 1152x288 with 2 Axes>"
      ]
     },
     "metadata": {
      "needs_background": "light"
     },
     "output_type": "display_data"
    }
   ],
   "source": [
    "fig, ax = plt.subplots(1,2,figsize = (16,4))\n",
    "col = 'revives'\n",
    "sub = train.loc[~train['matchType'].str.contains('solo'),['winPlacePerc', col]].copy()\n",
    "sub[col] = pd.cut(sub[col], [5*x for x in range(0,8)], right = False)\n",
    "sub.groupby(col).mean()['winPlacePerc'].plot.bar(ax = ax[0])\n",
    "train[col].hist(bins=20, ax = ax[1])"
   ]
  },
  {
   "cell_type": "code",
   "execution_count": 23,
   "metadata": {
    "colab": {
     "base_uri": "https://localhost:8080/",
     "height": 164
    },
    "colab_type": "code",
    "id": "OHe7fMbouuqM",
    "outputId": "9a8b52c8-abc2-41ac-94a2-958dae240cfb"
   },
   "outputs": [
    {
     "data": {
      "text/html": [
       "<div>\n",
       "<style scoped>\n",
       "    .dataframe tbody tr th:only-of-type {\n",
       "        vertical-align: middle;\n",
       "    }\n",
       "\n",
       "    .dataframe tbody tr th {\n",
       "        vertical-align: top;\n",
       "    }\n",
       "\n",
       "    .dataframe thead th {\n",
       "        text-align: right;\n",
       "    }\n",
       "</style>\n",
       "<table border=\"1\" class=\"dataframe\">\n",
       "  <thead>\n",
       "    <tr style=\"text-align: right;\">\n",
       "      <th></th>\n",
       "      <th>min</th>\n",
       "      <th>mean</th>\n",
       "      <th>max</th>\n",
       "    </tr>\n",
       "    <tr>\n",
       "      <th>matchType</th>\n",
       "      <th></th>\n",
       "      <th></th>\n",
       "      <th></th>\n",
       "    </tr>\n",
       "  </thead>\n",
       "  <tbody>\n",
       "    <tr>\n",
       "      <td>duo</td>\n",
       "      <td>1.000</td>\n",
       "      <td>47.471</td>\n",
       "      <td>100.000</td>\n",
       "    </tr>\n",
       "    <tr>\n",
       "      <td>solo</td>\n",
       "      <td>1.000</td>\n",
       "      <td>47.457</td>\n",
       "      <td>100.000</td>\n",
       "    </tr>\n",
       "    <tr>\n",
       "      <td>squad</td>\n",
       "      <td>1.000</td>\n",
       "      <td>47.712</td>\n",
       "      <td>101.000</td>\n",
       "    </tr>\n",
       "  </tbody>\n",
       "</table>\n",
       "</div>"
      ],
      "text/plain": [
       "            min   mean     max\n",
       "matchType                     \n",
       "duo       1.000 47.471 100.000\n",
       "solo      1.000 47.457 100.000\n",
       "squad     1.000 47.712 101.000"
      ]
     },
     "execution_count": 23,
     "metadata": {},
     "output_type": "execute_result"
    }
   ],
   "source": [
    "train.groupby(['matchType'])['killPlace'].describe()[['min','mean','max']]"
   ]
  },
  {
   "cell_type": "code",
   "execution_count": 24,
   "metadata": {
    "colab": {
     "base_uri": "https://localhost:8080/",
     "height": 332
    },
    "colab_type": "code",
    "id": "mlNk9HziuuqO",
    "outputId": "da64ad2c-c256-47a3-afcf-097780198d29"
   },
   "outputs": [
    {
     "data": {
      "text/plain": [
       "<matplotlib.axes._subplots.AxesSubplot at 0x17e3caf9c88>"
      ]
     },
     "execution_count": 24,
     "metadata": {},
     "output_type": "execute_result"
    },
    {
     "data": {
      "image/png": "[encoded data removed]",
      "text/plain": [
       "<Figure size 576x288 with 1 Axes>"
      ]
     },
     "metadata": {
      "needs_background": "light"
     },
     "output_type": "display_data"
    }
   ],
   "source": [
    "plt.figure(figsize = (8,4))\n",
    "col = 'killPlace'\n",
    "sub = train[['winPlacePerc', col]].copy()\n",
    "sub[col] = pd.cut(sub[col], [10*x for x in range(0,11)], right=False)\n",
    "sub.groupby(col).mean()['winPlacePerc'].plot.bar()"
   ]
  },
  {
   "cell_type": "code",
   "execution_count": 25,
   "metadata": {
    "colab": {
     "base_uri": "https://localhost:8080/",
     "height": 399
    },
    "colab_type": "code",
    "id": "uO1W9wQYuuqR",
    "outputId": "90be24ee-0bd8-48fe-d5b8-dff8f6ef3a76"
   },
   "outputs": [
    {
     "data": {
      "text/html": [
       "<div>\n",
       "<style scoped>\n",
       "    .dataframe tbody tr th:only-of-type {\n",
       "        vertical-align: middle;\n",
       "    }\n",
       "\n",
       "    .dataframe tbody tr th {\n",
       "        vertical-align: top;\n",
       "    }\n",
       "\n",
       "    .dataframe thead th {\n",
       "        text-align: right;\n",
       "    }\n",
       "</style>\n",
       "<table border=\"1\" class=\"dataframe\">\n",
       "  <thead>\n",
       "    <tr style=\"text-align: right;\">\n",
       "      <th></th>\n",
       "      <th>groupId</th>\n",
       "      <th>kills</th>\n",
       "      <th>winPlacePerc</th>\n",
       "      <th>killPlace</th>\n",
       "    </tr>\n",
       "  </thead>\n",
       "  <tbody>\n",
       "    <tr>\n",
       "      <td>3895898</td>\n",
       "      <td>3a6addfa0df938</td>\n",
       "      <td>0</td>\n",
       "      <td>0.000</td>\n",
       "      <td>94</td>\n",
       "    </tr>\n",
       "    <tr>\n",
       "      <td>3599150</td>\n",
       "      <td>3a6addfa0df938</td>\n",
       "      <td>0</td>\n",
       "      <td>0.000</td>\n",
       "      <td>95</td>\n",
       "    </tr>\n",
       "    <tr>\n",
       "      <td>4367296</td>\n",
       "      <td>236ab9e9c081b9</td>\n",
       "      <td>0</td>\n",
       "      <td>0.037</td>\n",
       "      <td>88</td>\n",
       "    </tr>\n",
       "    <tr>\n",
       "      <td>4131025</td>\n",
       "      <td>236ab9e9c081b9</td>\n",
       "      <td>0</td>\n",
       "      <td>0.037</td>\n",
       "      <td>89</td>\n",
       "    </tr>\n",
       "    <tr>\n",
       "      <td>3088817</td>\n",
       "      <td>236ab9e9c081b9</td>\n",
       "      <td>0</td>\n",
       "      <td>0.037</td>\n",
       "      <td>90</td>\n",
       "    </tr>\n",
       "    <tr>\n",
       "      <td>...</td>\n",
       "      <td>...</td>\n",
       "      <td>...</td>\n",
       "      <td>...</td>\n",
       "      <td>...</td>\n",
       "    </tr>\n",
       "    <tr>\n",
       "      <td>1303528</td>\n",
       "      <td>ca058240046b4c</td>\n",
       "      <td>6</td>\n",
       "      <td>0.963</td>\n",
       "      <td>3</td>\n",
       "    </tr>\n",
       "    <tr>\n",
       "      <td>3637258</td>\n",
       "      <td>ca058240046b4c</td>\n",
       "      <td>5</td>\n",
       "      <td>0.963</td>\n",
       "      <td>6</td>\n",
       "    </tr>\n",
       "    <tr>\n",
       "      <td>2351120</td>\n",
       "      <td>ca058240046b4c</td>\n",
       "      <td>1</td>\n",
       "      <td>0.963</td>\n",
       "      <td>24</td>\n",
       "    </tr>\n",
       "    <tr>\n",
       "      <td>2848198</td>\n",
       "      <td>4d1bbbc19b9084</td>\n",
       "      <td>5</td>\n",
       "      <td>1.000</td>\n",
       "      <td>5</td>\n",
       "    </tr>\n",
       "    <tr>\n",
       "      <td>20251</td>\n",
       "      <td>4d1bbbc19b9084</td>\n",
       "      <td>1</td>\n",
       "      <td>1.000</td>\n",
       "      <td>23</td>\n",
       "    </tr>\n",
       "  </tbody>\n",
       "</table>\n",
       "<p>95 rows × 4 columns</p>\n",
       "</div>"
      ],
      "text/plain": [
       "                groupId  kills  winPlacePerc  killPlace\n",
       "3895898  3a6addfa0df938      0         0.000         94\n",
       "3599150  3a6addfa0df938      0         0.000         95\n",
       "4367296  236ab9e9c081b9      0         0.037         88\n",
       "4131025  236ab9e9c081b9      0         0.037         89\n",
       "3088817  236ab9e9c081b9      0         0.037         90\n",
       "...                 ...    ...           ...        ...\n",
       "1303528  ca058240046b4c      6         0.963          3\n",
       "3637258  ca058240046b4c      5         0.963          6\n",
       "2351120  ca058240046b4c      1         0.963         24\n",
       "2848198  4d1bbbc19b9084      5         1.000          5\n",
       "20251    4d1bbbc19b9084      1         1.000         23\n",
       "\n",
       "[95 rows x 4 columns]"
      ]
     },
     "execution_count": 25,
     "metadata": {},
     "output_type": "execute_result"
    }
   ],
   "source": [
    "subMatch = train[train['matchId'] == train['matchId'].min()].sort_values(['winPlacePerc', 'killPlace'])\n",
    "cols = ['groupId', 'kills', 'winPlacePerc', 'killPlace']\n",
    "subMatch[cols]"
   ]
  },
  {
   "cell_type": "code",
   "execution_count": 26,
   "metadata": {
    "colab": {
     "base_uri": "https://localhost:8080/",
     "height": 347
    },
    "colab_type": "code",
    "id": "3L9jSCIJuuqT",
    "outputId": "d159708a-d36d-4c3b-95af-41b7d4051b4a"
   },
   "outputs": [
    {
     "data": {
      "text/plain": [
       "<matplotlib.axes._subplots.AxesSubplot at 0x17e3c9973c8>"
      ]
     },
     "execution_count": 26,
     "metadata": {},
     "output_type": "execute_result"
    },
    {
     "data": {
      "image/png": "[encoded data removed]",
      "text/plain": [
       "<Figure size 1152x288 with 2 Axes>"
      ]
     },
     "metadata": {
      "needs_background": "light"
     },
     "output_type": "display_data"
    }
   ],
   "source": [
    "fig, ax = plt.subplots(1,2,figsize = (16,4))\n",
    "\n",
    "col = 'kills'\n",
    "sub = train[['winPlacePerc', col]].copy()\n",
    "sub[col] = pd.cut(sub[col], [5*x for x in range(0,20)], right = False)\n",
    "sub.groupby(col).mean()['winPlacePerc'].plot.bar(ax=ax[0])\n",
    "train[train['kills']<20][col].hist(bins=20, ax=ax[1])"
   ]
  },
  {
   "cell_type": "code",
   "execution_count": 27,
   "metadata": {
    "colab": {
     "base_uri": "https://localhost:8080/",
     "height": 106
    },
    "colab_type": "code",
    "id": "NvPPVIdgwvYx",
    "outputId": "a1805c20-15e2-4707-f469-462931cf4027"
   },
   "outputs": [
    {
     "data": {
      "text/html": [
       "<div>\n",
       "<style scoped>\n",
       "    .dataframe tbody tr th:only-of-type {\n",
       "        vertical-align: middle;\n",
       "    }\n",
       "\n",
       "    .dataframe tbody tr th {\n",
       "        vertical-align: top;\n",
       "    }\n",
       "\n",
       "    .dataframe thead th {\n",
       "        text-align: right;\n",
       "    }\n",
       "</style>\n",
       "<table border=\"1\" class=\"dataframe\">\n",
       "  <thead>\n",
       "    <tr style=\"text-align: right;\">\n",
       "      <th></th>\n",
       "      <th>count</th>\n",
       "      <th>mean</th>\n",
       "      <th>std</th>\n",
       "      <th>min</th>\n",
       "      <th>25%</th>\n",
       "      <th>50%</th>\n",
       "      <th>75%</th>\n",
       "      <th>max</th>\n",
       "    </tr>\n",
       "  </thead>\n",
       "  <tbody>\n",
       "    <tr>\n",
       "      <td>solo</td>\n",
       "      <td>8095.000</td>\n",
       "      <td>83.410</td>\n",
       "      <td>27.606</td>\n",
       "      <td>0.000</td>\n",
       "      <td>84.000</td>\n",
       "      <td>89.000</td>\n",
       "      <td>92.000</td>\n",
       "      <td>786.000</td>\n",
       "    </tr>\n",
       "    <tr>\n",
       "      <td>team</td>\n",
       "      <td>39870.000</td>\n",
       "      <td>86.212</td>\n",
       "      <td>17.269</td>\n",
       "      <td>0.000</td>\n",
       "      <td>83.000</td>\n",
       "      <td>87.000</td>\n",
       "      <td>90.000</td>\n",
       "      <td>687.000</td>\n",
       "    </tr>\n",
       "  </tbody>\n",
       "</table>\n",
       "</div>"
      ],
      "text/plain": [
       "         count   mean    std   min    25%    50%    75%     max\n",
       "solo  8095.000 83.410 27.606 0.000 84.000 89.000 92.000 786.000\n",
       "team 39870.000 86.212 17.269 0.000 83.000 87.000 90.000 687.000"
      ]
     },
     "execution_count": 27,
     "metadata": {},
     "output_type": "execute_result"
    }
   ],
   "source": [
    "sub = train['matchType'].str.contains('solo')\n",
    "pd.concat([train.loc[sub].groupby('matchId')['kills'].sum().describe(), train.loc[~sub].groupby('matchId')['kills'].sum().describe()], keys=['solo','team'], axis = 1).T"
   ]
  },
  {
   "cell_type": "code",
   "execution_count": 28,
   "metadata": {
    "colab": {
     "base_uri": "https://localhost:8080/",
     "height": 590
    },
    "colab_type": "code",
    "id": "Ihag0fSfxGAI",
    "outputId": "b8669e45-a5e7-4b56-a6e2-629bdb888777"
   },
   "outputs": [
    {
     "data": {
      "image/png": "[encoded data removed]",
      "text/plain": [
       "<Figure size 1152x576 with 4 Axes>"
      ]
     },
     "metadata": {
      "needs_background": "light"
     },
     "output_type": "display_data"
    }
   ],
   "source": [
    "fig, ax = plt.subplots(2,2, figsize = (16,8))\n",
    "\n",
    "cols = ['killStreaks', 'DBNOs']\n",
    "for col, ax in zip(cols, ax):\n",
    "  sub = train[['winPlacePerc', col]].copy()\n",
    "  sub[col] = pd.cut(sub[col], 6)\n",
    "  sub.groupby(col).mean()['winPlacePerc'].plot.bar(ax = ax[0])\n",
    "  train[col].hist(bins=20, ax=ax[1])"
   ]
  },
  {
   "cell_type": "code",
   "execution_count": 29,
   "metadata": {
    "colab": {
     "base_uri": "https://localhost:8080/",
     "height": 739
    },
    "colab_type": "code",
    "id": "uitf3DApxc9v",
    "outputId": "bfd2dccc-9cbf-47d4-d162-4df566dae0f6"
   },
   "outputs": [
    {
     "data": {
      "image/png": "[encoded data removed]",
      "text/plain": [
       "<Figure size 1152x864 with 6 Axes>"
      ]
     },
     "metadata": {
      "needs_background": "light"
     },
     "output_type": "display_data"
    }
   ],
   "source": [
    "fig, ax = plt.subplots(3,2,figsize = (16,12))\n",
    "cols = ['headshotKills', 'roadKills','teamKills']\n",
    "for col, ax in zip(cols, ax):\n",
    "  sub = train[['winPlacePerc', col]].copy()\n",
    "  sub.loc[sub[col]>=5, col] = '5+'\n",
    "  sub[col] = sub[col].astype(str)\n",
    "  sub.groupby(col).mean()['winPlacePerc'].plot.bar(ax=ax[0])\n",
    "  train[col].hist(bins=20, ax= ax[1])"
   ]
  },
  {
   "cell_type": "code",
   "execution_count": 30,
   "metadata": {
    "colab": {
     "base_uri": "https://localhost:8080/",
     "height": 322
    },
    "colab_type": "code",
    "id": "r2dSbG0nzN9j",
    "outputId": "66138c09-5391-4fc1-da52-61fe5844e437"
   },
   "outputs": [
    {
     "data": {
      "text/plain": [
       "<matplotlib.axes._subplots.AxesSubplot at 0x17eb617e208>"
      ]
     },
     "execution_count": 30,
     "metadata": {},
     "output_type": "execute_result"
    },
    {
     "data": {
      "image/png": "[encoded data removed]",
      "text/plain": [
       "<Figure size 1152x288 with 2 Axes>"
      ]
     },
     "metadata": {
      "needs_background": "light"
     },
     "output_type": "display_data"
    }
   ],
   "source": [
    "fig, ax = plt.subplots(1,2,figsize = (16,4))\n",
    "\n",
    "col = 'assists'\n",
    "sub =train[['winPlacePerc', col]].copy()\n",
    "sub.loc[sub[col]>=5, col] = '5+'\n",
    "sub[col] = sub[col].astype(str)\n",
    "sub.groupby(col).mean()['winPlacePerc'].plot.bar(ax=ax[0])\n",
    "train[col].hist(bins=20, ax=ax[1])"
   ]
  },
  {
   "cell_type": "code",
   "execution_count": 31,
   "metadata": {
    "colab": {
     "base_uri": "https://localhost:8080/",
     "height": 106
    },
    "colab_type": "code",
    "id": "wRoXAXnxzfWk",
    "outputId": "5b9e3995-91e0-44ef-9127-4a36d8cce70d"
   },
   "outputs": [
    {
     "data": {
      "text/html": [
       "<div>\n",
       "<style scoped>\n",
       "    .dataframe tbody tr th:only-of-type {\n",
       "        vertical-align: middle;\n",
       "    }\n",
       "\n",
       "    .dataframe tbody tr th {\n",
       "        vertical-align: top;\n",
       "    }\n",
       "\n",
       "    .dataframe thead th {\n",
       "        text-align: right;\n",
       "    }\n",
       "</style>\n",
       "<table border=\"1\" class=\"dataframe\">\n",
       "  <thead>\n",
       "    <tr style=\"text-align: right;\">\n",
       "      <th></th>\n",
       "      <th>count</th>\n",
       "      <th>mean</th>\n",
       "      <th>std</th>\n",
       "      <th>min</th>\n",
       "      <th>25%</th>\n",
       "      <th>50%</th>\n",
       "      <th>75%</th>\n",
       "      <th>max</th>\n",
       "    </tr>\n",
       "  </thead>\n",
       "  <tbody>\n",
       "    <tr>\n",
       "      <td>solo</td>\n",
       "      <td>720713.000</td>\n",
       "      <td>0.062</td>\n",
       "      <td>0.298</td>\n",
       "      <td>0.000</td>\n",
       "      <td>0.000</td>\n",
       "      <td>0.000</td>\n",
       "      <td>0.000</td>\n",
       "      <td>22.000</td>\n",
       "    </tr>\n",
       "    <tr>\n",
       "      <td>team</td>\n",
       "      <td>3726253.000</td>\n",
       "      <td>0.267</td>\n",
       "      <td>0.624</td>\n",
       "      <td>0.000</td>\n",
       "      <td>0.000</td>\n",
       "      <td>0.000</td>\n",
       "      <td>0.000</td>\n",
       "      <td>17.000</td>\n",
       "    </tr>\n",
       "  </tbody>\n",
       "</table>\n",
       "</div>"
      ],
      "text/plain": [
       "           count  mean   std   min   25%   50%   75%    max\n",
       "solo  720713.000 0.062 0.298 0.000 0.000 0.000 0.000 22.000\n",
       "team 3726253.000 0.267 0.624 0.000 0.000 0.000 0.000 17.000"
      ]
     },
     "execution_count": 31,
     "metadata": {},
     "output_type": "execute_result"
    }
   ],
   "source": [
    "pd.concat([train[train['matchType'] == 'solo'].describe()['assists'], train[train['matchType'] != 'solo'].describe()['assists']], keys = ['solo', 'team'], axis = 1).T"
   ]
  },
  {
   "cell_type": "code",
   "execution_count": 32,
   "metadata": {
    "colab": {
     "base_uri": "https://localhost:8080/",
     "height": 406
    },
    "colab_type": "code",
    "id": "vfn2Kfcv0JLW",
    "outputId": "4013b5e1-f187-42d3-c38e-044b3f97fca4"
   },
   "outputs": [
    {
     "data": {
      "text/plain": [
       "<matplotlib.axes._subplots.AxesSubplot at 0x17eb61f7508>"
      ]
     },
     "execution_count": 32,
     "metadata": {},
     "output_type": "execute_result"
    },
    {
     "data": {
      "image/png": "[encoded data removed]",
      "text/plain": [
       "<Figure size 1152x288 with 2 Axes>"
      ]
     },
     "metadata": {
      "needs_background": "light"
     },
     "output_type": "display_data"
    }
   ],
   "source": [
    "fig, ax = plt.subplots(1,2,figsize = (16,4))\n",
    "\n",
    "col = 'longestKill'\n",
    "sub = train[['winPlacePerc', col]].copy()\n",
    "sub[col] = pd.cut(sub[col],6)\n",
    "sub.groupby(col).mean()['winPlacePerc'].plot.bar(ax=ax[0])\n",
    "train[col].hist(bins=20,ax=ax[1])"
   ]
  },
  {
   "cell_type": "code",
   "execution_count": 33,
   "metadata": {
    "colab": {
     "base_uri": "https://localhost:8080/",
     "height": 416
    },
    "colab_type": "code",
    "id": "CHwOoHP31K-6",
    "outputId": "2e99c3ac-e324-4b14-a5db-5da771aaefd5"
   },
   "outputs": [
    {
     "data": {
      "text/plain": [
       "<matplotlib.axes._subplots.AxesSubplot at 0x17ec4e7ac08>"
      ]
     },
     "execution_count": 33,
     "metadata": {},
     "output_type": "execute_result"
    },
    {
     "data": {
      "image/png": "[encoded data removed]",
      "text/plain": [
       "<Figure size 1152x288 with 2 Axes>"
      ]
     },
     "metadata": {
      "needs_background": "light"
     },
     "output_type": "display_data"
    }
   ],
   "source": [
    "fig,ax = plt.subplots(1,2,figsize = (16,4))\n",
    "\n",
    "col = 'damageDealt'\n",
    "sub = train[['winPlacePerc', col]].copy()\n",
    "sub[col] = pd.cut(sub[col], 6)\n",
    "sub.groupby(col).mean()['winPlacePerc'].plot.bar(ax=ax[0])\n",
    "train[col].hist(bins=20, ax=ax[1])"
   ]
  },
  {
   "cell_type": "code",
   "execution_count": 34,
   "metadata": {
    "colab": {
     "base_uri": "https://localhost:8080/",
     "height": 634
    },
    "colab_type": "code",
    "id": "qz_3KQv82INZ",
    "outputId": "774483f8-ea46-439a-ab2b-b04285c5fe3a"
   },
   "outputs": [
    {
     "data": {
      "text/html": [
       "<div>\n",
       "<style scoped>\n",
       "    .dataframe tbody tr th:only-of-type {\n",
       "        vertical-align: middle;\n",
       "    }\n",
       "\n",
       "    .dataframe tbody tr th {\n",
       "        vertical-align: top;\n",
       "    }\n",
       "\n",
       "    .dataframe thead th {\n",
       "        text-align: right;\n",
       "    }\n",
       "</style>\n",
       "<table border=\"1\" class=\"dataframe\">\n",
       "  <thead>\n",
       "    <tr style=\"text-align: right;\">\n",
       "      <th></th>\n",
       "      <th>damageDealt</th>\n",
       "      <th>kills</th>\n",
       "      <th>DBNOs</th>\n",
       "      <th>headshotKills</th>\n",
       "      <th>roadKills</th>\n",
       "      <th>teamKills</th>\n",
       "    </tr>\n",
       "  </thead>\n",
       "  <tbody>\n",
       "    <tr>\n",
       "      <td>150</td>\n",
       "      <td>0.000</td>\n",
       "      <td>0</td>\n",
       "      <td>1</td>\n",
       "      <td>0</td>\n",
       "      <td>0</td>\n",
       "      <td>1</td>\n",
       "    </tr>\n",
       "    <tr>\n",
       "      <td>589</td>\n",
       "      <td>0.000</td>\n",
       "      <td>0</td>\n",
       "      <td>1</td>\n",
       "      <td>0</td>\n",
       "      <td>0</td>\n",
       "      <td>0</td>\n",
       "    </tr>\n",
       "    <tr>\n",
       "      <td>707</td>\n",
       "      <td>0.000</td>\n",
       "      <td>0</td>\n",
       "      <td>1</td>\n",
       "      <td>0</td>\n",
       "      <td>0</td>\n",
       "      <td>0</td>\n",
       "    </tr>\n",
       "    <tr>\n",
       "      <td>892</td>\n",
       "      <td>0.000</td>\n",
       "      <td>1</td>\n",
       "      <td>0</td>\n",
       "      <td>0</td>\n",
       "      <td>0</td>\n",
       "      <td>0</td>\n",
       "    </tr>\n",
       "    <tr>\n",
       "      <td>942</td>\n",
       "      <td>0.000</td>\n",
       "      <td>1</td>\n",
       "      <td>0</td>\n",
       "      <td>0</td>\n",
       "      <td>0</td>\n",
       "      <td>0</td>\n",
       "    </tr>\n",
       "    <tr>\n",
       "      <td>949</td>\n",
       "      <td>0.000</td>\n",
       "      <td>0</td>\n",
       "      <td>1</td>\n",
       "      <td>0</td>\n",
       "      <td>0</td>\n",
       "      <td>2</td>\n",
       "    </tr>\n",
       "    <tr>\n",
       "      <td>1011</td>\n",
       "      <td>0.000</td>\n",
       "      <td>0</td>\n",
       "      <td>1</td>\n",
       "      <td>0</td>\n",
       "      <td>0</td>\n",
       "      <td>0</td>\n",
       "    </tr>\n",
       "    <tr>\n",
       "      <td>1468</td>\n",
       "      <td>0.000</td>\n",
       "      <td>0</td>\n",
       "      <td>2</td>\n",
       "      <td>0</td>\n",
       "      <td>0</td>\n",
       "      <td>1</td>\n",
       "    </tr>\n",
       "    <tr>\n",
       "      <td>1625</td>\n",
       "      <td>0.000</td>\n",
       "      <td>0</td>\n",
       "      <td>1</td>\n",
       "      <td>0</td>\n",
       "      <td>0</td>\n",
       "      <td>1</td>\n",
       "    </tr>\n",
       "    <tr>\n",
       "      <td>2111</td>\n",
       "      <td>0.000</td>\n",
       "      <td>0</td>\n",
       "      <td>1</td>\n",
       "      <td>0</td>\n",
       "      <td>0</td>\n",
       "      <td>1</td>\n",
       "    </tr>\n",
       "    <tr>\n",
       "      <td>2356</td>\n",
       "      <td>0.000</td>\n",
       "      <td>0</td>\n",
       "      <td>1</td>\n",
       "      <td>0</td>\n",
       "      <td>0</td>\n",
       "      <td>1</td>\n",
       "    </tr>\n",
       "    <tr>\n",
       "      <td>2411</td>\n",
       "      <td>0.000</td>\n",
       "      <td>0</td>\n",
       "      <td>1</td>\n",
       "      <td>0</td>\n",
       "      <td>0</td>\n",
       "      <td>1</td>\n",
       "    </tr>\n",
       "    <tr>\n",
       "      <td>2448</td>\n",
       "      <td>0.000</td>\n",
       "      <td>1</td>\n",
       "      <td>0</td>\n",
       "      <td>0</td>\n",
       "      <td>0</td>\n",
       "      <td>1</td>\n",
       "    </tr>\n",
       "    <tr>\n",
       "      <td>2822</td>\n",
       "      <td>0.000</td>\n",
       "      <td>0</td>\n",
       "      <td>1</td>\n",
       "      <td>0</td>\n",
       "      <td>0</td>\n",
       "      <td>0</td>\n",
       "    </tr>\n",
       "    <tr>\n",
       "      <td>2837</td>\n",
       "      <td>0.000</td>\n",
       "      <td>0</td>\n",
       "      <td>1</td>\n",
       "      <td>0</td>\n",
       "      <td>0</td>\n",
       "      <td>0</td>\n",
       "    </tr>\n",
       "    <tr>\n",
       "      <td>2849</td>\n",
       "      <td>0.000</td>\n",
       "      <td>0</td>\n",
       "      <td>1</td>\n",
       "      <td>0</td>\n",
       "      <td>0</td>\n",
       "      <td>2</td>\n",
       "    </tr>\n",
       "    <tr>\n",
       "      <td>2850</td>\n",
       "      <td>0.000</td>\n",
       "      <td>1</td>\n",
       "      <td>0</td>\n",
       "      <td>1</td>\n",
       "      <td>0</td>\n",
       "      <td>0</td>\n",
       "    </tr>\n",
       "    <tr>\n",
       "      <td>2984</td>\n",
       "      <td>0.000</td>\n",
       "      <td>0</td>\n",
       "      <td>1</td>\n",
       "      <td>0</td>\n",
       "      <td>0</td>\n",
       "      <td>0</td>\n",
       "    </tr>\n",
       "    <tr>\n",
       "      <td>3011</td>\n",
       "      <td>0.000</td>\n",
       "      <td>1</td>\n",
       "      <td>0</td>\n",
       "      <td>0</td>\n",
       "      <td>0</td>\n",
       "      <td>0</td>\n",
       "    </tr>\n",
       "    <tr>\n",
       "      <td>3042</td>\n",
       "      <td>0.000</td>\n",
       "      <td>0</td>\n",
       "      <td>1</td>\n",
       "      <td>0</td>\n",
       "      <td>0</td>\n",
       "      <td>1</td>\n",
       "    </tr>\n",
       "  </tbody>\n",
       "</table>\n",
       "</div>"
      ],
      "text/plain": [
       "      damageDealt  kills  DBNOs  headshotKills  roadKills  teamKills\n",
       "150         0.000      0      1              0          0          1\n",
       "589         0.000      0      1              0          0          0\n",
       "707         0.000      0      1              0          0          0\n",
       "892         0.000      1      0              0          0          0\n",
       "942         0.000      1      0              0          0          0\n",
       "949         0.000      0      1              0          0          2\n",
       "1011        0.000      0      1              0          0          0\n",
       "1468        0.000      0      2              0          0          1\n",
       "1625        0.000      0      1              0          0          1\n",
       "2111        0.000      0      1              0          0          1\n",
       "2356        0.000      0      1              0          0          1\n",
       "2411        0.000      0      1              0          0          1\n",
       "2448        0.000      1      0              0          0          1\n",
       "2822        0.000      0      1              0          0          0\n",
       "2837        0.000      0      1              0          0          0\n",
       "2849        0.000      0      1              0          0          2\n",
       "2850        0.000      1      0              1          0          0\n",
       "2984        0.000      0      1              0          0          0\n",
       "3011        0.000      1      0              0          0          0\n",
       "3042        0.000      0      1              0          0          1"
      ]
     },
     "execution_count": 34,
     "metadata": {},
     "output_type": "execute_result"
    }
   ],
   "source": [
    "train.query('damageDealt == 0 & (kills > 0 | DBNOs > 0)')[['damageDealt', 'kills','DBNOs','headshotKills','roadKills','teamKills']].head(20)"
   ]
  },
  {
   "cell_type": "code",
   "execution_count": 35,
   "metadata": {
    "colab": {
     "base_uri": "https://localhost:8080/",
     "height": 833
    },
    "colab_type": "code",
    "id": "uszNEaOO2282",
    "outputId": "5656dc56-4852-454a-955b-246a538d276f"
   },
   "outputs": [
    {
     "data": {
      "image/png": "[encoded data removed]",
      "text/plain": [
       "<Figure size 1152x864 with 6 Axes>"
      ]
     },
     "metadata": {
      "needs_background": "light"
     },
     "output_type": "display_data"
    }
   ],
   "source": [
    "fig, ax = plt.subplots(3,2,figsize = (16,12))\n",
    "\n",
    "cols = ['walkDistance', 'rideDistance','swimDistance']\n",
    "for col, ax in zip(cols, ax):\n",
    "  sub =train[['winPlacePerc', col]].copy()\n",
    "  sub[col] = pd.cut(sub[col],6)\n",
    "  sub.groupby(col).mean()['winPlacePerc'].plot.bar(ax = ax[0])\n",
    "  train[col].hist(bins=20, ax = ax[1])"
   ]
  },
  {
   "cell_type": "code",
   "execution_count": 36,
   "metadata": {
    "colab": {
     "base_uri": "https://localhost:8080/",
     "height": 325
    },
    "colab_type": "code",
    "id": "Qk5XzV7E3Q66",
    "outputId": "548689b1-6fbe-4a01-e25e-3b031a8768df"
   },
   "outputs": [
    {
     "data": {
      "image/png": "[encoded data removed]",
      "text/plain": [
       "<Figure size 1152x216 with 3 Axes>"
      ]
     },
     "metadata": {
      "needs_background": "light"
     },
     "output_type": "display_data"
    }
   ],
   "source": [
    "sub = train[['walkDistance','rideDistance','swimDistance','winPlacePerc']].copy()\n",
    "walk = train['walkDistance']\n",
    "sub['walkDistanceBin'] = pd.cut(walk, [0, 0.001, walk.quantile(.25), walk.quantile(.5), walk.quantile(.75), 99999])\n",
    "sub['rideDistanceBin'] = (train['rideDistance']>0).astype(int)\n",
    "sub['swimDistanceBin'] = (train['swimDistance']>0).astype(int)\n",
    "\n",
    "fig, ax = plt.subplots(1, 3, figsize =(16,3), sharey = True)\n",
    "sub.groupby('walkDistanceBin').mean()['winPlacePerc'].plot.bar(ax=ax[0])\n",
    "sub.groupby('rideDistanceBin').mean()['winPlacePerc'].plot.bar(ax=ax[1])\n",
    "sub.groupby('swimDistanceBin').mean()['winPlacePerc'].plot.bar(ax=ax[2])\n",
    "del sub, walk"
   ]
  },
  {
   "cell_type": "code",
   "execution_count": 37,
   "metadata": {
    "colab": {
     "base_uri": "https://localhost:8080/",
     "height": 35
    },
    "colab_type": "code",
    "id": "nWonC57m39K7",
    "outputId": "45ef8ac6-07fc-49cf-a65e-3cdf95c1613e"
   },
   "outputs": [
    {
     "name": "stdout",
     "output_type": "stream",
     "text": [
      "count :  18155 winPlacePerc : 0.053\n"
     ]
    }
   ],
   "source": [
    "sub = train.query ('walkDistance == 0 & kills == 0 & weaponsAcquired == 0 & \\'solo\\' in matchType')\n",
    "print('count : ',len(sub), 'winPlacePerc :', round(sub['winPlacePerc'].mean(),3))"
   ]
  },
  {
   "cell_type": "code",
   "execution_count": 38,
   "metadata": {
    "colab": {
     "base_uri": "https://localhost:8080/",
     "height": 52
    },
    "colab_type": "code",
    "id": "JjhhDzBF5L-U",
    "outputId": "8ff2b907-78af-4f6e-e203-53b68862e746"
   },
   "outputs": [
    {
     "name": "stdout",
     "output_type": "stream",
     "text": [
      "kills > 3&(headshotKills / kills) >= 0.8 \n",
      " count :  3859 winPlacePerc :  0.824\n"
     ]
    }
   ],
   "source": [
    "sq = 'kills > 3&(headshotKills / kills) >= 0.8'\n",
    "sub = train.query(sq)\n",
    "print(sq, '\\n count : ', len(sub), 'winPlacePerc : ', round(sub['winPlacePerc'].mean(),3))"
   ]
  },
  {
   "cell_type": "code",
   "execution_count": 39,
   "metadata": {
    "colab": {
     "base_uri": "https://localhost:8080/",
     "height": 352
    },
    "colab_type": "code",
    "id": "aYKCziuf5QuS",
    "outputId": "a69b10f5-113d-4361-fe58-7d30f75e0f4a"
   },
   "outputs": [
    {
     "name": "stderr",
     "output_type": "stream",
     "text": [
      "'c' argument looks like a single numeric RGB or RGBA sequence, which should be avoided as value-mapping will have precedence in case its length matches with 'x' & 'y'.  Please use a 2-D array with a single row if you really want to specify the same RGB or RGBA value for all points.\n",
      "'c' argument looks like a single numeric RGB or RGBA sequence, which should be avoided as value-mapping will have precedence in case its length matches with 'x' & 'y'.  Please use a 2-D array with a single row if you really want to specify the same RGB or RGBA value for all points.\n",
      "'c' argument looks like a single numeric RGB or RGBA sequence, which should be avoided as value-mapping will have precedence in case its length matches with 'x' & 'y'.  Please use a 2-D array with a single row if you really want to specify the same RGB or RGBA value for all points.\n"
     ]
    },
    {
     "data": {
      "image/png": "[encoded data removed]",
      "text/plain": [
       "<Figure size 1152x288 with 3 Axes>"
      ]
     },
     "metadata": {
      "needs_background": "light"
     },
     "output_type": "display_data"
    }
   ],
   "source": [
    "fig, ax = plt.subplots(1,3,figsize = (16,4), sharey = True)\n",
    "\n",
    "cols = ['killPoints', 'rankPoints','winPoints']\n",
    "for col, ax in zip (cols, ax.ravel()):\n",
    "  train.plot.scatter(x=col, y='winPlacePerc',ax = ax)"
   ]
  },
  {
   "cell_type": "code",
   "execution_count": 40,
   "metadata": {
    "colab": {
     "base_uri": "https://localhost:8080/",
     "height": 164
    },
    "colab_type": "code",
    "id": "btbhTwSx8tlE",
    "outputId": "c4003f77-eaea-46d2-db73-61ce9d20ff2e"
   },
   "outputs": [
    {
     "data": {
      "text/html": [
       "<div>\n",
       "<style scoped>\n",
       "    .dataframe tbody tr th:only-of-type {\n",
       "        vertical-align: middle;\n",
       "    }\n",
       "\n",
       "    .dataframe tbody tr th {\n",
       "        vertical-align: top;\n",
       "    }\n",
       "\n",
       "    .dataframe thead tr th {\n",
       "        text-align: left;\n",
       "    }\n",
       "\n",
       "    .dataframe thead tr:last-of-type th {\n",
       "        text-align: right;\n",
       "    }\n",
       "</style>\n",
       "<table border=\"1\" class=\"dataframe\">\n",
       "  <thead>\n",
       "    <tr>\n",
       "      <th></th>\n",
       "      <th colspan=\"2\" halign=\"left\">winPoints</th>\n",
       "      <th colspan=\"2\" halign=\"left\">killPoints</th>\n",
       "    </tr>\n",
       "    <tr>\n",
       "      <th>winPoints</th>\n",
       "      <th>p&lt;=0</th>\n",
       "      <th>p&gt;0</th>\n",
       "      <th>p&lt;=0</th>\n",
       "      <th>p&gt;0</th>\n",
       "    </tr>\n",
       "    <tr>\n",
       "      <th>rankPoints</th>\n",
       "      <th></th>\n",
       "      <th></th>\n",
       "      <th></th>\n",
       "      <th></th>\n",
       "    </tr>\n",
       "  </thead>\n",
       "  <tbody>\n",
       "    <tr>\n",
       "      <td>p&lt;=0</td>\n",
       "      <td>0</td>\n",
       "      <td>1791319</td>\n",
       "      <td>0</td>\n",
       "      <td>1791319</td>\n",
       "    </tr>\n",
       "    <tr>\n",
       "      <td>p&gt;0</td>\n",
       "      <td>2655647</td>\n",
       "      <td>0</td>\n",
       "      <td>2655647</td>\n",
       "      <td>0</td>\n",
       "    </tr>\n",
       "  </tbody>\n",
       "</table>\n",
       "</div>"
      ],
      "text/plain": [
       "           winPoints          killPoints         \n",
       "winPoints       p<=0      p>0       p<=0      p>0\n",
       "rankPoints                                       \n",
       "p<=0               0  1791319          0  1791319\n",
       "p>0          2655647        0    2655647        0"
      ]
     },
     "execution_count": 40,
     "metadata": {},
     "output_type": "execute_result"
    }
   ],
   "source": [
    "sign = lambda x : 'p<=0' if x <= 0 else 'p>0'\n",
    "pd.concat([pd.crosstab(train['rankPoints'].apply(sign), train['winPoints'].apply(sign), margins = False), pd.crosstab(train['rankPoints'].apply(sign), train['killPoints'].apply(sign), margins=False)], keys = ['winPoints','killPoints'], axis = 1)"
   ]
  },
  {
   "cell_type": "code",
   "execution_count": 41,
   "metadata": {
    "colab": {
     "base_uri": "https://localhost:8080/",
     "height": 177
    },
    "colab_type": "code",
    "id": "FcYTKTQm94N0",
    "outputId": "83c69e76-fc33-41d1-f40b-d33a6d8a3c7b"
   },
   "outputs": [
    {
     "data": {
      "text/plain": [
       "count   4446965.000\n",
       "mean          0.473\n",
       "std           0.307\n",
       "min           0.000\n",
       "25%           0.200\n",
       "50%           0.458\n",
       "75%           0.741\n",
       "max           1.000\n",
       "Name: winPlacePerc, dtype: float64"
      ]
     },
     "execution_count": 41,
     "metadata": {},
     "output_type": "execute_result"
    }
   ],
   "source": [
    "train['winPlacePerc'].describe()"
   ]
  },
  {
   "cell_type": "code",
   "execution_count": 42,
   "metadata": {
    "colab": {
     "base_uri": "https://localhost:8080/",
     "height": 88
    },
    "colab_type": "code",
    "id": "1FbWkbq89_CJ",
    "outputId": "bf98988d-7d62-4d00-e124-a6a9234fc913"
   },
   "outputs": [
    {
     "name": "stdout",
     "output_type": "stream",
     "text": [
      "match count :  47965\n",
      "match [not contains 1st place]: 75\n",
      "match[maxPlace >1 & numGroups == 1]: 68\n",
      " - unique winPlacePerc : [0.]\n"
     ]
    }
   ],
   "source": [
    "print('match count : ', train['matchId'].nunique())\n",
    "\n",
    "maxPlacePerc = train.groupby('matchId')['winPlacePerc'].max()\n",
    "print('match [not contains 1st place]:', len(maxPlacePerc[maxPlacePerc != 1]))\n",
    "del maxPlacePerc\n",
    "\n",
    "sub = train[(train['maxPlace']>1) & (train['numGroups'] == 1)]\n",
    "print('match[maxPlace >1 & numGroups == 1]:', len(sub.groupby('matchId')))\n",
    "print(' - unique winPlacePerc :', sub['winPlacePerc'].unique())"
   ]
  },
  {
   "cell_type": "code",
   "execution_count": 43,
   "metadata": {
    "colab": {
     "base_uri": "https://localhost:8080/",
     "height": 360
    },
    "colab_type": "code",
    "id": "uEunz4Hr-J-c",
    "outputId": "b53945cc-ccd3-45c1-9b6a-5b40d3380215"
   },
   "outputs": [
    {
     "data": {
      "text/html": [
       "<div>\n",
       "<style scoped>\n",
       "    .dataframe tbody tr th:only-of-type {\n",
       "        vertical-align: middle;\n",
       "    }\n",
       "\n",
       "    .dataframe tbody tr th {\n",
       "        vertical-align: top;\n",
       "    }\n",
       "\n",
       "    .dataframe thead th {\n",
       "        text-align: right;\n",
       "    }\n",
       "</style>\n",
       "<table border=\"1\" class=\"dataframe\">\n",
       "  <thead>\n",
       "    <tr style=\"text-align: right;\">\n",
       "      <th></th>\n",
       "      <th></th>\n",
       "      <th>Id</th>\n",
       "      <th>groupId</th>\n",
       "      <th>matchId</th>\n",
       "      <th>assists</th>\n",
       "      <th>boosts</th>\n",
       "      <th>damageDealt</th>\n",
       "      <th>DBNOs</th>\n",
       "      <th>headshotKills</th>\n",
       "      <th>heals</th>\n",
       "      <th>killPlace</th>\n",
       "      <th>...</th>\n",
       "      <th>revives</th>\n",
       "      <th>rideDistance</th>\n",
       "      <th>roadKills</th>\n",
       "      <th>swimDistance</th>\n",
       "      <th>teamKills</th>\n",
       "      <th>vehicleDestroys</th>\n",
       "      <th>walkDistance</th>\n",
       "      <th>weaponsAcquired</th>\n",
       "      <th>winPoints</th>\n",
       "      <th>winPlacePerc</th>\n",
       "    </tr>\n",
       "  </thead>\n",
       "  <tbody>\n",
       "    <tr>\n",
       "      <td rowspan=\"5\" valign=\"top\">winPlacePerc_1</td>\n",
       "      <td>67</td>\n",
       "      <td>22252be49d4419</td>\n",
       "      <td>37fa7583da2fa2</td>\n",
       "      <td>1ce1cb998f75c7</td>\n",
       "      <td>1</td>\n",
       "      <td>5</td>\n",
       "      <td>378.800</td>\n",
       "      <td>2</td>\n",
       "      <td>3</td>\n",
       "      <td>6</td>\n",
       "      <td>4</td>\n",
       "      <td>...</td>\n",
       "      <td>0</td>\n",
       "      <td>317.700</td>\n",
       "      <td>0</td>\n",
       "      <td>0.000</td>\n",
       "      <td>0</td>\n",
       "      <td>1</td>\n",
       "      <td>3120.000</td>\n",
       "      <td>4</td>\n",
       "      <td>0</td>\n",
       "      <td>1.000</td>\n",
       "    </tr>\n",
       "    <tr>\n",
       "      <td>107</td>\n",
       "      <td>7970b4ea89e81e</td>\n",
       "      <td>abf9e2780b9f48</td>\n",
       "      <td>04832cfd74ff30</td>\n",
       "      <td>1</td>\n",
       "      <td>1</td>\n",
       "      <td>58.360</td>\n",
       "      <td>0</td>\n",
       "      <td>0</td>\n",
       "      <td>2</td>\n",
       "      <td>38</td>\n",
       "      <td>...</td>\n",
       "      <td>0</td>\n",
       "      <td>5134.000</td>\n",
       "      <td>0</td>\n",
       "      <td>0.000</td>\n",
       "      <td>0</td>\n",
       "      <td>0</td>\n",
       "      <td>2708.000</td>\n",
       "      <td>7</td>\n",
       "      <td>0</td>\n",
       "      <td>1.000</td>\n",
       "    </tr>\n",
       "    <tr>\n",
       "      <td>118</td>\n",
       "      <td>953577684b828a</td>\n",
       "      <td>54ce33c41ef9ff</td>\n",
       "      <td>c5d412db6dbee4</td>\n",
       "      <td>2</td>\n",
       "      <td>6</td>\n",
       "      <td>76.110</td>\n",
       "      <td>0</td>\n",
       "      <td>0</td>\n",
       "      <td>12</td>\n",
       "      <td>45</td>\n",
       "      <td>...</td>\n",
       "      <td>1</td>\n",
       "      <td>0.000</td>\n",
       "      <td>0</td>\n",
       "      <td>0.000</td>\n",
       "      <td>0</td>\n",
       "      <td>0</td>\n",
       "      <td>2635.000</td>\n",
       "      <td>7</td>\n",
       "      <td>0</td>\n",
       "      <td>1.000</td>\n",
       "    </tr>\n",
       "    <tr>\n",
       "      <td>123</td>\n",
       "      <td>174c758156bcf3</td>\n",
       "      <td>a935604c9bb7aa</td>\n",
       "      <td>edc87c8d445823</td>\n",
       "      <td>1</td>\n",
       "      <td>9</td>\n",
       "      <td>626.200</td>\n",
       "      <td>4</td>\n",
       "      <td>3</td>\n",
       "      <td>2</td>\n",
       "      <td>4</td>\n",
       "      <td>...</td>\n",
       "      <td>0</td>\n",
       "      <td>1045.000</td>\n",
       "      <td>0</td>\n",
       "      <td>0.000</td>\n",
       "      <td>0</td>\n",
       "      <td>0</td>\n",
       "      <td>2814.000</td>\n",
       "      <td>7</td>\n",
       "      <td>1566</td>\n",
       "      <td>1.000</td>\n",
       "    </tr>\n",
       "    <tr>\n",
       "      <td>186</td>\n",
       "      <td>eb7a3e9f50eca5</td>\n",
       "      <td>fe3d74f737cd10</td>\n",
       "      <td>92338c2233be1a</td>\n",
       "      <td>0</td>\n",
       "      <td>5</td>\n",
       "      <td>778.000</td>\n",
       "      <td>0</td>\n",
       "      <td>3</td>\n",
       "      <td>2</td>\n",
       "      <td>2</td>\n",
       "      <td>...</td>\n",
       "      <td>0</td>\n",
       "      <td>0.000</td>\n",
       "      <td>0</td>\n",
       "      <td>0.000</td>\n",
       "      <td>0</td>\n",
       "      <td>0</td>\n",
       "      <td>2422.000</td>\n",
       "      <td>5</td>\n",
       "      <td>1506</td>\n",
       "      <td>1.000</td>\n",
       "    </tr>\n",
       "    <tr>\n",
       "      <td rowspan=\"5\" valign=\"top\">winPlacePerc_0</td>\n",
       "      <td>6</td>\n",
       "      <td>95959be0e21ca3</td>\n",
       "      <td>2c485a1ad3d0f1</td>\n",
       "      <td>a8274e903927a2</td>\n",
       "      <td>0</td>\n",
       "      <td>0</td>\n",
       "      <td>0.000</td>\n",
       "      <td>0</td>\n",
       "      <td>0</td>\n",
       "      <td>0</td>\n",
       "      <td>96</td>\n",
       "      <td>...</td>\n",
       "      <td>0</td>\n",
       "      <td>0.000</td>\n",
       "      <td>0</td>\n",
       "      <td>0.000</td>\n",
       "      <td>0</td>\n",
       "      <td>0</td>\n",
       "      <td>13.500</td>\n",
       "      <td>1</td>\n",
       "      <td>1497</td>\n",
       "      <td>0.000</td>\n",
       "    </tr>\n",
       "    <tr>\n",
       "      <td>29</td>\n",
       "      <td>ac5b57ff39979c</td>\n",
       "      <td>857cc55b2b6001</td>\n",
       "      <td>e019e04dee4f19</td>\n",
       "      <td>0</td>\n",
       "      <td>0</td>\n",
       "      <td>0.000</td>\n",
       "      <td>0</td>\n",
       "      <td>0</td>\n",
       "      <td>0</td>\n",
       "      <td>87</td>\n",
       "      <td>...</td>\n",
       "      <td>0</td>\n",
       "      <td>0.000</td>\n",
       "      <td>0</td>\n",
       "      <td>0.000</td>\n",
       "      <td>0</td>\n",
       "      <td>0</td>\n",
       "      <td>0.000</td>\n",
       "      <td>0</td>\n",
       "      <td>0</td>\n",
       "      <td>0.000</td>\n",
       "    </tr>\n",
       "    <tr>\n",
       "      <td>62</td>\n",
       "      <td>eea397f23204bd</td>\n",
       "      <td>19650a810dbdbf</td>\n",
       "      <td>b99cd2f850c233</td>\n",
       "      <td>0</td>\n",
       "      <td>0</td>\n",
       "      <td>100.000</td>\n",
       "      <td>1</td>\n",
       "      <td>0</td>\n",
       "      <td>0</td>\n",
       "      <td>41</td>\n",
       "      <td>...</td>\n",
       "      <td>0</td>\n",
       "      <td>0.000</td>\n",
       "      <td>0</td>\n",
       "      <td>0.000</td>\n",
       "      <td>0</td>\n",
       "      <td>0</td>\n",
       "      <td>9.907</td>\n",
       "      <td>1</td>\n",
       "      <td>1514</td>\n",
       "      <td>0.000</td>\n",
       "    </tr>\n",
       "    <tr>\n",
       "      <td>74</td>\n",
       "      <td>8b3cdbefd1f408</td>\n",
       "      <td>d25fc68b94f38c</td>\n",
       "      <td>128c05e4e54c63</td>\n",
       "      <td>0</td>\n",
       "      <td>0</td>\n",
       "      <td>0.000</td>\n",
       "      <td>0</td>\n",
       "      <td>0</td>\n",
       "      <td>0</td>\n",
       "      <td>91</td>\n",
       "      <td>...</td>\n",
       "      <td>0</td>\n",
       "      <td>0.000</td>\n",
       "      <td>0</td>\n",
       "      <td>0.000</td>\n",
       "      <td>0</td>\n",
       "      <td>0</td>\n",
       "      <td>27.060</td>\n",
       "      <td>1</td>\n",
       "      <td>0</td>\n",
       "      <td>0.000</td>\n",
       "    </tr>\n",
       "    <tr>\n",
       "      <td>103</td>\n",
       "      <td>c4260ce3746cf8</td>\n",
       "      <td>2e3ce1fb9b7812</td>\n",
       "      <td>8fb790bb47a1cc</td>\n",
       "      <td>0</td>\n",
       "      <td>0</td>\n",
       "      <td>0.000</td>\n",
       "      <td>0</td>\n",
       "      <td>0</td>\n",
       "      <td>0</td>\n",
       "      <td>94</td>\n",
       "      <td>...</td>\n",
       "      <td>0</td>\n",
       "      <td>0.000</td>\n",
       "      <td>0</td>\n",
       "      <td>0.000</td>\n",
       "      <td>0</td>\n",
       "      <td>0</td>\n",
       "      <td>68.900</td>\n",
       "      <td>2</td>\n",
       "      <td>0</td>\n",
       "      <td>0.000</td>\n",
       "    </tr>\n",
       "  </tbody>\n",
       "</table>\n",
       "<p>10 rows × 29 columns</p>\n",
       "</div>"
      ],
      "text/plain": [
       "                                Id         groupId         matchId  assists  \\\n",
       "winPlacePerc_1 67   22252be49d4419  37fa7583da2fa2  1ce1cb998f75c7        1   \n",
       "               107  7970b4ea89e81e  abf9e2780b9f48  04832cfd74ff30        1   \n",
       "               118  953577684b828a  54ce33c41ef9ff  c5d412db6dbee4        2   \n",
       "               123  174c758156bcf3  a935604c9bb7aa  edc87c8d445823        1   \n",
       "               186  eb7a3e9f50eca5  fe3d74f737cd10  92338c2233be1a        0   \n",
       "winPlacePerc_0 6    95959be0e21ca3  2c485a1ad3d0f1  a8274e903927a2        0   \n",
       "               29   ac5b57ff39979c  857cc55b2b6001  e019e04dee4f19        0   \n",
       "               62   eea397f23204bd  19650a810dbdbf  b99cd2f850c233        0   \n",
       "               74   8b3cdbefd1f408  d25fc68b94f38c  128c05e4e54c63        0   \n",
       "               103  c4260ce3746cf8  2e3ce1fb9b7812  8fb790bb47a1cc        0   \n",
       "\n",
       "                    boosts  damageDealt  DBNOs  headshotKills  heals  \\\n",
       "winPlacePerc_1 67        5      378.800      2              3      6   \n",
       "               107       1       58.360      0              0      2   \n",
       "               118       6       76.110      0              0     12   \n",
       "               123       9      626.200      4              3      2   \n",
       "               186       5      778.000      0              3      2   \n",
       "winPlacePerc_0 6         0        0.000      0              0      0   \n",
       "               29        0        0.000      0              0      0   \n",
       "               62        0      100.000      1              0      0   \n",
       "               74        0        0.000      0              0      0   \n",
       "               103       0        0.000      0              0      0   \n",
       "\n",
       "                    killPlace  ...  revives  rideDistance  roadKills  \\\n",
       "winPlacePerc_1 67           4  ...        0       317.700          0   \n",
       "               107         38  ...        0      5134.000          0   \n",
       "               118         45  ...        1         0.000          0   \n",
       "               123          4  ...        0      1045.000          0   \n",
       "               186          2  ...        0         0.000          0   \n",
       "winPlacePerc_0 6           96  ...        0         0.000          0   \n",
       "               29          87  ...        0         0.000          0   \n",
       "               62          41  ...        0         0.000          0   \n",
       "               74          91  ...        0         0.000          0   \n",
       "               103         94  ...        0         0.000          0   \n",
       "\n",
       "                    swimDistance  teamKills vehicleDestroys  walkDistance  \\\n",
       "winPlacePerc_1 67          0.000          0               1      3120.000   \n",
       "               107         0.000          0               0      2708.000   \n",
       "               118         0.000          0               0      2635.000   \n",
       "               123         0.000          0               0      2814.000   \n",
       "               186         0.000          0               0      2422.000   \n",
       "winPlacePerc_0 6           0.000          0               0        13.500   \n",
       "               29          0.000          0               0         0.000   \n",
       "               62          0.000          0               0         9.907   \n",
       "               74          0.000          0               0        27.060   \n",
       "               103         0.000          0               0        68.900   \n",
       "\n",
       "                    weaponsAcquired  winPoints  winPlacePerc  \n",
       "winPlacePerc_1 67                 4          0         1.000  \n",
       "               107                7          0         1.000  \n",
       "               118                7          0         1.000  \n",
       "               123                7       1566         1.000  \n",
       "               186                5       1506         1.000  \n",
       "winPlacePerc_0 6                  1       1497         0.000  \n",
       "               29                 0          0         0.000  \n",
       "               62                 1       1514         0.000  \n",
       "               74                 1          0         0.000  \n",
       "               103                2          0         0.000  \n",
       "\n",
       "[10 rows x 29 columns]"
      ]
     },
     "execution_count": 43,
     "metadata": {},
     "output_type": "execute_result"
    }
   ],
   "source": [
    "pd.concat([train[train['winPlacePerc'] ==1 ].head(5), train[train['winPlacePerc'] ==0].head(5)], keys = ['winPlacePerc_1', 'winPlacePerc_0'])"
   ]
  },
  {
   "cell_type": "code",
   "execution_count": 44,
   "metadata": {
    "colab": {
     "base_uri": "https://localhost:8080/",
     "height": 428
    },
    "colab_type": "code",
    "id": "GGELiHiH-Ko7",
    "outputId": "d3e8fb23-b472-4893-fc48-4d436c40b7ce"
   },
   "outputs": [
    {
     "data": {
      "text/html": [
       "<div>\n",
       "<style scoped>\n",
       "    .dataframe tbody tr th:only-of-type {\n",
       "        vertical-align: middle;\n",
       "    }\n",
       "\n",
       "    .dataframe tbody tr th {\n",
       "        vertical-align: top;\n",
       "    }\n",
       "\n",
       "    .dataframe thead tr th {\n",
       "        text-align: left;\n",
       "    }\n",
       "</style>\n",
       "<table border=\"1\" class=\"dataframe\">\n",
       "  <thead>\n",
       "    <tr>\n",
       "      <th></th>\n",
       "      <th colspan=\"4\" halign=\"left\">solo</th>\n",
       "      <th colspan=\"4\" halign=\"left\">team</th>\n",
       "    </tr>\n",
       "    <tr>\n",
       "      <th></th>\n",
       "      <th>count</th>\n",
       "      <th>min</th>\n",
       "      <th>mean</th>\n",
       "      <th>max</th>\n",
       "      <th>count</th>\n",
       "      <th>min</th>\n",
       "      <th>mean</th>\n",
       "      <th>max</th>\n",
       "    </tr>\n",
       "  </thead>\n",
       "  <tbody>\n",
       "    <tr>\n",
       "      <td>kills</td>\n",
       "      <td>8095.000</td>\n",
       "      <td>0.000</td>\n",
       "      <td>83.410</td>\n",
       "      <td>786.000</td>\n",
       "      <td>39870.000</td>\n",
       "      <td>0.000</td>\n",
       "      <td>86.212</td>\n",
       "      <td>687.000</td>\n",
       "    </tr>\n",
       "    <tr>\n",
       "      <td>teamKills</td>\n",
       "      <td>8095.000</td>\n",
       "      <td>0.000</td>\n",
       "      <td>1.023</td>\n",
       "      <td>15.000</td>\n",
       "      <td>39870.000</td>\n",
       "      <td>0.000</td>\n",
       "      <td>2.455</td>\n",
       "      <td>76.000</td>\n",
       "    </tr>\n",
       "    <tr>\n",
       "      <td>DBNOs</td>\n",
       "      <td>8095.000</td>\n",
       "      <td>0.000</td>\n",
       "      <td>0.000</td>\n",
       "      <td>0.000</td>\n",
       "      <td>39870.000</td>\n",
       "      <td>0.000</td>\n",
       "      <td>73.377</td>\n",
       "      <td>669.000</td>\n",
       "    </tr>\n",
       "    <tr>\n",
       "      <td>revives</td>\n",
       "      <td>8095.000</td>\n",
       "      <td>0.000</td>\n",
       "      <td>0.000</td>\n",
       "      <td>0.000</td>\n",
       "      <td>39870.000</td>\n",
       "      <td>0.000</td>\n",
       "      <td>18.366</td>\n",
       "      <td>81.000</td>\n",
       "    </tr>\n",
       "    <tr>\n",
       "      <td>assists</td>\n",
       "      <td>8095.000</td>\n",
       "      <td>0.000</td>\n",
       "      <td>5.541</td>\n",
       "      <td>219.000</td>\n",
       "      <td>39870.000</td>\n",
       "      <td>0.000</td>\n",
       "      <td>24.954</td>\n",
       "      <td>275.000</td>\n",
       "    </tr>\n",
       "    <tr>\n",
       "      <td>boosts</td>\n",
       "      <td>8095.000</td>\n",
       "      <td>0.000</td>\n",
       "      <td>94.361</td>\n",
       "      <td>182.000</td>\n",
       "      <td>39870.000</td>\n",
       "      <td>0.000</td>\n",
       "      <td>104.302</td>\n",
       "      <td>227.000</td>\n",
       "    </tr>\n",
       "    <tr>\n",
       "      <td>heals</td>\n",
       "      <td>8095.000</td>\n",
       "      <td>0.000</td>\n",
       "      <td>90.291</td>\n",
       "      <td>395.000</td>\n",
       "      <td>39870.000</td>\n",
       "      <td>0.000</td>\n",
       "      <td>134.489</td>\n",
       "      <td>424.000</td>\n",
       "    </tr>\n",
       "    <tr>\n",
       "      <td>damageDealt</td>\n",
       "      <td>8095.000</td>\n",
       "      <td>0.000</td>\n",
       "      <td>10609.554</td>\n",
       "      <td>80991.203</td>\n",
       "      <td>39870.000</td>\n",
       "      <td>0.000</td>\n",
       "      <td>12425.667</td>\n",
       "      <td>68960.344</td>\n",
       "    </tr>\n",
       "    <tr>\n",
       "      <td>walkDistance</td>\n",
       "      <td>8095.000</td>\n",
       "      <td>0.000</td>\n",
       "      <td>85056.578</td>\n",
       "      <td>156265.719</td>\n",
       "      <td>39870.000</td>\n",
       "      <td>0.000</td>\n",
       "      <td>111468.266</td>\n",
       "      <td>216150.875</td>\n",
       "    </tr>\n",
       "    <tr>\n",
       "      <td>rideDistance</td>\n",
       "      <td>8095.000</td>\n",
       "      <td>0.000</td>\n",
       "      <td>41245.410</td>\n",
       "      <td>207528.625</td>\n",
       "      <td>39870.000</td>\n",
       "      <td>0.000</td>\n",
       "      <td>59229.430</td>\n",
       "      <td>370542.188</td>\n",
       "    </tr>\n",
       "    <tr>\n",
       "      <td>swimDistance</td>\n",
       "      <td>8095.000</td>\n",
       "      <td>0.000</td>\n",
       "      <td>452.937</td>\n",
       "      <td>5222.350</td>\n",
       "      <td>39870.000</td>\n",
       "      <td>0.000</td>\n",
       "      <td>410.993</td>\n",
       "      <td>9829.961</td>\n",
       "    </tr>\n",
       "    <tr>\n",
       "      <td>weaponsAcquired</td>\n",
       "      <td>8095.000</td>\n",
       "      <td>0.000</td>\n",
       "      <td>319.979</td>\n",
       "      <td>1860.000</td>\n",
       "      <td>39870.000</td>\n",
       "      <td>0.000</td>\n",
       "      <td>343.312</td>\n",
       "      <td>1666.000</td>\n",
       "    </tr>\n",
       "  </tbody>\n",
       "</table>\n",
       "</div>"
      ],
      "text/plain": [
       "                    solo                                 team        \\\n",
       "                   count   min      mean        max     count   min   \n",
       "kills           8095.000 0.000    83.410    786.000 39870.000 0.000   \n",
       "teamKills       8095.000 0.000     1.023     15.000 39870.000 0.000   \n",
       "DBNOs           8095.000 0.000     0.000      0.000 39870.000 0.000   \n",
       "revives         8095.000 0.000     0.000      0.000 39870.000 0.000   \n",
       "assists         8095.000 0.000     5.541    219.000 39870.000 0.000   \n",
       "boosts          8095.000 0.000    94.361    182.000 39870.000 0.000   \n",
       "heals           8095.000 0.000    90.291    395.000 39870.000 0.000   \n",
       "damageDealt     8095.000 0.000 10609.554  80991.203 39870.000 0.000   \n",
       "walkDistance    8095.000 0.000 85056.578 156265.719 39870.000 0.000   \n",
       "rideDistance    8095.000 0.000 41245.410 207528.625 39870.000 0.000   \n",
       "swimDistance    8095.000 0.000   452.937   5222.350 39870.000 0.000   \n",
       "weaponsAcquired 8095.000 0.000   319.979   1860.000 39870.000 0.000   \n",
       "\n",
       "                                       \n",
       "                      mean        max  \n",
       "kills               86.212    687.000  \n",
       "teamKills            2.455     76.000  \n",
       "DBNOs               73.377    669.000  \n",
       "revives             18.366     81.000  \n",
       "assists             24.954    275.000  \n",
       "boosts             104.302    227.000  \n",
       "heals              134.489    424.000  \n",
       "damageDealt      12425.667  68960.344  \n",
       "walkDistance    111468.266 216150.875  \n",
       "rideDistance     59229.430 370542.188  \n",
       "swimDistance       410.993   9829.961  \n",
       "weaponsAcquired    343.312   1666.000  "
      ]
     },
     "execution_count": 44,
     "metadata": {},
     "output_type": "execute_result"
    }
   ],
   "source": [
    "cols = ['kills','teamKills','DBNOs','revives','assists','boosts','heals','damageDealt','walkDistance','rideDistance','swimDistance','weaponsAcquired']\n",
    "\n",
    "aggs = ['count','min','mean','max']\n",
    "\n",
    "grp = train.loc[train['matchType'].str.contains('solo')].groupby('matchId')\n",
    "grpSolo = grp[cols].sum()\n",
    "grp = train.loc[~train['matchType'].str.contains('solo')].groupby('matchId')\n",
    "grpTeam = grp[cols].sum()\n",
    "\n",
    "pd.concat([grpSolo.describe().T[aggs], grpTeam.describe().T[aggs]], keys = ['solo','team'], axis=1)"
   ]
  },
  {
   "cell_type": "code",
   "execution_count": 45,
   "metadata": {
    "colab": {
     "base_uri": "https://localhost:8080/",
     "height": 243
    },
    "colab_type": "code",
    "id": "X8An3_UV_XSy",
    "outputId": "40f61a4a-71b7-41db-d058-7fd73727d14c"
   },
   "outputs": [
    {
     "data": {
      "text/html": [
       "<div>\n",
       "<style scoped>\n",
       "    .dataframe tbody tr th:only-of-type {\n",
       "        vertical-align: middle;\n",
       "    }\n",
       "\n",
       "    .dataframe tbody tr th {\n",
       "        vertical-align: top;\n",
       "    }\n",
       "\n",
       "    .dataframe thead th {\n",
       "        text-align: right;\n",
       "    }\n",
       "</style>\n",
       "<table border=\"1\" class=\"dataframe\">\n",
       "  <thead>\n",
       "    <tr style=\"text-align: right;\">\n",
       "      <th></th>\n",
       "      <th>kills</th>\n",
       "      <th>teamKills</th>\n",
       "      <th>DBNOs</th>\n",
       "      <th>revives</th>\n",
       "      <th>assists</th>\n",
       "      <th>boosts</th>\n",
       "      <th>heals</th>\n",
       "      <th>damageDealt</th>\n",
       "      <th>walkDistance</th>\n",
       "      <th>rideDistance</th>\n",
       "      <th>swimDistance</th>\n",
       "      <th>weaponsAcquired</th>\n",
       "    </tr>\n",
       "    <tr>\n",
       "      <th>matchId</th>\n",
       "      <th></th>\n",
       "      <th></th>\n",
       "      <th></th>\n",
       "      <th></th>\n",
       "      <th></th>\n",
       "      <th></th>\n",
       "      <th></th>\n",
       "      <th></th>\n",
       "      <th></th>\n",
       "      <th></th>\n",
       "      <th></th>\n",
       "      <th></th>\n",
       "    </tr>\n",
       "  </thead>\n",
       "  <tbody>\n",
       "    <tr>\n",
       "      <td>cfa2775c9ef944</td>\n",
       "      <td>786.000</td>\n",
       "      <td>1.000</td>\n",
       "      <td>0.000</td>\n",
       "      <td>0.000</td>\n",
       "      <td>185.000</td>\n",
       "      <td>0.000</td>\n",
       "      <td>395.000</td>\n",
       "      <td>80991.203</td>\n",
       "      <td>15327.690</td>\n",
       "      <td>17631.699</td>\n",
       "      <td>0.000</td>\n",
       "      <td>1860</td>\n",
       "    </tr>\n",
       "    <tr>\n",
       "      <td>fe7043ee6221c8</td>\n",
       "      <td>691.000</td>\n",
       "      <td>2.000</td>\n",
       "      <td>0.000</td>\n",
       "      <td>0.000</td>\n",
       "      <td>219.000</td>\n",
       "      <td>18.000</td>\n",
       "      <td>53.000</td>\n",
       "      <td>67722.703</td>\n",
       "      <td>19284.920</td>\n",
       "      <td>8599.500</td>\n",
       "      <td>0.000</td>\n",
       "      <td>1497</td>\n",
       "    </tr>\n",
       "    <tr>\n",
       "      <td>e024bf51bf1799</td>\n",
       "      <td>516.000</td>\n",
       "      <td>3.000</td>\n",
       "      <td>0.000</td>\n",
       "      <td>0.000</td>\n",
       "      <td>159.000</td>\n",
       "      <td>0.000</td>\n",
       "      <td>60.000</td>\n",
       "      <td>52742.699</td>\n",
       "      <td>14045.650</td>\n",
       "      <td>7914.800</td>\n",
       "      <td>0.000</td>\n",
       "      <td>1109</td>\n",
       "    </tr>\n",
       "    <tr>\n",
       "      <td>f900de1ec39fa5</td>\n",
       "      <td>415.000</td>\n",
       "      <td>1.000</td>\n",
       "      <td>0.000</td>\n",
       "      <td>0.000</td>\n",
       "      <td>151.000</td>\n",
       "      <td>0.000</td>\n",
       "      <td>42.000</td>\n",
       "      <td>40134.000</td>\n",
       "      <td>8468.610</td>\n",
       "      <td>8739.500</td>\n",
       "      <td>0.000</td>\n",
       "      <td>877</td>\n",
       "    </tr>\n",
       "    <tr>\n",
       "      <td>5921b55b9e96b5</td>\n",
       "      <td>387.000</td>\n",
       "      <td>0.000</td>\n",
       "      <td>0.000</td>\n",
       "      <td>0.000</td>\n",
       "      <td>110.000</td>\n",
       "      <td>0.000</td>\n",
       "      <td>56.000</td>\n",
       "      <td>40473.000</td>\n",
       "      <td>11463.260</td>\n",
       "      <td>4915.000</td>\n",
       "      <td>0.000</td>\n",
       "      <td>837</td>\n",
       "    </tr>\n",
       "  </tbody>\n",
       "</table>\n",
       "</div>"
      ],
      "text/plain": [
       "                 kills  teamKills  DBNOs  revives  assists  boosts   heals  \\\n",
       "matchId                                                                      \n",
       "cfa2775c9ef944 786.000      1.000  0.000    0.000  185.000   0.000 395.000   \n",
       "fe7043ee6221c8 691.000      2.000  0.000    0.000  219.000  18.000  53.000   \n",
       "e024bf51bf1799 516.000      3.000  0.000    0.000  159.000   0.000  60.000   \n",
       "f900de1ec39fa5 415.000      1.000  0.000    0.000  151.000   0.000  42.000   \n",
       "5921b55b9e96b5 387.000      0.000  0.000    0.000  110.000   0.000  56.000   \n",
       "\n",
       "                damageDealt  walkDistance  rideDistance  swimDistance  \\\n",
       "matchId                                                                 \n",
       "cfa2775c9ef944    80991.203     15327.690     17631.699         0.000   \n",
       "fe7043ee6221c8    67722.703     19284.920      8599.500         0.000   \n",
       "e024bf51bf1799    52742.699     14045.650      7914.800         0.000   \n",
       "f900de1ec39fa5    40134.000      8468.610      8739.500         0.000   \n",
       "5921b55b9e96b5    40473.000     11463.260      4915.000         0.000   \n",
       "\n",
       "                weaponsAcquired  \n",
       "matchId                          \n",
       "cfa2775c9ef944             1860  \n",
       "fe7043ee6221c8             1497  \n",
       "e024bf51bf1799             1109  \n",
       "f900de1ec39fa5              877  \n",
       "5921b55b9e96b5              837  "
      ]
     },
     "execution_count": 45,
     "metadata": {},
     "output_type": "execute_result"
    }
   ],
   "source": [
    "grpSolo.nlargest(5,'kills')"
   ]
  },
  {
   "cell_type": "code",
   "execution_count": 46,
   "metadata": {
    "colab": {
     "base_uri": "https://localhost:8080/",
     "height": 243
    },
    "colab_type": "code",
    "id": "hCpkGe38AdVw",
    "outputId": "d898a4ff-6e40-4b86-9285-57e0a606cbbd"
   },
   "outputs": [
    {
     "data": {
      "text/html": [
       "<div>\n",
       "<style scoped>\n",
       "    .dataframe tbody tr th:only-of-type {\n",
       "        vertical-align: middle;\n",
       "    }\n",
       "\n",
       "    .dataframe tbody tr th {\n",
       "        vertical-align: top;\n",
       "    }\n",
       "\n",
       "    .dataframe thead th {\n",
       "        text-align: right;\n",
       "    }\n",
       "</style>\n",
       "<table border=\"1\" class=\"dataframe\">\n",
       "  <thead>\n",
       "    <tr style=\"text-align: right;\">\n",
       "      <th></th>\n",
       "      <th>kills</th>\n",
       "      <th>teamKills</th>\n",
       "      <th>DBNOs</th>\n",
       "      <th>revives</th>\n",
       "      <th>assists</th>\n",
       "      <th>boosts</th>\n",
       "      <th>heals</th>\n",
       "      <th>damageDealt</th>\n",
       "      <th>walkDistance</th>\n",
       "      <th>rideDistance</th>\n",
       "      <th>swimDistance</th>\n",
       "      <th>weaponsAcquired</th>\n",
       "    </tr>\n",
       "    <tr>\n",
       "      <th>matchId</th>\n",
       "      <th></th>\n",
       "      <th></th>\n",
       "      <th></th>\n",
       "      <th></th>\n",
       "      <th></th>\n",
       "      <th></th>\n",
       "      <th></th>\n",
       "      <th></th>\n",
       "      <th></th>\n",
       "      <th></th>\n",
       "      <th></th>\n",
       "      <th></th>\n",
       "    </tr>\n",
       "  </thead>\n",
       "  <tbody>\n",
       "    <tr>\n",
       "      <td>6680c7c3d17d48</td>\n",
       "      <td>687.000</td>\n",
       "      <td>7.000</td>\n",
       "      <td>0.000</td>\n",
       "      <td>0.000</td>\n",
       "      <td>232.000</td>\n",
       "      <td>60.000</td>\n",
       "      <td>134.000</td>\n",
       "      <td>65617.102</td>\n",
       "      <td>11311.930</td>\n",
       "      <td>8454.950</td>\n",
       "      <td>0.000</td>\n",
       "      <td>1558</td>\n",
       "    </tr>\n",
       "    <tr>\n",
       "      <td>8a728def0644be</td>\n",
       "      <td>656.000</td>\n",
       "      <td>1.000</td>\n",
       "      <td>669.000</td>\n",
       "      <td>35.000</td>\n",
       "      <td>258.000</td>\n",
       "      <td>0.000</td>\n",
       "      <td>277.000</td>\n",
       "      <td>68960.344</td>\n",
       "      <td>27110.521</td>\n",
       "      <td>17190.260</td>\n",
       "      <td>0.000</td>\n",
       "      <td>1558</td>\n",
       "    </tr>\n",
       "    <tr>\n",
       "      <td>6bf647ecee30da</td>\n",
       "      <td>638.000</td>\n",
       "      <td>12.000</td>\n",
       "      <td>0.000</td>\n",
       "      <td>0.000</td>\n",
       "      <td>157.000</td>\n",
       "      <td>1.000</td>\n",
       "      <td>236.000</td>\n",
       "      <td>64173.059</td>\n",
       "      <td>67684.250</td>\n",
       "      <td>33173.238</td>\n",
       "      <td>0.000</td>\n",
       "      <td>1666</td>\n",
       "    </tr>\n",
       "    <tr>\n",
       "      <td>25830709cb9033</td>\n",
       "      <td>628.000</td>\n",
       "      <td>3.000</td>\n",
       "      <td>0.000</td>\n",
       "      <td>0.000</td>\n",
       "      <td>181.000</td>\n",
       "      <td>0.000</td>\n",
       "      <td>296.000</td>\n",
       "      <td>65856.797</td>\n",
       "      <td>49591.730</td>\n",
       "      <td>32569.000</td>\n",
       "      <td>0.000</td>\n",
       "      <td>1553</td>\n",
       "    </tr>\n",
       "    <tr>\n",
       "      <td>17dea22cefe62a</td>\n",
       "      <td>583.000</td>\n",
       "      <td>3.000</td>\n",
       "      <td>0.000</td>\n",
       "      <td>0.000</td>\n",
       "      <td>181.000</td>\n",
       "      <td>4.000</td>\n",
       "      <td>102.000</td>\n",
       "      <td>61720.801</td>\n",
       "      <td>15640.520</td>\n",
       "      <td>20187.859</td>\n",
       "      <td>0.000</td>\n",
       "      <td>1348</td>\n",
       "    </tr>\n",
       "  </tbody>\n",
       "</table>\n",
       "</div>"
      ],
      "text/plain": [
       "                 kills  teamKills   DBNOs  revives  assists  boosts   heals  \\\n",
       "matchId                                                                       \n",
       "6680c7c3d17d48 687.000      7.000   0.000    0.000  232.000  60.000 134.000   \n",
       "8a728def0644be 656.000      1.000 669.000   35.000  258.000   0.000 277.000   \n",
       "6bf647ecee30da 638.000     12.000   0.000    0.000  157.000   1.000 236.000   \n",
       "25830709cb9033 628.000      3.000   0.000    0.000  181.000   0.000 296.000   \n",
       "17dea22cefe62a 583.000      3.000   0.000    0.000  181.000   4.000 102.000   \n",
       "\n",
       "                damageDealt  walkDistance  rideDistance  swimDistance  \\\n",
       "matchId                                                                 \n",
       "6680c7c3d17d48    65617.102     11311.930      8454.950         0.000   \n",
       "8a728def0644be    68960.344     27110.521     17190.260         0.000   \n",
       "6bf647ecee30da    64173.059     67684.250     33173.238         0.000   \n",
       "25830709cb9033    65856.797     49591.730     32569.000         0.000   \n",
       "17dea22cefe62a    61720.801     15640.520     20187.859         0.000   \n",
       "\n",
       "                weaponsAcquired  \n",
       "matchId                          \n",
       "6680c7c3d17d48             1558  \n",
       "8a728def0644be             1558  \n",
       "6bf647ecee30da             1666  \n",
       "25830709cb9033             1553  \n",
       "17dea22cefe62a             1348  "
      ]
     },
     "execution_count": 46,
     "metadata": {},
     "output_type": "execute_result"
    }
   ],
   "source": [
    "grpTeam.nlargest(5,'kills')"
   ]
  },
  {
   "cell_type": "code",
   "execution_count": 47,
   "metadata": {
    "colab": {},
    "colab_type": "code",
    "id": "dO9ZVvkMAi3L"
   },
   "outputs": [],
   "source": [
    "del grpSolo, grpTeam"
   ]
  },
  {
   "cell_type": "code",
   "execution_count": 48,
   "metadata": {
    "colab": {
     "base_uri": "https://localhost:8080/",
     "height": 1000
    },
    "colab_type": "code",
    "id": "NGHHDsLvAleX",
    "outputId": "db6d3649-2586-46a3-84f6-867b4210fb01"
   },
   "outputs": [
    {
     "data": {
      "image/png": "[encoded data removed]",
      "text/plain": [
       "<Figure size 864x1296 with 6 Axes>"
      ]
     },
     "metadata": {
      "needs_background": "light"
     },
     "output_type": "display_data"
    }
   ],
   "source": [
    "cols = ['kills','teamKills','DBNOs','revives','assists','boosts','heals','damageDealt','walkDistance','rideDistance','swimDistance','weaponsAcquired']\n",
    "cols.extend(['killPlace','winPlacePerc'])\n",
    "group = train.groupby(['matchId','groupId'])[cols]\n",
    "\n",
    "fig, ax = plt.subplots(3,1,figsize = (12,18), sharey = True)\n",
    "for df, ax in zip ([group.mean(), group.min(), group.max()], ax.ravel()):\n",
    "  sns.heatmap(df.corr(), annot = True, linewidths =.6, fmt = '.2f', vmax = 1, vmin = -1, center = 0, cmap = 'Blues', ax = ax)\n",
    "\n",
    "del df "
   ]
  },
  {
   "cell_type": "code",
   "execution_count": 49,
   "metadata": {
    "colab": {},
    "colab_type": "code",
    "id": "4i_er9TBBD7v"
   },
   "outputs": [],
   "source": [
    "def printMatchStats(matchIds):\n",
    "  for mid in matchIds : \n",
    "    subMatch = train[train['matchId'] == mid ]\n",
    "    print('matchType : ', subMatch['matchType'].values[0])\n",
    "\n",
    "    grp1st = subMatch[subMatch['winPlacePerc'] == 1]\n",
    "    grp0ther = subMatch[subMatch['winPlacePerc'] != 1]\n",
    "    print('players'.ljust(10), 'total : {:>3} 1st :{:>3} other:{:>3}'.format(len(subMatch), len(grp1st), len(grp0ther)))\n",
    "    for c in ['kills', 'teamKills','roadKills', 'DBNOs', 'revives', 'assists']:\n",
    "      print(c.ljust(10), 'total:{:>3} 1st:{:>3} other:{:>3}'.format(subMatch[c].sum(), grp1st[c].sum(), grp0ther[c].sum()))\n",
    "    print('-'*30)"
   ]
  },
  {
   "cell_type": "code",
   "execution_count": 50,
   "metadata": {
    "colab": {
     "base_uri": "https://localhost:8080/",
     "height": 817
    },
    "colab_type": "code",
    "id": "059PF7l17BMB",
    "outputId": "8f9c7c4d-f062-46ad-a3df-f112393cd552"
   },
   "outputs": [
    {
     "name": "stdout",
     "output_type": "stream",
     "text": [
      "matchType :  squad\n",
      "players    total :  96 1st :  4 other: 92\n",
      "kills      total: 84 1st: 15 other: 69\n",
      "teamKills  total:  4 1st:  0 other:  4\n",
      "roadKills  total:  0 1st:  0 other:  0\n",
      "DBNOs      total: 78 1st: 11 other: 67\n",
      "revives    total: 14 1st:  2 other: 12\n",
      "assists    total: 28 1st:  7 other: 21\n",
      "------------------------------\n",
      "matchType :  squad\n",
      "players    total :  91 1st :  4 other: 87\n",
      "kills      total: 83 1st:  7 other: 76\n",
      "teamKills  total:  1 1st:  0 other:  1\n",
      "roadKills  total:  0 1st:  0 other:  0\n",
      "DBNOs      total: 79 1st:  5 other: 74\n",
      "revives    total: 17 1st:  3 other: 14\n",
      "assists    total: 35 1st:  6 other: 29\n",
      "------------------------------\n",
      "matchType :  duo\n",
      "players    total :  98 1st :  2 other: 96\n",
      "kills      total: 91 1st:  9 other: 82\n",
      "teamKills  total:  0 1st:  0 other:  0\n",
      "roadKills  total:  0 1st:  0 other:  0\n",
      "DBNOs      total: 52 1st:  4 other: 48\n",
      "revives    total:  7 1st:  2 other:  5\n",
      "assists    total: 20 1st:  3 other: 17\n",
      "------------------------------\n",
      "matchType :  squad\n",
      "players    total :  91 1st :  3 other: 88\n",
      "kills      total: 82 1st:  8 other: 74\n",
      "teamKills  total:  3 1st:  0 other:  3\n",
      "roadKills  total:  0 1st:  0 other:  0\n",
      "DBNOs      total: 78 1st:  5 other: 73\n",
      "revives    total: 24 1st:  0 other: 24\n",
      "assists    total: 27 1st:  3 other: 24\n",
      "------------------------------\n",
      "matchType :  solo\n",
      "players    total :  97 1st :  1 other: 96\n",
      "kills      total: 91 1st: 11 other: 80\n",
      "teamKills  total:  2 1st:  0 other:  2\n",
      "roadKills  total:  0 1st:  0 other:  0\n",
      "DBNOs      total:  0 1st:  0 other:  0\n",
      "revives    total:  0 1st:  0 other:  0\n",
      "assists    total:  5 1st:  0 other:  5\n",
      "------------------------------\n"
     ]
    }
   ],
   "source": [
    "sampleMid = train['matchId'].unique()[0:5]\n",
    "printMatchStats(sampleMid)"
   ]
  },
  {
   "cell_type": "code",
   "execution_count": 51,
   "metadata": {
    "colab": {
     "base_uri": "https://localhost:8080/",
     "height": 817
    },
    "colab_type": "code",
    "id": "JUl8Wfbk7Kpa",
    "outputId": "d356d0bd-49db-4575-9709-4f6cb6c74bae"
   },
   "outputs": [
    {
     "name": "stdout",
     "output_type": "stream",
     "text": [
      "matchType :  duo\n",
      "players    total : 100 1st :  2 other: 98\n",
      "kills      total: 95 1st:  6 other: 89\n",
      "teamKills  total:  1 1st:  0 other:  1\n",
      "roadKills  total:  0 1st:  0 other:  0\n",
      "DBNOs      total: 59 1st:  2 other: 57\n",
      "revives    total: 11 1st:  0 other: 11\n",
      "assists    total: 22 1st:  0 other: 22\n",
      "------------------------------\n",
      "matchType :  duo\n",
      "players    total : 100 1st :  2 other: 98\n",
      "kills      total: 93 1st:  8 other: 85\n",
      "teamKills  total:  3 1st:  0 other:  3\n",
      "roadKills  total:  0 1st:  0 other:  0\n",
      "DBNOs      total: 66 1st:  3 other: 63\n",
      "revives    total: 16 1st:  1 other: 15\n",
      "assists    total: 22 1st:  3 other: 19\n",
      "------------------------------\n",
      "matchType :  squad\n",
      "players    total : 100 1st :  4 other: 96\n",
      "kills      total: 90 1st: 10 other: 80\n",
      "teamKills  total:  1 1st:  0 other:  1\n",
      "roadKills  total:  0 1st:  0 other:  0\n",
      "DBNOs      total: 89 1st:  8 other: 81\n",
      "revives    total: 21 1st:  2 other: 19\n",
      "assists    total: 35 1st:  6 other: 29\n",
      "------------------------------\n",
      "matchType :  squad\n",
      "players    total : 100 1st :  4 other: 96\n",
      "kills      total: 93 1st:  4 other: 89\n",
      "teamKills  total:  4 1st:  0 other:  4\n",
      "roadKills  total:  0 1st:  0 other:  0\n",
      "DBNOs      total: 83 1st:  3 other: 80\n",
      "revives    total: 13 1st:  1 other: 12\n",
      "assists    total: 24 1st:  1 other: 23\n",
      "------------------------------\n",
      "matchType :  duo\n",
      "players    total : 100 1st :  2 other: 98\n",
      "kills      total: 95 1st:  4 other: 91\n",
      "teamKills  total:  1 1st:  0 other:  1\n",
      "roadKills  total:  0 1st:  0 other:  0\n",
      "DBNOs      total: 70 1st:  2 other: 68\n",
      "revives    total: 24 1st:  1 other: 23\n",
      "assists    total: 17 1st:  1 other: 16\n",
      "------------------------------\n"
     ]
    }
   ],
   "source": [
    "match = train.groupby(['matchId'])['Id'].count()\n",
    "fullplayer = match[match == 100].reset_index()\n",
    "sampleMid = fullplayer['matchId'][0:5]\n",
    "printMatchStats(sampleMid)"
   ]
  },
  {
   "cell_type": "code",
   "execution_count": 52,
   "metadata": {
    "colab": {
     "base_uri": "https://localhost:8080/",
     "height": 35
    },
    "colab_type": "code",
    "id": "Q0PtMCzB73_x",
    "outputId": "13b28fd1-64e8-4018-8a37-e2cbd50dfc6e"
   },
   "outputs": [
    {
     "data": {
      "text/plain": [
       "40"
      ]
     },
     "execution_count": 52,
     "metadata": {},
     "output_type": "execute_result"
    }
   ],
   "source": [
    "all_data = train.append(test, sort = False).reset_index(drop=True)\n",
    "del train, test\n",
    "gc.collect()"
   ]
  },
  {
   "cell_type": "code",
   "execution_count": 53,
   "metadata": {
    "colab": {},
    "colab_type": "code",
    "id": "3klfYyRe8Sph"
   },
   "outputs": [],
   "source": [
    "match = all_data.groupby('matchId')\n",
    "all_data['killsPerc'] = match['kills'].rank(pct=True).values\n",
    "all_data['killPlacePerc'] = match['killPlace'].rank(pct = True).values\n",
    "all_data['walkDistancePerc'] = match['walkDistance'].rank(pct= True).values\n",
    "all_data['walkPerc_killsPerc'] = all_data['walkDistancePerc']/all_data['killsPerc']"
   ]
  },
  {
   "cell_type": "code",
   "execution_count": 54,
   "metadata": {
    "colab": {},
    "colab_type": "code",
    "id": "CdpWcZ0U-L-Q"
   },
   "outputs": [],
   "source": [
    "all_data['_totalDistance'] = all_data['rideDistance'] + all_data['walkDistance'] + all_data['swimDistance'] "
   ]
  },
  {
   "cell_type": "code",
   "execution_count": 55,
   "metadata": {
    "colab": {},
    "colab_type": "code",
    "id": "gXogOsYS-ZFr"
   },
   "outputs": [],
   "source": [
    "def fillInf(df, val):\n",
    "  numcols = df.select_dtypes(include = 'number').columns\n",
    "  cols = numcols[numcols != 'winPlacePerc']\n",
    "  df[df == np.Inf] = np.NaN\n",
    "  df[df == np.NINF] = np.NaN\n",
    "  for c in cols : df[c].fillna(val, inplace = True)"
   ]
  },
  {
   "cell_type": "code",
   "execution_count": 56,
   "metadata": {
    "colab": {},
    "colab_type": "code",
    "id": "6eO-waeX-pYa"
   },
   "outputs": [],
   "source": [
    "all_data['_healthItems'] = all_data['heals'] + all_data['boosts']\n",
    "all_data['_headshotKillRate'] = all_data['headshotKills'] / all_data['kills']\n",
    "all_data['_killPlaceOverMaxPlace'] = all_data['killPlace'] / all_data['maxPlace']\n",
    "all_data['_killsOverWalkDistance'] = all_data['kills'] / all_data['walkDistance']\n",
    "\n",
    "fillInf(all_data, 0 )"
   ]
  },
  {
   "cell_type": "code",
   "execution_count": 57,
   "metadata": {
    "colab": {},
    "colab_type": "code",
    "id": "XaHTr3EF_HMS"
   },
   "outputs": [],
   "source": [
    "all_data.drop(['boosts', 'heals','killStreaks','DBNOs'], axis = 1, inplace = True)\n",
    "all_data.drop(['headshotKills','roadKills','vehicleDestroys'], axis = 1, inplace = True)\n",
    "all_data.drop(['rideDistance','swimDistance','matchDuration'], axis = 1, inplace = True)\n",
    "all_data.drop(['rankPoints','killPoints','winPoints'], axis = 1, inplace = True)"
   ]
  },
  {
   "cell_type": "code",
   "execution_count": 58,
   "metadata": {
    "colab": {
     "base_uri": "https://localhost:8080/",
     "height": 55
    },
    "colab_type": "code",
    "id": "wVn0FFgL_hmn",
    "outputId": "4a966ae7-1358-4377-cc89-1e01fc366eee"
   },
   "outputs": [
    {
     "name": "stdout",
     "output_type": "stream",
     "text": [
      "['assists', 'damageDealt', 'killPlace', 'kills', 'longestKill', 'revives', 'teamKills', 'walkDistance', 'weaponsAcquired', 'killsPerc', 'killPlacePerc', 'walkDistancePerc', 'walkPerc_killsPerc', '_totalDistance', '_healthItems', '_headshotKillRate', '_killPlaceOverMaxPlace', '_killsOverWalkDistance']\n"
     ]
    }
   ],
   "source": [
    "match = all_data.groupby(['matchId'])\n",
    "group = all_data.groupby(['matchId', 'groupId', 'matchType'])\n",
    "\n",
    "agg_col = list(all_data.columns)\n",
    "exclude_agg_col = ['Id','matchId','groupId','matchType','maxPlace','numGroups','winPlacePerc']\n",
    "for c in exclude_agg_col:\n",
    "  agg_col.remove(c)\n",
    "\n",
    "print(agg_col)\n",
    "\n",
    "sum_col = ['kills', 'killPlace','damageDealt','walkDistance','_healthItems']"
   ]
  },
  {
   "cell_type": "code",
   "execution_count": 59,
   "metadata": {
    "colab": {
     "base_uri": "https://localhost:8080/",
     "height": 52
    },
    "colab_type": "code",
    "id": "Wyqqs2sE_qYQ",
    "outputId": "4f3363f9-8e5d-411e-8992-17d4c1012b51"
   },
   "outputs": [
    {
     "name": "stdout",
     "output_type": "stream",
     "text": [
      "Memory usage of dataframe is 408.37MB --> 288.92 MB (Decreased by 29.3%)\n",
      "(2912983, 24)\n"
     ]
    }
   ],
   "source": [
    "match_data = pd.concat([\n",
    "                        match.size().to_frame('m.players'),\n",
    "                        match[sum_col].sum().rename(columns = lambda s: 'm.sum.' +s),\n",
    "                        match[sum_col].max().rename(columns = lambda s: 'm.max.' +s),\n",
    "                        match[sum_col].mean().rename(columns = lambda s: 'm.mean' +s)\n",
    "                        ], axis=1).reset_index()\n",
    "match_data = pd.merge(match_data, group[sum_col].sum().rename(columns = lambda s : 'sum.' +s).reset_index())\n",
    "match_data = reduce_mem_usage(match_data)\n",
    "\n",
    "print(match_data.shape)"
   ]
  },
  {
   "cell_type": "code",
   "execution_count": 60,
   "metadata": {
    "colab": {
     "base_uri": "https://localhost:8080/",
     "height": 52
    },
    "colab_type": "code",
    "id": "d8jRcx70CXb_",
    "outputId": "ba1ab364-dcbd-4cad-9f83-99e48dabc0b0"
   },
   "outputs": [
    {
     "name": "stdout",
     "output_type": "stream",
     "text": [
      "Memory usage of dataframe is 377.81MB --> 333.36 MB (Decreased by 11.8%)\n",
      "(2912983, 28)\n"
     ]
    }
   ],
   "source": [
    "minKills = all_data.sort_values(['matchId','groupId','kills','killPlace']).groupby(['matchId', 'groupId','kills']).first().reset_index().copy()\n",
    "for n in np.arange(4):\n",
    "  c = 'kills_' + str(n) + '_Place'\n",
    "  nKills = (minKills['kills'] == n)\n",
    "  minKills.loc[nKills, c] = minKills[nKills].groupby(['matchId'])['killPlace'].rank().values\n",
    "  match_data = pd.merge(match_data, minKills[nKills][['matchId', 'groupId',c]], how = 'left')\n",
    "\n",
    "match_data = reduce_mem_usage(match_data)\n",
    "del minKills, nKills \n",
    "\n",
    "print(match_data.shape)"
   ]
  },
  {
   "cell_type": "code",
   "execution_count": 61,
   "metadata": {
    "colab": {
     "base_uri": "https://localhost:8080/",
     "height": 214
    },
    "colab_type": "code",
    "id": "MwyrmOtvE1h7",
    "outputId": "2f4c20fb-c854-40be-f30b-6b13197d343a"
   },
   "outputs": [
    {
     "data": {
      "text/html": [
       "<div>\n",
       "<style scoped>\n",
       "    .dataframe tbody tr th:only-of-type {\n",
       "        vertical-align: middle;\n",
       "    }\n",
       "\n",
       "    .dataframe tbody tr th {\n",
       "        vertical-align: top;\n",
       "    }\n",
       "\n",
       "    .dataframe thead th {\n",
       "        text-align: right;\n",
       "    }\n",
       "</style>\n",
       "<table border=\"1\" class=\"dataframe\">\n",
       "  <thead>\n",
       "    <tr style=\"text-align: right;\">\n",
       "      <th></th>\n",
       "      <th>matchId</th>\n",
       "      <th>m.players</th>\n",
       "      <th>m.sum.kills</th>\n",
       "      <th>m.sum.killPlace</th>\n",
       "      <th>m.sum.damageDealt</th>\n",
       "      <th>m.sum.walkDistance</th>\n",
       "      <th>m.sum._healthItems</th>\n",
       "      <th>m.max.kills</th>\n",
       "      <th>m.max.killPlace</th>\n",
       "      <th>m.max.damageDealt</th>\n",
       "      <th>...</th>\n",
       "      <th>matchType</th>\n",
       "      <th>sum.kills</th>\n",
       "      <th>sum.killPlace</th>\n",
       "      <th>sum.damageDealt</th>\n",
       "      <th>sum.walkDistance</th>\n",
       "      <th>sum._healthItems</th>\n",
       "      <th>kills_0_Place</th>\n",
       "      <th>kills_1_Place</th>\n",
       "      <th>kills_2_Place</th>\n",
       "      <th>kills_3_Place</th>\n",
       "    </tr>\n",
       "  </thead>\n",
       "  <tbody>\n",
       "    <tr>\n",
       "      <td>0</td>\n",
       "      <td>0000a43bce5eec</td>\n",
       "      <td>95</td>\n",
       "      <td>90.000</td>\n",
       "      <td>4560.000</td>\n",
       "      <td>13539.771</td>\n",
       "      <td>119082.789</td>\n",
       "      <td>224.000</td>\n",
       "      <td>7</td>\n",
       "      <td>95</td>\n",
       "      <td>983.700</td>\n",
       "      <td>...</td>\n",
       "      <td>squad</td>\n",
       "      <td>2.000</td>\n",
       "      <td>82.000</td>\n",
       "      <td>219.350</td>\n",
       "      <td>263.370</td>\n",
       "      <td>2.000</td>\n",
       "      <td>13.000</td>\n",
       "      <td>nan</td>\n",
       "      <td>6.000</td>\n",
       "      <td>nan</td>\n",
       "    </tr>\n",
       "    <tr>\n",
       "      <td>1</td>\n",
       "      <td>0000a43bce5eec</td>\n",
       "      <td>95</td>\n",
       "      <td>90.000</td>\n",
       "      <td>4560.000</td>\n",
       "      <td>13539.771</td>\n",
       "      <td>119082.789</td>\n",
       "      <td>224.000</td>\n",
       "      <td>7</td>\n",
       "      <td>95</td>\n",
       "      <td>983.700</td>\n",
       "      <td>...</td>\n",
       "      <td>squad</td>\n",
       "      <td>0.000</td>\n",
       "      <td>543.000</td>\n",
       "      <td>287.930</td>\n",
       "      <td>119.591</td>\n",
       "      <td>0.000</td>\n",
       "      <td>21.000</td>\n",
       "      <td>nan</td>\n",
       "      <td>nan</td>\n",
       "      <td>nan</td>\n",
       "    </tr>\n",
       "    <tr>\n",
       "      <td>2</td>\n",
       "      <td>0000a43bce5eec</td>\n",
       "      <td>95</td>\n",
       "      <td>90.000</td>\n",
       "      <td>4560.000</td>\n",
       "      <td>13539.771</td>\n",
       "      <td>119082.789</td>\n",
       "      <td>224.000</td>\n",
       "      <td>7</td>\n",
       "      <td>95</td>\n",
       "      <td>983.700</td>\n",
       "      <td>...</td>\n",
       "      <td>squad</td>\n",
       "      <td>0.000</td>\n",
       "      <td>189.000</td>\n",
       "      <td>0.000</td>\n",
       "      <td>9.636</td>\n",
       "      <td>0.000</td>\n",
       "      <td>22.000</td>\n",
       "      <td>nan</td>\n",
       "      <td>nan</td>\n",
       "      <td>nan</td>\n",
       "    </tr>\n",
       "    <tr>\n",
       "      <td>3</td>\n",
       "      <td>0000a43bce5eec</td>\n",
       "      <td>95</td>\n",
       "      <td>90.000</td>\n",
       "      <td>4560.000</td>\n",
       "      <td>13539.771</td>\n",
       "      <td>119082.789</td>\n",
       "      <td>224.000</td>\n",
       "      <td>7</td>\n",
       "      <td>95</td>\n",
       "      <td>983.700</td>\n",
       "      <td>...</td>\n",
       "      <td>squad</td>\n",
       "      <td>0.000</td>\n",
       "      <td>119.000</td>\n",
       "      <td>23.400</td>\n",
       "      <td>1118.100</td>\n",
       "      <td>1.000</td>\n",
       "      <td>12.000</td>\n",
       "      <td>nan</td>\n",
       "      <td>nan</td>\n",
       "      <td>nan</td>\n",
       "    </tr>\n",
       "    <tr>\n",
       "      <td>4</td>\n",
       "      <td>0000a43bce5eec</td>\n",
       "      <td>95</td>\n",
       "      <td>90.000</td>\n",
       "      <td>4560.000</td>\n",
       "      <td>13539.771</td>\n",
       "      <td>119082.789</td>\n",
       "      <td>224.000</td>\n",
       "      <td>7</td>\n",
       "      <td>95</td>\n",
       "      <td>983.700</td>\n",
       "      <td>...</td>\n",
       "      <td>squad</td>\n",
       "      <td>6.000</td>\n",
       "      <td>28.000</td>\n",
       "      <td>681.900</td>\n",
       "      <td>6585.000</td>\n",
       "      <td>9.000</td>\n",
       "      <td>nan</td>\n",
       "      <td>1.000</td>\n",
       "      <td>nan</td>\n",
       "      <td>nan</td>\n",
       "    </tr>\n",
       "  </tbody>\n",
       "</table>\n",
       "<p>5 rows × 28 columns</p>\n",
       "</div>"
      ],
      "text/plain": [
       "          matchId  m.players  m.sum.kills  m.sum.killPlace  m.sum.damageDealt  \\\n",
       "0  0000a43bce5eec         95       90.000         4560.000          13539.771   \n",
       "1  0000a43bce5eec         95       90.000         4560.000          13539.771   \n",
       "2  0000a43bce5eec         95       90.000         4560.000          13539.771   \n",
       "3  0000a43bce5eec         95       90.000         4560.000          13539.771   \n",
       "4  0000a43bce5eec         95       90.000         4560.000          13539.771   \n",
       "\n",
       "   m.sum.walkDistance  m.sum._healthItems  m.max.kills  m.max.killPlace  \\\n",
       "0          119082.789             224.000            7               95   \n",
       "1          119082.789             224.000            7               95   \n",
       "2          119082.789             224.000            7               95   \n",
       "3          119082.789             224.000            7               95   \n",
       "4          119082.789             224.000            7               95   \n",
       "\n",
       "   m.max.damageDealt  ...  matchType  sum.kills  sum.killPlace  \\\n",
       "0            983.700  ...      squad      2.000         82.000   \n",
       "1            983.700  ...      squad      0.000        543.000   \n",
       "2            983.700  ...      squad      0.000        189.000   \n",
       "3            983.700  ...      squad      0.000        119.000   \n",
       "4            983.700  ...      squad      6.000         28.000   \n",
       "\n",
       "   sum.damageDealt  sum.walkDistance  sum._healthItems  kills_0_Place  \\\n",
       "0          219.350           263.370             2.000         13.000   \n",
       "1          287.930           119.591             0.000         21.000   \n",
       "2            0.000             9.636             0.000         22.000   \n",
       "3           23.400          1118.100             1.000         12.000   \n",
       "4          681.900          6585.000             9.000            nan   \n",
       "\n",
       "  kills_1_Place kills_2_Place  kills_3_Place  \n",
       "0           nan         6.000            nan  \n",
       "1           nan           nan            nan  \n",
       "2           nan           nan            nan  \n",
       "3           nan           nan            nan  \n",
       "4         1.000           nan            nan  \n",
       "\n",
       "[5 rows x 28 columns]"
      ]
     },
     "execution_count": 61,
     "metadata": {},
     "output_type": "execute_result"
    }
   ],
   "source": [
    "match_data.head()"
   ]
  },
  {
   "cell_type": "code",
   "execution_count": 62,
   "metadata": {
    "colab": {
     "base_uri": "https://localhost:8080/",
     "height": 52
    },
    "colab_type": "code",
    "id": "wcEW1LV3FLuR",
    "outputId": "23430499-7f27-4317-8995-1546378c63ed"
   },
   "outputs": [
    {
     "name": "stdout",
     "output_type": "stream",
     "text": [
      "Memory usage of dataframe is 911.20MB --> 591.72 MB (Decreased by 35.1%)\n",
      "(2912983, 61)\n"
     ]
    }
   ],
   "source": [
    "all_data = pd.concat([\n",
    "                      group.size().to_frame('players'),\n",
    "                      group.mean(),\n",
    "                      group[agg_col].max().rename(columns = lambda s : 'max.' +s),\n",
    "                      group[agg_col].min().rename(columns = lambda s: 'min.' +s),\n",
    "                      ], axis = 1).reset_index()\n",
    "                      \n",
    "all_data = reduce_mem_usage(all_data)\n",
    "\n",
    "print(all_data.shape)"
   ]
  },
  {
   "cell_type": "code",
   "execution_count": 63,
   "metadata": {
    "colab": {},
    "colab_type": "code",
    "id": "jUN128VpFxRb"
   },
   "outputs": [],
   "source": [
    "numcols = all_data.select_dtypes(include='number').columns.values\n",
    "numcols = numcols[numcols != 'winPlacePerc']\n"
   ]
  },
  {
   "cell_type": "code",
   "execution_count": 64,
   "metadata": {
    "colab": {
     "base_uri": "https://localhost:8080/",
     "height": 35
    },
    "colab_type": "code",
    "id": "kc2MARHDGf7T",
    "outputId": "b761146d-0fd2-4b19-8160-f712e19d91bf"
   },
   "outputs": [
    {
     "name": "stdout",
     "output_type": "stream",
     "text": [
      "(2912983, 87)\n"
     ]
    }
   ],
   "source": [
    "all_data = pd.merge(all_data, match_data)\n",
    "del match_data\n",
    "gc.collect()\n",
    "\n",
    "all_data['enemy.players'] = all_data['m.players'] - all_data['players']\n",
    "for c in sum_col:\n",
    "  all_data['p.max_msum.' + c] = all_data['max.' + c] / all_data['m.sum.' +c]\n",
    "  all_data['p.max_mmax.' + c] = all_data['max.' + c] / all_data['m.max.' +c]\n",
    "  all_data.drop(['m.sum.' + c, 'm.max.' +c], axis=1, inplace =True)\n",
    "\n",
    "fillInf(all_data, 0)\n",
    "print(all_data.shape)"
   ]
  },
  {
   "cell_type": "code",
   "execution_count": 65,
   "metadata": {
    "colab": {},
    "colab_type": "code",
    "id": "3j2LwT43HGRL"
   },
   "outputs": [
    {
     "name": "stdout",
     "output_type": "stream",
     "text": [
      "Memory usage of dataframe is 2186.32MB --> 1519.59 MB (Decreased by 30.5%)\n",
      "(2912983, 144)\n"
     ]
    }
   ],
   "source": [
    "match = all_data.groupby('matchId')\n",
    "matchRank = match[numcols].rank(pct = True).rename(columns = lambda s : 'rank.' + s)\n",
    "all_data = reduce_mem_usage(pd.concat([all_data, matchRank], axis = 1))\n",
    "rank_col = matchRank.columns \n",
    "del matchRank\n",
    "gc.collect()\n",
    "\n",
    "match = all_data.groupby('matchId')\n",
    "matchRank = match[rank_col].max().rename(columns = lambda s : 'max.' +s).reset_index()\n",
    "all_data = pd.merge(all_data, matchRank)\n",
    "for c in numcols:\n",
    "  all_data['rank.' + c] = all_data['rank.' + c] / all_data['max.rank.' + c]\n",
    "  all_data.drop(['max.rank.'+c], axis =1, inplace =True)\n",
    "del matchRank\n",
    "gc.collect()\n",
    "  \n",
    "print(all_data.shape)\n"
   ]
  },
  {
   "cell_type": "code",
   "execution_count": 66,
   "metadata": {
    "colab": {},
    "colab_type": "code",
    "id": "ifgnSf7ZIBAG"
   },
   "outputs": [
    {
     "data": {
      "text/plain": [
       "0"
      ]
     },
     "execution_count": 66,
     "metadata": {},
     "output_type": "execute_result"
    }
   ],
   "source": [
    "killMinorRank = all_data[['matchId', 'min.kills','max.killPlace']].copy()\n",
    "group = killMinorRank.groupby(['matchId', 'min.kills'])\n",
    "killMinorRank['rank.minor.maxKillPlace'] = group.rank(pct = True).values\n",
    "all_data = pd.merge(all_data, killMinorRank)\n",
    "\n",
    "killMinorRank = all_data[['matchId','max.kills','min.killPlace']].copy()\n",
    "group = killMinorRank.groupby(['matchId', 'max.kills'])\n",
    "killMinorRank['rank.minor.minKillPlace'] = group.rank(pct = True).values\n",
    "all_data = pd.merge(all_data, killMinorRank)\n",
    "del killMinorRank\n",
    "gc.collect()"
   ]
  },
  {
   "cell_type": "code",
   "execution_count": 67,
   "metadata": {},
   "outputs": [
    {
     "name": "stdout",
     "output_type": "stream",
     "text": [
      "drop columns :  ['rank.maxPlace', 'rank.numGroups']\n"
     ]
    }
   ],
   "source": [
    "constant_column = [col for col in all_data.columns if all_data[col].nunique() ==1]\n",
    "print('drop columns : ', constant_column)\n",
    "all_data.drop(constant_column, axis = 1, inplace = True)"
   ]
  },
  {
   "cell_type": "code",
   "execution_count": 68,
   "metadata": {},
   "outputs": [],
   "source": [
    "all_data['matchType'] = all_data['matchType'].apply(mapper)\n",
    "all_data = pd.concat([all_data, pd.get_dummies(all_data['matchType'])], axis = 1)\n",
    "all_data.drop(['matchType'], axis = 1, inplace = True)\n",
    "all_data['matchId'] = all_data['matchId'].apply(lambda x:int(x,16))\n",
    "all_data['groupId'] = all_data['groupId'].apply(lambda x:int(x,16))"
   ]
  },
  {
   "cell_type": "code",
   "execution_count": 69,
   "metadata": {},
   "outputs": [
    {
     "name": "stdout",
     "output_type": "stream",
     "text": [
      "winPlacePerc    886239\n",
      "dtype: int64\n"
     ]
    }
   ],
   "source": [
    "null_cnt = all_data.isnull().sum().sort_values()\n",
    "print(null_cnt[null_cnt>0])"
   ]
  },
  {
   "cell_type": "code",
   "execution_count": 70,
   "metadata": {},
   "outputs": [
    {
     "name": "stdout",
     "output_type": "stream",
     "text": [
      "Memory usage of dataframe is 1527.92MB --> 1530.70 MB (Decreased by -0.2%)\n"
     ]
    },
    {
     "data": {
      "text/html": [
       "<div>\n",
       "<style scoped>\n",
       "    .dataframe tbody tr th:only-of-type {\n",
       "        vertical-align: middle;\n",
       "    }\n",
       "\n",
       "    .dataframe tbody tr th {\n",
       "        vertical-align: top;\n",
       "    }\n",
       "\n",
       "    .dataframe thead th {\n",
       "        text-align: right;\n",
       "    }\n",
       "</style>\n",
       "<table border=\"1\" class=\"dataframe\">\n",
       "  <thead>\n",
       "    <tr style=\"text-align: right;\">\n",
       "      <th></th>\n",
       "      <th>matchId</th>\n",
       "      <th>groupId</th>\n",
       "      <th>players</th>\n",
       "      <th>assists</th>\n",
       "      <th>damageDealt</th>\n",
       "      <th>killPlace</th>\n",
       "      <th>kills</th>\n",
       "      <th>longestKill</th>\n",
       "      <th>maxPlace</th>\n",
       "      <th>numGroups</th>\n",
       "      <th>...</th>\n",
       "      <th>rank.min._totalDistance</th>\n",
       "      <th>rank.min._healthItems</th>\n",
       "      <th>rank.min._headshotKillRate</th>\n",
       "      <th>rank.min._killPlaceOverMaxPlace</th>\n",
       "      <th>rank.min._killsOverWalkDistance</th>\n",
       "      <th>rank.minor.maxKillPlace</th>\n",
       "      <th>rank.minor.minKillPlace</th>\n",
       "      <th>duo</th>\n",
       "      <th>solo</th>\n",
       "      <th>squad</th>\n",
       "    </tr>\n",
       "  </thead>\n",
       "  <tbody>\n",
       "    <tr>\n",
       "      <td>0</td>\n",
       "      <td>705378017004</td>\n",
       "      <td>6950488777545910</td>\n",
       "      <td>2</td>\n",
       "      <td>0.000</td>\n",
       "      <td>109.675</td>\n",
       "      <td>41.000</td>\n",
       "      <td>1.000</td>\n",
       "      <td>6.275</td>\n",
       "      <td>28.000</td>\n",
       "      <td>28.000</td>\n",
       "      <td>...</td>\n",
       "      <td>0.286</td>\n",
       "      <td>0.625</td>\n",
       "      <td>0.500</td>\n",
       "      <td>0.429</td>\n",
       "      <td>0.411</td>\n",
       "      <td>0.591</td>\n",
       "      <td>1.000</td>\n",
       "      <td>0.000</td>\n",
       "      <td>0.000</td>\n",
       "      <td>1.000</td>\n",
       "    </tr>\n",
       "    <tr>\n",
       "      <td>1</td>\n",
       "      <td>705378017004</td>\n",
       "      <td>9968970908074425</td>\n",
       "      <td>6</td>\n",
       "      <td>0.000</td>\n",
       "      <td>47.988</td>\n",
       "      <td>90.500</td>\n",
       "      <td>0.000</td>\n",
       "      <td>0.000</td>\n",
       "      <td>28.000</td>\n",
       "      <td>28.000</td>\n",
       "      <td>...</td>\n",
       "      <td>0.054</td>\n",
       "      <td>0.286</td>\n",
       "      <td>0.500</td>\n",
       "      <td>0.964</td>\n",
       "      <td>0.411</td>\n",
       "      <td>0.955</td>\n",
       "      <td>0.900</td>\n",
       "      <td>0.000</td>\n",
       "      <td>0.000</td>\n",
       "      <td>1.000</td>\n",
       "    </tr>\n",
       "    <tr>\n",
       "      <td>2</td>\n",
       "      <td>705378017004</td>\n",
       "      <td>16443050264754488</td>\n",
       "      <td>2</td>\n",
       "      <td>0.000</td>\n",
       "      <td>0.000</td>\n",
       "      <td>94.500</td>\n",
       "      <td>0.000</td>\n",
       "      <td>0.000</td>\n",
       "      <td>28.000</td>\n",
       "      <td>28.000</td>\n",
       "      <td>...</td>\n",
       "      <td>0.054</td>\n",
       "      <td>0.286</td>\n",
       "      <td>0.500</td>\n",
       "      <td>1.000</td>\n",
       "      <td>0.411</td>\n",
       "      <td>1.000</td>\n",
       "      <td>1.000</td>\n",
       "      <td>0.000</td>\n",
       "      <td>0.000</td>\n",
       "      <td>1.000</td>\n",
       "    </tr>\n",
       "    <tr>\n",
       "      <td>3</td>\n",
       "      <td>705378017004</td>\n",
       "      <td>21374959510965402</td>\n",
       "      <td>2</td>\n",
       "      <td>0.000</td>\n",
       "      <td>11.700</td>\n",
       "      <td>59.500</td>\n",
       "      <td>0.000</td>\n",
       "      <td>0.000</td>\n",
       "      <td>28.000</td>\n",
       "      <td>28.000</td>\n",
       "      <td>...</td>\n",
       "      <td>0.429</td>\n",
       "      <td>0.286</td>\n",
       "      <td>0.500</td>\n",
       "      <td>0.821</td>\n",
       "      <td>0.411</td>\n",
       "      <td>0.545</td>\n",
       "      <td>0.500</td>\n",
       "      <td>0.000</td>\n",
       "      <td>0.000</td>\n",
       "      <td>1.000</td>\n",
       "    </tr>\n",
       "    <tr>\n",
       "      <td>4</td>\n",
       "      <td>705378017004</td>\n",
       "      <td>21704066427752580</td>\n",
       "      <td>2</td>\n",
       "      <td>1.000</td>\n",
       "      <td>340.950</td>\n",
       "      <td>14.000</td>\n",
       "      <td>3.000</td>\n",
       "      <td>25.230</td>\n",
       "      <td>28.000</td>\n",
       "      <td>28.000</td>\n",
       "      <td>...</td>\n",
       "      <td>0.964</td>\n",
       "      <td>0.839</td>\n",
       "      <td>1.000</td>\n",
       "      <td>0.143</td>\n",
       "      <td>0.821</td>\n",
       "      <td>0.333</td>\n",
       "      <td>1.000</td>\n",
       "      <td>0.000</td>\n",
       "      <td>0.000</td>\n",
       "      <td>1.000</td>\n",
       "    </tr>\n",
       "  </tbody>\n",
       "</table>\n",
       "<p>5 rows × 146 columns</p>\n",
       "</div>"
      ],
      "text/plain": [
       "        matchId            groupId  players  assists  damageDealt  killPlace  \\\n",
       "0  705378017004   6950488777545910        2    0.000      109.675     41.000   \n",
       "1  705378017004   9968970908074425        6    0.000       47.988     90.500   \n",
       "2  705378017004  16443050264754488        2    0.000        0.000     94.500   \n",
       "3  705378017004  21374959510965402        2    0.000       11.700     59.500   \n",
       "4  705378017004  21704066427752580        2    1.000      340.950     14.000   \n",
       "\n",
       "   kills  longestKill  maxPlace  numGroups  ...  rank.min._totalDistance  \\\n",
       "0  1.000        6.275    28.000     28.000  ...                    0.286   \n",
       "1  0.000        0.000    28.000     28.000  ...                    0.054   \n",
       "2  0.000        0.000    28.000     28.000  ...                    0.054   \n",
       "3  0.000        0.000    28.000     28.000  ...                    0.429   \n",
       "4  3.000       25.230    28.000     28.000  ...                    0.964   \n",
       "\n",
       "   rank.min._healthItems  rank.min._headshotKillRate  \\\n",
       "0                  0.625                       0.500   \n",
       "1                  0.286                       0.500   \n",
       "2                  0.286                       0.500   \n",
       "3                  0.286                       0.500   \n",
       "4                  0.839                       1.000   \n",
       "\n",
       "   rank.min._killPlaceOverMaxPlace  rank.min._killsOverWalkDistance  \\\n",
       "0                            0.429                            0.411   \n",
       "1                            0.964                            0.411   \n",
       "2                            1.000                            0.411   \n",
       "3                            0.821                            0.411   \n",
       "4                            0.143                            0.821   \n",
       "\n",
       "   rank.minor.maxKillPlace  rank.minor.minKillPlace   duo  solo  squad  \n",
       "0                    0.591                    1.000 0.000 0.000  1.000  \n",
       "1                    0.955                    0.900 0.000 0.000  1.000  \n",
       "2                    1.000                    1.000 0.000 0.000  1.000  \n",
       "3                    0.545                    0.500 0.000 0.000  1.000  \n",
       "4                    0.333                    1.000 0.000 0.000  1.000  \n",
       "\n",
       "[5 rows x 146 columns]"
      ]
     },
     "execution_count": 70,
     "metadata": {},
     "output_type": "execute_result"
    }
   ],
   "source": [
    "cols = [col for col in all_data.columns if col not in ['Id', 'matchId', 'groupId']]\n",
    "for i, t in all_data.loc[:, cols].dtypes.iteritems():\n",
    "    if t == object :\n",
    "        all_data[i] = pd.factorize(all_data[i])[0]\n",
    "all_data = reduce_mem_usage(all_data)\n",
    "all_data.head()"
   ]
  },
  {
   "cell_type": "code",
   "execution_count": 71,
   "metadata": {},
   "outputs": [
    {
     "name": "stdout",
     "output_type": "stream",
     "text": [
      "(2026744, 143) (886239, 143)\n"
     ]
    }
   ],
   "source": [
    "X_train = all_data[all_data['winPlacePerc'].notnull()].reset_index(drop = True)\n",
    "X_test = all_data[all_data['winPlacePerc'].isnull()].drop(['winPlacePerc'], axis = 1).reset_index(drop=True)\n",
    "del all_data\n",
    "gc.collect()\n",
    "\n",
    "Y_train = X_train.pop('winPlacePerc')\n",
    "X_test_grp = X_test[['matchId', 'groupId']].copy()\n",
    "train_matchId = X_train['matchId']\n",
    "\n",
    "X_train.drop(['matchId', 'groupId'], axis =1, inplace = True)\n",
    "X_test.drop(['matchId', 'groupId'], axis = 1, inplace = True)\n",
    "\n",
    "print(X_train.shape, X_test.shape)"
   ]
  },
  {
   "cell_type": "code",
   "execution_count": 75,
   "metadata": {},
   "outputs": [
    {
     "name": "stdout",
     "output_type": "stream",
     "text": [
      "            name        size\n",
      "0            _73  1059987264\n",
      "1        X_train  1059987264\n",
      "2              _  1059987264\n",
      "3         X_test   463503149\n",
      "4  train_matchId    16214104\n",
      "5     X_test_grp    14179976\n",
      "6        Y_train     8107128\n",
      "7             __     8107128\n",
      "8            _72     8107128\n",
      "9            sub      389643\n"
     ]
    }
   ],
   "source": [
    "print(pd.DataFrame([[val for val in dir()], [sys.getsizeof(eval(val)) for val in dir()]], index = ['name', 'size']).T.sort_values('size', ascending = False).reset_index(drop=True)[:10])"
   ]
  },
  {
   "cell_type": "code",
   "execution_count": 80,
   "metadata": {},
   "outputs": [],
   "source": [
    "from sklearn.model_selection import GroupKFold \n",
    "from sklearn.preprocessing import minmax_scale\n",
    "import lightgbm as lgb\n",
    "\n",
    "params = {'learning_rate' : 0.05,\n",
    "         'objective' : 'mae',\n",
    "         'metrice' : 'mae',\n",
    "         'num_leavues' : 128,\n",
    "         'verbose' : 1,\n",
    "         'random_state' : 42,\n",
    "         'bagging_fraction' : 0.7,\n",
    "         'feature_fraction' : 0.7\n",
    "         }\n",
    "\n",
    "reg  =lgb.LGBMRegressor(**params, n_estimators = 10000)\n",
    "reg.fit(X_train, Y_train)\n",
    "pred = reg.predict(X_test, num_iteration = reg.best_iteration_)"
   ]
  },
  {
   "cell_type": "code",
   "execution_count": 82,
   "metadata": {},
   "outputs": [
    {
     "data": {
      "image/png": "[encoded data removed]",
      "text/plain": [
       "<Figure size 864x576 with 1 Axes>"
      ]
     },
     "metadata": {
      "needs_background": "light"
     },
     "output_type": "display_data"
    }
   ],
   "source": [
    "feature_importance = reg.feature_importances_\n",
    "feature_importance = 100.0 * (feature_importance / feature_importance.max())\n",
    "sorted_idx = np.argsort(feature_importance)\n",
    "sorted_idx = sorted_idx[len(feature_importance) - 30:]\n",
    "pos = np.arange(sorted_idx.shape[0])+.5\n",
    "\n",
    "plt.figure(figsize = (12,8))\n",
    "plt.barh(pos, feature_importance[sorted_idx], align = 'center')\n",
    "plt.yticks(pos, X_train.columns[sorted_idx])\n",
    "plt.xlabel('Relative Importance')\n",
    "plt.title('Variable Importance')\n",
    "plt.show()"
   ]
  },
  {
   "cell_type": "code",
   "execution_count": 83,
   "metadata": {},
   "outputs": [
    {
     "data": {
      "text/plain": [
       "array(['rank.max.killPlace', 'rank.minor.maxKillPlace', 'numGroups',\n",
       "       '_totalDistance', 'max.killPlacePerc', 'm.meanwalkDistance',\n",
       "       'walkDistancePerc', 'max._totalDistance', 'm.meankills',\n",
       "       'walkPerc_killsPerc', 'rank.minor.minKillPlace', 'killPlacePerc',\n",
       "       'rank.players', 'min.killsPerc', 'maxPlace', 'walkDistance',\n",
       "       'max.walkDistancePerc', 'kills_0_Place',\n",
       "       'rank.min._killsOverWalkDistance', 'min.killPlacePerc',\n",
       "       'sum.killPlace', 'max.walkPerc_killsPerc', 'm.mean_healthItems',\n",
       "       'p.max_msum.walkDistance', 'max.walkDistance',\n",
       "       'max._killPlaceOverMaxPlace', 'rank.max.walkPerc_killsPerc',\n",
       "       'm.meandamageDealt', 'rank.max.walkDistance', 'rank.min.kills',\n",
       "       'min._killPlaceOverMaxPlace', 'rank._totalDistance', 'killPlace',\n",
       "       'rank.max._totalDistance', 'killsPerc', '_killPlaceOverMaxPlace',\n",
       "       'rank.walkPerc_killsPerc', 'rank.min.longestKill',\n",
       "       'rank.walkDistance', 'kills_1_Place', 'sum.walkDistance',\n",
       "       'rank.min._healthItems', 'min.walkPerc_killsPerc',\n",
       "       'p.max_mmax.walkDistance', 'max.killPlace', 'p.max_mmax.killPlace',\n",
       "       'rank.min.assists', 'min.walkDistancePerc', 'weaponsAcquired',\n",
       "       'rank.walkDistancePerc', 'rank.kills',\n",
       "       'rank.min._headshotKillRate', 'enemy.players',\n",
       "       'rank.min.walkPerc_killsPerc', 'rank._healthItems',\n",
       "       'rank.max.killPlacePerc', 'rank.max.weaponsAcquired',\n",
       "       'p.max_msum.killPlace', 'rank.min.damageDealt', 'max.killsPerc',\n",
       "       'damageDealt', 'rank._killsOverWalkDistance',\n",
       "       'rank.min.walkDistance', 'rank.killPlace',\n",
       "       'rank._headshotKillRate', 'rank.assists', 'min._totalDistance',\n",
       "       'rank.killsPerc', 'rank.weaponsAcquired', 'players',\n",
       "       'rank.max._headshotKillRate', 'p.max_mmax.damageDealt',\n",
       "       'min.killPlace', 'rank.damageDealt', 'rank.max.assists',\n",
       "       'min.walkDistance', 'rank.max._killsOverWalkDistance',\n",
       "       'rank.max._healthItems', 'rank.max.damageDealt',\n",
       "       'rank.longestKill', 'rank.min.killPlace', 'm.players',\n",
       "       'rank.min.weaponsAcquired', 'sum.damageDealt', 'rank.max.kills',\n",
       "       'rank.teamKills', 'rank.max.teamKills', 'rank.min._totalDistance',\n",
       "       'max.damageDealt', 'kills_2_Place', 'rank.max.revives', 'kills',\n",
       "       'rank.max.longestKill', 'rank.max.walkDistancePerc',\n",
       "       'p.max_msum.damageDealt', 'rank.revives', 'rank.min.killsPerc',\n",
       "       'rank.min.revives', '_healthItems', 'max.longestKill',\n",
       "       'longestKill', 'p.max_msum.kills', 'min.damageDealt',\n",
       "       'rank.killPlacePerc', 'teamKills', 'rank.min.teamKills',\n",
       "       'p.max_msum._healthItems', 'p.max_mmax.kills',\n",
       "       'max.weaponsAcquired', 'max._killsOverWalkDistance',\n",
       "       'min._killsOverWalkDistance', 'rank.max._killPlaceOverMaxPlace',\n",
       "       '_killsOverWalkDistance', 'kills_3_Place',\n",
       "       'p.max_mmax._healthItems', 'm.meankillPlace',\n",
       "       'rank.min.walkDistancePerc', 'sum.kills', 'min.weaponsAcquired',\n",
       "       'min.longestKill', 'max.kills', 'sum._healthItems', 'assists',\n",
       "       'rank.min.killPlacePerc', 'rank.max.killsPerc',\n",
       "       '_headshotKillRate', 'revives', 'min._healthItems',\n",
       "       'max._healthItems', 'rank._killPlaceOverMaxPlace', 'duo',\n",
       "       'min.kills', 'max._headshotKillRate', 'min.assists', 'max.assists',\n",
       "       'min._headshotKillRate', 'rank.min._killPlaceOverMaxPlace',\n",
       "       'max.teamKills', 'squad', 'min.teamKills', 'max.revives', 'solo',\n",
       "       'min.revives'], dtype=object)"
      ]
     },
     "execution_count": 83,
     "metadata": {},
     "output_type": "execute_result"
    }
   ],
   "source": [
    "X_train.columns[np.argsort(-feature_importance)].values"
   ]
  },
  {
   "cell_type": "code",
   "execution_count": 85,
   "metadata": {},
   "outputs": [],
   "source": [
    "X_test_grp['_nofit.winPlacePerc'] = pred\n",
    "\n",
    "group = X_test_grp.groupby(['matchId'])\n",
    "X_test_grp['winPlacePerc'] = pred\n",
    "X_test_grp['_rank.winPlacePerc'] = group['winPlacePerc'].rank(method = 'min')\n",
    "X_test = pd.concat([X_test, X_test_grp], axis=1)"
   ]
  },
  {
   "cell_type": "code",
   "execution_count": 87,
   "metadata": {},
   "outputs": [
    {
     "name": "stderr",
     "output_type": "stream",
     "text": [
      "C:\\ProgramData\\Anaconda3\\lib\\site-packages\\ipykernel_launcher.py:4: RuntimeWarning: invalid value encountered in true_divide\n",
      "  after removing the cwd from sys.path.\n"
     ]
    }
   ],
   "source": [
    "fullgroup = (X_test['numGroups'] == X_test['maxPlace'])\n",
    "\n",
    "subset = X_test.loc[fullgroup]\n",
    "X_test.loc[fullgroup, 'winPlacePerc'] = (subset['_rank.winPlacePerc'].values -1) / (subset['maxPlace'].values -1)\n",
    "\n",
    "subset = X_test.loc[~fullgroup]\n",
    "gap = 1.0/(subset['maxPlace'].values -1)\n",
    "new_perc = np.around(subset['winPlacePerc'].values / gap)*gap\n",
    "X_test.loc[~fullgroup, 'winPlacePerc'] = new_perc\n",
    "X_test['winPlacePerc'] = X_test['winPlacePerc'].clip(lower=0, upper=1)"
   ]
  },
  {
   "cell_type": "code",
   "execution_count": 88,
   "metadata": {},
   "outputs": [
    {
     "data": {
      "text/plain": [
       "count   886239.000\n",
       "mean         0.499\n",
       "std          0.298\n",
       "min          0.000\n",
       "25%          0.239\n",
       "50%          0.500\n",
       "75%          0.762\n",
       "max          1.000\n",
       "Name: winPlacePerc, dtype: float64"
      ]
     },
     "execution_count": 88,
     "metadata": {},
     "output_type": "execute_result"
    }
   ],
   "source": [
    "X_test.loc[X_test['maxPlace'] == 0, 'winPlacePerc'] = 0\n",
    "X_test.loc[X_test['maxPlace'] == 1, 'winPlacePerc'] = 1\n",
    "X_test.loc[(X_test['maxPlace'] > 1)&(X_test['numGroups'] ==1), 'winPlacePerc'] = 0 \n",
    "X_test['winPlacePerc'].describe()"
   ]
  },
  {
   "cell_type": "code",
   "execution_count": 90,
   "metadata": {},
   "outputs": [],
   "source": [
    "test = pd.read_csv('test_V2.csv')\n",
    "test['matchId'] = test['matchId'].apply(lambda x:int(x,16))\n",
    "test['groupId'] = test['groupId'].apply(lambda x:int(x,16))\n",
    "submission = pd.merge(test, X_test[['matchId', 'groupId','winPlacePerc']])\n",
    "submission = submission[['Id', 'winPlacePerc']]\n",
    "submission.to_csv(\"submission.csv\", index=False)"
   ]
  },
  {
   "cell_type": "code",
   "execution_count": null,
   "metadata": {},
   "outputs": [],
   "source": []
  }
 ],
 "metadata": {
  "accelerator": "GPU",
  "colab": {
   "name": "Finish_Placement_Prediction.ipynb의 사본",
   "provenance": []
  },
  "kernelspec": {
   "display_name": "Python 3",
   "language": "python",
   "name": "python3"
  },
  "language_info": {
   "codemirror_mode": {
    "name": "ipython",
    "version": 3
   },
   "file_extension": ".py",
   "mimetype": "text/x-python",
   "name": "python",
   "nbconvert_exporter": "python",
   "pygments_lexer": "ipython3",
   "version": "3.7.4"
  }
 },
 "nbformat": 4,
 "nbformat_minor": 1
}
